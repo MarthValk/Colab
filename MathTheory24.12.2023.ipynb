{
  "nbformat": 4,
  "nbformat_minor": 0,
  "metadata": {
    "colab": {
      "provenance": [],
      "collapsed_sections": [
        "OUTjr4ilUb8O",
        "h35OXYYTIWr-",
        "LVFv67ZUtRVx",
        "LhylKlPXuPbS"
      ],
      "authorship_tag": "ABX9TyNtSxJqvXbyq+0h/lVBgu0Z",
      "include_colab_link": true
    },
    "kernelspec": {
      "name": "python3",
      "display_name": "Python 3"
    },
    "language_info": {
      "name": "python"
    },
    "widgets": {
      "application/vnd.jupyter.widget-state+json": {
        "e62b11a324894197be4a813937e17b5e": {
          "model_module": "@jupyter-widgets/output",
          "model_name": "OutputModel",
          "model_module_version": "1.0.0",
          "state": {
            "_dom_classes": [],
            "_model_module": "@jupyter-widgets/output",
            "_model_module_version": "1.0.0",
            "_model_name": "OutputModel",
            "_view_count": null,
            "_view_module": "@jupyter-widgets/output",
            "_view_module_version": "1.0.0",
            "_view_name": "OutputView",
            "layout": "IPY_MODEL_a552243b552b460eae2a66e9a3292974",
            "msg_id": "",
            "outputs": []
          }
        },
        "a552243b552b460eae2a66e9a3292974": {
          "model_module": "@jupyter-widgets/base",
          "model_name": "LayoutModel",
          "model_module_version": "1.2.0",
          "state": {
            "_model_module": "@jupyter-widgets/base",
            "_model_module_version": "1.2.0",
            "_model_name": "LayoutModel",
            "_view_count": null,
            "_view_module": "@jupyter-widgets/base",
            "_view_module_version": "1.2.0",
            "_view_name": "LayoutView",
            "align_content": null,
            "align_items": null,
            "align_self": null,
            "border": null,
            "bottom": null,
            "display": null,
            "flex": null,
            "flex_flow": null,
            "grid_area": null,
            "grid_auto_columns": null,
            "grid_auto_flow": null,
            "grid_auto_rows": null,
            "grid_column": null,
            "grid_gap": null,
            "grid_row": null,
            "grid_template_areas": null,
            "grid_template_columns": null,
            "grid_template_rows": null,
            "height": null,
            "justify_content": null,
            "justify_items": null,
            "left": null,
            "margin": null,
            "max_height": null,
            "max_width": null,
            "min_height": null,
            "min_width": null,
            "object_fit": null,
            "object_position": null,
            "order": null,
            "overflow": null,
            "overflow_x": null,
            "overflow_y": null,
            "padding": null,
            "right": null,
            "top": null,
            "visibility": null,
            "width": null
          }
        },
        "2033e7d3b9dc4e8abf112fb36ca5738b": {
          "model_module": "k3d",
          "model_name": "PlotModel",
          "model_module_version": "2.16.0",
          "state": {
            "_backend_version": "2.16.0",
            "_dom_classes": [],
            "_model_module": "k3d",
            "_model_module_version": "2.16.0",
            "_model_name": "PlotModel",
            "_view_count": null,
            "_view_module": "k3d",
            "_view_module_version": "2.16.0",
            "_view_name": "PlotView",
            "antialias": 3,
            "auto_rendering": true,
            "axes": [
              "x",
              "y",
              "z"
            ],
            "axes_helper": 1,
            "axes_helper_colors": [
              16711680,
              65280,
              255
            ],
            "background_color": 16777215,
            "camera": [
              98.5152,
              -60.0912,
              88.9902,
              43.4731,
              37.6014,
              31.5219,
              -0.2226,
              0.3405,
              0.9135
            ],
            "camera_animation": [],
            "camera_auto_fit": false,
            "camera_damping_factor": 0,
            "camera_fov": 60,
            "camera_mode": "trackball",
            "camera_no_pan": false,
            "camera_no_rotate": false,
            "camera_no_zoom": false,
            "camera_pan_speed": 0.3,
            "camera_rotate_speed": 1,
            "camera_zoom_speed": 1.2,
            "clipping_planes": [],
            "colorbar_object_id": -1,
            "colorbar_scientific": false,
            "custom_data": null,
            "fps": 25,
            "fps_meter": false,
            "grid": [
              -1,
              -1,
              -1,
              1,
              1,
              1
            ],
            "grid_auto_fit": true,
            "grid_color": 15132390,
            "grid_visible": false,
            "height": 512,
            "label_color": 4473924,
            "layout": "IPY_MODEL_990c3ca889a64a4bbe9e45104becc22c",
            "lighting": 1.5,
            "logarithmic_depth_buffer": true,
            "manipulate_mode": "translate",
            "menu_visibility": true,
            "minimum_fps": -1,
            "mode": "view",
            "name": null,
            "object_ids": [
              134118393909584
            ],
            "rendering_steps": 1,
            "screenshot": "",
            "screenshot_scale": 2,
            "snapshot": "",
            "snapshot_type": "full",
            "time": 0,
            "voxel_paint_color": 0
          }
        },
        "990c3ca889a64a4bbe9e45104becc22c": {
          "model_module": "@jupyter-widgets/base",
          "model_name": "LayoutModel",
          "model_module_version": "1.2.0",
          "state": {
            "_model_module": "@jupyter-widgets/base",
            "_model_module_version": "1.2.0",
            "_model_name": "LayoutModel",
            "_view_count": null,
            "_view_module": "@jupyter-widgets/base",
            "_view_module_version": "1.2.0",
            "_view_name": "LayoutView",
            "align_content": null,
            "align_items": null,
            "align_self": null,
            "border": null,
            "bottom": null,
            "display": null,
            "flex": null,
            "flex_flow": null,
            "grid_area": null,
            "grid_auto_columns": null,
            "grid_auto_flow": null,
            "grid_auto_rows": null,
            "grid_column": null,
            "grid_gap": null,
            "grid_row": null,
            "grid_template_areas": null,
            "grid_template_columns": null,
            "grid_template_rows": null,
            "height": null,
            "justify_content": null,
            "justify_items": null,
            "left": null,
            "margin": null,
            "max_height": null,
            "max_width": null,
            "min_height": null,
            "min_width": null,
            "object_fit": null,
            "object_position": null,
            "order": null,
            "overflow": null,
            "overflow_x": null,
            "overflow_y": null,
            "padding": null,
            "right": null,
            "top": null,
            "visibility": null,
            "width": null
          }
        },
        "25109d2d092649a8a9200e4776e9e8e0": {
          "model_module": "jupyter-matplotlib",
          "model_name": "MPLCanvasModel",
          "model_module_version": "^0.11",
          "state": {
            "_cursor": "default",
            "_data_url": "data:image/png;base64,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",
            "_dom_classes": [],
            "_figure_label": "Figure 62",
            "_image_mode": "full",
            "_message": "",
            "_model_module": "jupyter-matplotlib",
            "_model_module_version": "^0.11",
            "_model_name": "MPLCanvasModel",
            "_rubberband_height": 0,
            "_rubberband_width": 0,
            "_rubberband_x": 0,
            "_rubberband_y": 0,
            "_size": [
              640,
              480
            ],
            "_view_count": null,
            "_view_module": "jupyter-matplotlib",
            "_view_module_version": "^0.11",
            "_view_name": "MPLCanvasView",
            "capture_scroll": false,
            "footer_visible": true,
            "header_visible": true,
            "layout": "IPY_MODEL_4801ecfd96fd472aa06b7a5c231a7ad2",
            "pan_zoom_throttle": 33,
            "resizable": true,
            "toolbar": "IPY_MODEL_e26e6bf7ca774aedb07c5147f8725ee8",
            "toolbar_position": "left",
            "toolbar_visible": "fade-in-fade-out"
          }
        },
        "4801ecfd96fd472aa06b7a5c231a7ad2": {
          "model_module": "@jupyter-widgets/base",
          "model_name": "LayoutModel",
          "model_module_version": "1.2.0",
          "state": {
            "_model_module": "@jupyter-widgets/base",
            "_model_module_version": "1.2.0",
            "_model_name": "LayoutModel",
            "_view_count": null,
            "_view_module": "@jupyter-widgets/base",
            "_view_module_version": "1.2.0",
            "_view_name": "LayoutView",
            "align_content": null,
            "align_items": null,
            "align_self": null,
            "border": null,
            "bottom": null,
            "display": null,
            "flex": null,
            "flex_flow": null,
            "grid_area": null,
            "grid_auto_columns": null,
            "grid_auto_flow": null,
            "grid_auto_rows": null,
            "grid_column": null,
            "grid_gap": null,
            "grid_row": null,
            "grid_template_areas": null,
            "grid_template_columns": null,
            "grid_template_rows": null,
            "height": null,
            "justify_content": null,
            "justify_items": null,
            "left": null,
            "margin": null,
            "max_height": null,
            "max_width": null,
            "min_height": null,
            "min_width": null,
            "object_fit": null,
            "object_position": null,
            "order": null,
            "overflow": null,
            "overflow_x": null,
            "overflow_y": null,
            "padding": null,
            "right": null,
            "top": null,
            "visibility": null,
            "width": null
          }
        },
        "e26e6bf7ca774aedb07c5147f8725ee8": {
          "model_module": "jupyter-matplotlib",
          "model_name": "ToolbarModel",
          "model_module_version": "^0.11",
          "state": {
            "_current_action": "",
            "_dom_classes": [],
            "_model_module": "jupyter-matplotlib",
            "_model_module_version": "^0.11",
            "_model_name": "ToolbarModel",
            "_view_count": null,
            "_view_module": "jupyter-matplotlib",
            "_view_module_version": "^0.11",
            "_view_name": "ToolbarView",
            "button_style": "",
            "collapsed": true,
            "layout": "IPY_MODEL_1bdf47bfe2c840cf81351223adc162b3",
            "orientation": "vertical",
            "toolitems": [
              [
                "Home",
                "Reset original view",
                "home",
                "home"
              ],
              [
                "Back",
                "Back to previous view",
                "arrow-left",
                "back"
              ],
              [
                "Forward",
                "Forward to next view",
                "arrow-right",
                "forward"
              ],
              [
                "Pan",
                "Left button pans, Right button zooms\nx/y fixes axis, CTRL fixes aspect",
                "arrows",
                "pan"
              ],
              [
                "Zoom",
                "Zoom to rectangle\nx/y fixes axis",
                "square-o",
                "zoom"
              ],
              [
                "Download",
                "Download plot",
                "floppy-o",
                "save_figure"
              ]
            ]
          }
        },
        "1bdf47bfe2c840cf81351223adc162b3": {
          "model_module": "@jupyter-widgets/base",
          "model_name": "LayoutModel",
          "model_module_version": "1.2.0",
          "state": {
            "_model_module": "@jupyter-widgets/base",
            "_model_module_version": "1.2.0",
            "_model_name": "LayoutModel",
            "_view_count": null,
            "_view_module": "@jupyter-widgets/base",
            "_view_module_version": "1.2.0",
            "_view_name": "LayoutView",
            "align_content": null,
            "align_items": null,
            "align_self": null,
            "border": null,
            "bottom": null,
            "display": null,
            "flex": null,
            "flex_flow": null,
            "grid_area": null,
            "grid_auto_columns": null,
            "grid_auto_flow": null,
            "grid_auto_rows": null,
            "grid_column": null,
            "grid_gap": null,
            "grid_row": null,
            "grid_template_areas": null,
            "grid_template_columns": null,
            "grid_template_rows": null,
            "height": null,
            "justify_content": null,
            "justify_items": null,
            "left": null,
            "margin": null,
            "max_height": null,
            "max_width": null,
            "min_height": null,
            "min_width": null,
            "object_fit": null,
            "object_position": null,
            "order": null,
            "overflow": null,
            "overflow_x": null,
            "overflow_y": null,
            "padding": null,
            "right": null,
            "top": null,
            "visibility": null,
            "width": null
          }
        },
        "9b64e5e3ce754d7497acaa863f61a862": {
          "model_module": "@jupyter-widgets/controls",
          "model_name": "VBoxModel",
          "model_module_version": "1.5.0",
          "state": {
            "_dom_classes": [],
            "_model_module": "@jupyter-widgets/controls",
            "_model_module_version": "1.5.0",
            "_model_name": "VBoxModel",
            "_view_count": null,
            "_view_module": "@jupyter-widgets/controls",
            "_view_module_version": "1.5.0",
            "_view_name": "VBoxView",
            "box_style": "",
            "children": [
              "IPY_MODEL_0112d7219cdf4780a95e6fc87e085d60",
              "IPY_MODEL_0e41a887328a478285c3c0febd9c0bd2"
            ],
            "layout": "IPY_MODEL_23ca7c5b93cf4d76b4b27c451ae413cf"
          }
        },
        "0112d7219cdf4780a95e6fc87e085d60": {
          "model_module": "@jupyter-widgets/controls",
          "model_name": "GridBoxModel",
          "model_module_version": "1.5.0",
          "state": {
            "_dom_classes": [],
            "_model_module": "@jupyter-widgets/controls",
            "_model_module_version": "1.5.0",
            "_model_name": "GridBoxModel",
            "_view_count": null,
            "_view_module": "@jupyter-widgets/controls",
            "_view_module_version": "1.5.0",
            "_view_name": "GridBoxView",
            "box_style": "",
            "children": [
              "IPY_MODEL_73a83f2ce5f94787b2ecffdb73c60f5c",
              "IPY_MODEL_31637b32bb6248028c8261ffcb626638",
              "IPY_MODEL_9fb7099c1c41494285ab4b1e3d8826dc",
              "IPY_MODEL_d116febc0d454775ae5e86ea1baf0610",
              "IPY_MODEL_69daa4fd9ddd42fbac356dec8ae3c912",
              "IPY_MODEL_dc62f31fdd2c4ce2a18542a261f16f7a"
            ],
            "layout": "IPY_MODEL_991b0f2889934a8c8ff5fb7722f2dbac"
          }
        },
        "0e41a887328a478285c3c0febd9c0bd2": {
          "model_module": "@jupyter-widgets/controls",
          "model_name": "BoxModel",
          "model_module_version": "1.5.0",
          "state": {
            "_dom_classes": [],
            "_model_module": "@jupyter-widgets/controls",
            "_model_module_version": "1.5.0",
            "_model_name": "BoxModel",
            "_view_count": null,
            "_view_module": "@jupyter-widgets/controls",
            "_view_module_version": "1.5.0",
            "_view_name": "BoxView",
            "box_style": "",
            "children": [
              "IPY_MODEL_de5ad90503ce4aa78f84d60b0f89c3bd"
            ],
            "layout": "IPY_MODEL_58b9a32e47994303bfea8fbfc2cab5fb"
          }
        },
        "23ca7c5b93cf4d76b4b27c451ae413cf": {
          "model_module": "@jupyter-widgets/base",
          "model_name": "LayoutModel",
          "model_module_version": "1.2.0",
          "state": {
            "_model_module": "@jupyter-widgets/base",
            "_model_module_version": "1.2.0",
            "_model_name": "LayoutModel",
            "_view_count": null,
            "_view_module": "@jupyter-widgets/base",
            "_view_module_version": "1.2.0",
            "_view_name": "LayoutView",
            "align_content": null,
            "align_items": null,
            "align_self": null,
            "border": null,
            "bottom": null,
            "display": null,
            "flex": null,
            "flex_flow": null,
            "grid_area": null,
            "grid_auto_columns": null,
            "grid_auto_flow": null,
            "grid_auto_rows": null,
            "grid_column": null,
            "grid_gap": null,
            "grid_row": null,
            "grid_template_areas": null,
            "grid_template_columns": null,
            "grid_template_rows": null,
            "height": null,
            "justify_content": null,
            "justify_items": null,
            "left": null,
            "margin": null,
            "max_height": null,
            "max_width": null,
            "min_height": null,
            "min_width": null,
            "object_fit": null,
            "object_position": null,
            "order": null,
            "overflow": null,
            "overflow_x": null,
            "overflow_y": null,
            "padding": null,
            "right": null,
            "top": null,
            "visibility": null,
            "width": null
          }
        },
        "73a83f2ce5f94787b2ecffdb73c60f5c": {
          "model_module": "@jupyter-widgets/controls",
          "model_name": "FloatSliderModel",
          "model_module_version": "1.5.0",
          "state": {
            "_dom_classes": [],
            "_model_module": "@jupyter-widgets/controls",
            "_model_module_version": "1.5.0",
            "_model_name": "FloatSliderModel",
            "_view_count": null,
            "_view_module": "@jupyter-widgets/controls",
            "_view_module_version": "1.5.0",
            "_view_name": "FloatSliderView",
            "continuous_update": true,
            "description": "$x_{1}$",
            "description_tooltip": null,
            "disabled": false,
            "layout": "IPY_MODEL_523f054e942444dc8ac083386abbe331",
            "max": 10,
            "min": -10,
            "orientation": "horizontal",
            "readout": true,
            "readout_format": ".2f",
            "step": 0.5,
            "style": "IPY_MODEL_f17f558c473340eb8c5e0c519cd94875",
            "value": 1
          }
        },
        "31637b32bb6248028c8261ffcb626638": {
          "model_module": "@jupyter-widgets/controls",
          "model_name": "FloatSliderModel",
          "model_module_version": "1.5.0",
          "state": {
            "_dom_classes": [],
            "_model_module": "@jupyter-widgets/controls",
            "_model_module_version": "1.5.0",
            "_model_name": "FloatSliderModel",
            "_view_count": null,
            "_view_module": "@jupyter-widgets/controls",
            "_view_module_version": "1.5.0",
            "_view_name": "FloatSliderView",
            "continuous_update": true,
            "description": "$y_{1}$",
            "description_tooltip": null,
            "disabled": false,
            "layout": "IPY_MODEL_405047ab2fba41779c9dedd6db7e88c9",
            "max": 10,
            "min": -10,
            "orientation": "horizontal",
            "readout": true,
            "readout_format": ".2f",
            "step": 0.5,
            "style": "IPY_MODEL_e5d2d91e299f46929ba6b54b9a617a5b",
            "value": 5.5
          }
        },
        "9fb7099c1c41494285ab4b1e3d8826dc": {
          "model_module": "@jupyter-widgets/controls",
          "model_name": "FloatSliderModel",
          "model_module_version": "1.5.0",
          "state": {
            "_dom_classes": [],
            "_model_module": "@jupyter-widgets/controls",
            "_model_module_version": "1.5.0",
            "_model_name": "FloatSliderModel",
            "_view_count": null,
            "_view_module": "@jupyter-widgets/controls",
            "_view_module_version": "1.5.0",
            "_view_name": "FloatSliderView",
            "continuous_update": true,
            "description": "$x_{2}$",
            "description_tooltip": null,
            "disabled": false,
            "layout": "IPY_MODEL_3a216302fd43414da8a2eb483e251f2f",
            "max": 10,
            "min": -10,
            "orientation": "horizontal",
            "readout": true,
            "readout_format": ".2f",
            "step": 0.5,
            "style": "IPY_MODEL_f270d046e9154bcaab9795c9377a71bb",
            "value": -1
          }
        },
        "d116febc0d454775ae5e86ea1baf0610": {
          "model_module": "@jupyter-widgets/controls",
          "model_name": "FloatSliderModel",
          "model_module_version": "1.5.0",
          "state": {
            "_dom_classes": [],
            "_model_module": "@jupyter-widgets/controls",
            "_model_module_version": "1.5.0",
            "_model_name": "FloatSliderModel",
            "_view_count": null,
            "_view_module": "@jupyter-widgets/controls",
            "_view_module_version": "1.5.0",
            "_view_name": "FloatSliderView",
            "continuous_update": true,
            "description": "$y_{2}$",
            "description_tooltip": null,
            "disabled": false,
            "layout": "IPY_MODEL_7aea4cfb15904916927101d6ee515020",
            "max": 10,
            "min": -10,
            "orientation": "horizontal",
            "readout": true,
            "readout_format": ".2f",
            "step": 0.5,
            "style": "IPY_MODEL_a5d2b5c180e3458d86111f901e68efd3",
            "value": 3
          }
        },
        "69daa4fd9ddd42fbac356dec8ae3c912": {
          "model_module": "@jupyter-widgets/controls",
          "model_name": "FloatSliderModel",
          "model_module_version": "1.5.0",
          "state": {
            "_dom_classes": [],
            "_model_module": "@jupyter-widgets/controls",
            "_model_module_version": "1.5.0",
            "_model_name": "FloatSliderModel",
            "_view_count": null,
            "_view_module": "@jupyter-widgets/controls",
            "_view_module_version": "1.5.0",
            "_view_name": "FloatSliderView",
            "continuous_update": true,
            "description": "$x_{3}$",
            "description_tooltip": null,
            "disabled": false,
            "layout": "IPY_MODEL_48ac08dc522d4d07ab93fc1f196a139a",
            "max": 10,
            "min": -10,
            "orientation": "horizontal",
            "readout": true,
            "readout_format": ".2f",
            "step": 0.5,
            "style": "IPY_MODEL_b9b0a7b33efa4679b1cdbdeb875ace21",
            "value": 10
          }
        },
        "dc62f31fdd2c4ce2a18542a261f16f7a": {
          "model_module": "@jupyter-widgets/controls",
          "model_name": "FloatSliderModel",
          "model_module_version": "1.5.0",
          "state": {
            "_dom_classes": [],
            "_model_module": "@jupyter-widgets/controls",
            "_model_module_version": "1.5.0",
            "_model_name": "FloatSliderModel",
            "_view_count": null,
            "_view_module": "@jupyter-widgets/controls",
            "_view_module_version": "1.5.0",
            "_view_name": "FloatSliderView",
            "continuous_update": true,
            "description": "$y_{3}$",
            "description_tooltip": null,
            "disabled": false,
            "layout": "IPY_MODEL_4962d256208f4d14a765e3984b5b3226",
            "max": 10,
            "min": -10,
            "orientation": "horizontal",
            "readout": true,
            "readout_format": ".2f",
            "step": 0.5,
            "style": "IPY_MODEL_9a2847310a56487ca5c60e25f7967eb2",
            "value": 5
          }
        },
        "991b0f2889934a8c8ff5fb7722f2dbac": {
          "model_module": "@jupyter-widgets/base",
          "model_name": "LayoutModel",
          "model_module_version": "1.2.0",
          "state": {
            "_model_module": "@jupyter-widgets/base",
            "_model_module_version": "1.2.0",
            "_model_name": "LayoutModel",
            "_view_count": null,
            "_view_module": "@jupyter-widgets/base",
            "_view_module_version": "1.2.0",
            "_view_name": "LayoutView",
            "align_content": null,
            "align_items": null,
            "align_self": null,
            "border": null,
            "bottom": null,
            "display": null,
            "flex": null,
            "flex_flow": null,
            "grid_area": null,
            "grid_auto_columns": null,
            "grid_auto_flow": null,
            "grid_auto_rows": null,
            "grid_column": null,
            "grid_gap": null,
            "grid_row": null,
            "grid_template_areas": "\"widget001 widget004\"\n\"widget002 widget005\"\n\"widget003 widget006\"",
            "grid_template_columns": "repeat(2, 1fr)",
            "grid_template_rows": "repeat(3, 1fr)",
            "height": null,
            "justify_content": null,
            "justify_items": null,
            "left": null,
            "margin": null,
            "max_height": null,
            "max_width": null,
            "min_height": null,
            "min_width": null,
            "object_fit": null,
            "object_position": null,
            "order": null,
            "overflow": null,
            "overflow_x": null,
            "overflow_y": null,
            "padding": null,
            "right": null,
            "top": null,
            "visibility": null,
            "width": null
          }
        },
        "de5ad90503ce4aa78f84d60b0f89c3bd": {
          "model_module": "jupyter-matplotlib",
          "model_name": "MPLCanvasModel",
          "model_module_version": "^0.11",
          "state": {
            "_cursor": "default",
            "_data_url": null,
            "_dom_classes": [],
            "_figure_label": "Figure 1",
            "_image_mode": "diff",
            "_message": "",
            "_model_module": "jupyter-matplotlib",
            "_model_module_version": "^0.11",
            "_model_name": "MPLCanvasModel",
            "_rubberband_height": 0,
            "_rubberband_width": 0,
            "_rubberband_x": 0,
            "_rubberband_y": 0,
            "_size": [
              640,
              480
            ],
            "_view_count": null,
            "_view_module": "jupyter-matplotlib",
            "_view_module_version": "^0.11",
            "_view_name": "MPLCanvasView",
            "capture_scroll": false,
            "footer_visible": true,
            "header_visible": true,
            "layout": "IPY_MODEL_a5e9405d6de14e30953cab182a38ffc0",
            "pan_zoom_throttle": 33,
            "resizable": true,
            "toolbar": "IPY_MODEL_519aaeed3a4b40b9895823714fd307e4",
            "toolbar_position": "left",
            "toolbar_visible": "fade-in-fade-out"
          }
        },
        "58b9a32e47994303bfea8fbfc2cab5fb": {
          "model_module": "@jupyter-widgets/base",
          "model_name": "LayoutModel",
          "model_module_version": "1.2.0",
          "state": {
            "_model_module": "@jupyter-widgets/base",
            "_model_module_version": "1.2.0",
            "_model_name": "LayoutModel",
            "_view_count": null,
            "_view_module": "@jupyter-widgets/base",
            "_view_module_version": "1.2.0",
            "_view_name": "LayoutView",
            "align_content": null,
            "align_items": null,
            "align_self": null,
            "border": null,
            "bottom": null,
            "display": null,
            "flex": null,
            "flex_flow": null,
            "grid_area": null,
            "grid_auto_columns": null,
            "grid_auto_flow": null,
            "grid_auto_rows": null,
            "grid_column": null,
            "grid_gap": null,
            "grid_row": null,
            "grid_template_areas": null,
            "grid_template_columns": null,
            "grid_template_rows": null,
            "height": null,
            "justify_content": null,
            "justify_items": null,
            "left": null,
            "margin": null,
            "max_height": null,
            "max_width": null,
            "min_height": null,
            "min_width": null,
            "object_fit": null,
            "object_position": null,
            "order": null,
            "overflow": null,
            "overflow_x": null,
            "overflow_y": null,
            "padding": null,
            "right": null,
            "top": null,
            "visibility": null,
            "width": null
          }
        },
        "523f054e942444dc8ac083386abbe331": {
          "model_module": "@jupyter-widgets/base",
          "model_name": "LayoutModel",
          "model_module_version": "1.2.0",
          "state": {
            "_model_module": "@jupyter-widgets/base",
            "_model_module_version": "1.2.0",
            "_model_name": "LayoutModel",
            "_view_count": null,
            "_view_module": "@jupyter-widgets/base",
            "_view_module_version": "1.2.0",
            "_view_name": "LayoutView",
            "align_content": null,
            "align_items": null,
            "align_self": null,
            "border": null,
            "bottom": null,
            "display": null,
            "flex": null,
            "flex_flow": null,
            "grid_area": "widget001",
            "grid_auto_columns": null,
            "grid_auto_flow": null,
            "grid_auto_rows": null,
            "grid_column": null,
            "grid_gap": null,
            "grid_row": null,
            "grid_template_areas": null,
            "grid_template_columns": null,
            "grid_template_rows": null,
            "height": null,
            "justify_content": null,
            "justify_items": null,
            "left": null,
            "margin": null,
            "max_height": null,
            "max_width": null,
            "min_height": null,
            "min_width": null,
            "object_fit": null,
            "object_position": null,
            "order": null,
            "overflow": null,
            "overflow_x": null,
            "overflow_y": null,
            "padding": null,
            "right": null,
            "top": null,
            "visibility": null,
            "width": null
          }
        },
        "f17f558c473340eb8c5e0c519cd94875": {
          "model_module": "@jupyter-widgets/controls",
          "model_name": "SliderStyleModel",
          "model_module_version": "1.5.0",
          "state": {
            "_model_module": "@jupyter-widgets/controls",
            "_model_module_version": "1.5.0",
            "_model_name": "SliderStyleModel",
            "_view_count": null,
            "_view_module": "@jupyter-widgets/base",
            "_view_module_version": "1.2.0",
            "_view_name": "StyleView",
            "description_width": "",
            "handle_color": null
          }
        },
        "405047ab2fba41779c9dedd6db7e88c9": {
          "model_module": "@jupyter-widgets/base",
          "model_name": "LayoutModel",
          "model_module_version": "1.2.0",
          "state": {
            "_model_module": "@jupyter-widgets/base",
            "_model_module_version": "1.2.0",
            "_model_name": "LayoutModel",
            "_view_count": null,
            "_view_module": "@jupyter-widgets/base",
            "_view_module_version": "1.2.0",
            "_view_name": "LayoutView",
            "align_content": null,
            "align_items": null,
            "align_self": null,
            "border": null,
            "bottom": null,
            "display": null,
            "flex": null,
            "flex_flow": null,
            "grid_area": "widget002",
            "grid_auto_columns": null,
            "grid_auto_flow": null,
            "grid_auto_rows": null,
            "grid_column": null,
            "grid_gap": null,
            "grid_row": null,
            "grid_template_areas": null,
            "grid_template_columns": null,
            "grid_template_rows": null,
            "height": null,
            "justify_content": null,
            "justify_items": null,
            "left": null,
            "margin": null,
            "max_height": null,
            "max_width": null,
            "min_height": null,
            "min_width": null,
            "object_fit": null,
            "object_position": null,
            "order": null,
            "overflow": null,
            "overflow_x": null,
            "overflow_y": null,
            "padding": null,
            "right": null,
            "top": null,
            "visibility": null,
            "width": null
          }
        },
        "e5d2d91e299f46929ba6b54b9a617a5b": {
          "model_module": "@jupyter-widgets/controls",
          "model_name": "SliderStyleModel",
          "model_module_version": "1.5.0",
          "state": {
            "_model_module": "@jupyter-widgets/controls",
            "_model_module_version": "1.5.0",
            "_model_name": "SliderStyleModel",
            "_view_count": null,
            "_view_module": "@jupyter-widgets/base",
            "_view_module_version": "1.2.0",
            "_view_name": "StyleView",
            "description_width": "",
            "handle_color": null
          }
        },
        "3a216302fd43414da8a2eb483e251f2f": {
          "model_module": "@jupyter-widgets/base",
          "model_name": "LayoutModel",
          "model_module_version": "1.2.0",
          "state": {
            "_model_module": "@jupyter-widgets/base",
            "_model_module_version": "1.2.0",
            "_model_name": "LayoutModel",
            "_view_count": null,
            "_view_module": "@jupyter-widgets/base",
            "_view_module_version": "1.2.0",
            "_view_name": "LayoutView",
            "align_content": null,
            "align_items": null,
            "align_self": null,
            "border": null,
            "bottom": null,
            "display": null,
            "flex": null,
            "flex_flow": null,
            "grid_area": "widget003",
            "grid_auto_columns": null,
            "grid_auto_flow": null,
            "grid_auto_rows": null,
            "grid_column": null,
            "grid_gap": null,
            "grid_row": null,
            "grid_template_areas": null,
            "grid_template_columns": null,
            "grid_template_rows": null,
            "height": null,
            "justify_content": null,
            "justify_items": null,
            "left": null,
            "margin": null,
            "max_height": null,
            "max_width": null,
            "min_height": null,
            "min_width": null,
            "object_fit": null,
            "object_position": null,
            "order": null,
            "overflow": null,
            "overflow_x": null,
            "overflow_y": null,
            "padding": null,
            "right": null,
            "top": null,
            "visibility": null,
            "width": null
          }
        },
        "f270d046e9154bcaab9795c9377a71bb": {
          "model_module": "@jupyter-widgets/controls",
          "model_name": "SliderStyleModel",
          "model_module_version": "1.5.0",
          "state": {
            "_model_module": "@jupyter-widgets/controls",
            "_model_module_version": "1.5.0",
            "_model_name": "SliderStyleModel",
            "_view_count": null,
            "_view_module": "@jupyter-widgets/base",
            "_view_module_version": "1.2.0",
            "_view_name": "StyleView",
            "description_width": "",
            "handle_color": null
          }
        },
        "7aea4cfb15904916927101d6ee515020": {
          "model_module": "@jupyter-widgets/base",
          "model_name": "LayoutModel",
          "model_module_version": "1.2.0",
          "state": {
            "_model_module": "@jupyter-widgets/base",
            "_model_module_version": "1.2.0",
            "_model_name": "LayoutModel",
            "_view_count": null,
            "_view_module": "@jupyter-widgets/base",
            "_view_module_version": "1.2.0",
            "_view_name": "LayoutView",
            "align_content": null,
            "align_items": null,
            "align_self": null,
            "border": null,
            "bottom": null,
            "display": null,
            "flex": null,
            "flex_flow": null,
            "grid_area": "widget004",
            "grid_auto_columns": null,
            "grid_auto_flow": null,
            "grid_auto_rows": null,
            "grid_column": null,
            "grid_gap": null,
            "grid_row": null,
            "grid_template_areas": null,
            "grid_template_columns": null,
            "grid_template_rows": null,
            "height": null,
            "justify_content": null,
            "justify_items": null,
            "left": null,
            "margin": null,
            "max_height": null,
            "max_width": null,
            "min_height": null,
            "min_width": null,
            "object_fit": null,
            "object_position": null,
            "order": null,
            "overflow": null,
            "overflow_x": null,
            "overflow_y": null,
            "padding": null,
            "right": null,
            "top": null,
            "visibility": null,
            "width": null
          }
        },
        "a5d2b5c180e3458d86111f901e68efd3": {
          "model_module": "@jupyter-widgets/controls",
          "model_name": "SliderStyleModel",
          "model_module_version": "1.5.0",
          "state": {
            "_model_module": "@jupyter-widgets/controls",
            "_model_module_version": "1.5.0",
            "_model_name": "SliderStyleModel",
            "_view_count": null,
            "_view_module": "@jupyter-widgets/base",
            "_view_module_version": "1.2.0",
            "_view_name": "StyleView",
            "description_width": "",
            "handle_color": null
          }
        },
        "48ac08dc522d4d07ab93fc1f196a139a": {
          "model_module": "@jupyter-widgets/base",
          "model_name": "LayoutModel",
          "model_module_version": "1.2.0",
          "state": {
            "_model_module": "@jupyter-widgets/base",
            "_model_module_version": "1.2.0",
            "_model_name": "LayoutModel",
            "_view_count": null,
            "_view_module": "@jupyter-widgets/base",
            "_view_module_version": "1.2.0",
            "_view_name": "LayoutView",
            "align_content": null,
            "align_items": null,
            "align_self": null,
            "border": null,
            "bottom": null,
            "display": null,
            "flex": null,
            "flex_flow": null,
            "grid_area": "widget005",
            "grid_auto_columns": null,
            "grid_auto_flow": null,
            "grid_auto_rows": null,
            "grid_column": null,
            "grid_gap": null,
            "grid_row": null,
            "grid_template_areas": null,
            "grid_template_columns": null,
            "grid_template_rows": null,
            "height": null,
            "justify_content": null,
            "justify_items": null,
            "left": null,
            "margin": null,
            "max_height": null,
            "max_width": null,
            "min_height": null,
            "min_width": null,
            "object_fit": null,
            "object_position": null,
            "order": null,
            "overflow": null,
            "overflow_x": null,
            "overflow_y": null,
            "padding": null,
            "right": null,
            "top": null,
            "visibility": null,
            "width": null
          }
        },
        "b9b0a7b33efa4679b1cdbdeb875ace21": {
          "model_module": "@jupyter-widgets/controls",
          "model_name": "SliderStyleModel",
          "model_module_version": "1.5.0",
          "state": {
            "_model_module": "@jupyter-widgets/controls",
            "_model_module_version": "1.5.0",
            "_model_name": "SliderStyleModel",
            "_view_count": null,
            "_view_module": "@jupyter-widgets/base",
            "_view_module_version": "1.2.0",
            "_view_name": "StyleView",
            "description_width": "",
            "handle_color": null
          }
        },
        "4962d256208f4d14a765e3984b5b3226": {
          "model_module": "@jupyter-widgets/base",
          "model_name": "LayoutModel",
          "model_module_version": "1.2.0",
          "state": {
            "_model_module": "@jupyter-widgets/base",
            "_model_module_version": "1.2.0",
            "_model_name": "LayoutModel",
            "_view_count": null,
            "_view_module": "@jupyter-widgets/base",
            "_view_module_version": "1.2.0",
            "_view_name": "LayoutView",
            "align_content": null,
            "align_items": null,
            "align_self": null,
            "border": null,
            "bottom": null,
            "display": null,
            "flex": null,
            "flex_flow": null,
            "grid_area": "widget006",
            "grid_auto_columns": null,
            "grid_auto_flow": null,
            "grid_auto_rows": null,
            "grid_column": null,
            "grid_gap": null,
            "grid_row": null,
            "grid_template_areas": null,
            "grid_template_columns": null,
            "grid_template_rows": null,
            "height": null,
            "justify_content": null,
            "justify_items": null,
            "left": null,
            "margin": null,
            "max_height": null,
            "max_width": null,
            "min_height": null,
            "min_width": null,
            "object_fit": null,
            "object_position": null,
            "order": null,
            "overflow": null,
            "overflow_x": null,
            "overflow_y": null,
            "padding": null,
            "right": null,
            "top": null,
            "visibility": null,
            "width": null
          }
        },
        "9a2847310a56487ca5c60e25f7967eb2": {
          "model_module": "@jupyter-widgets/controls",
          "model_name": "SliderStyleModel",
          "model_module_version": "1.5.0",
          "state": {
            "_model_module": "@jupyter-widgets/controls",
            "_model_module_version": "1.5.0",
            "_model_name": "SliderStyleModel",
            "_view_count": null,
            "_view_module": "@jupyter-widgets/base",
            "_view_module_version": "1.2.0",
            "_view_name": "StyleView",
            "description_width": "",
            "handle_color": null
          }
        },
        "a5e9405d6de14e30953cab182a38ffc0": {
          "model_module": "@jupyter-widgets/base",
          "model_name": "LayoutModel",
          "model_module_version": "1.2.0",
          "state": {
            "_model_module": "@jupyter-widgets/base",
            "_model_module_version": "1.2.0",
            "_model_name": "LayoutModel",
            "_view_count": null,
            "_view_module": "@jupyter-widgets/base",
            "_view_module_version": "1.2.0",
            "_view_name": "LayoutView",
            "align_content": null,
            "align_items": null,
            "align_self": null,
            "border": null,
            "bottom": null,
            "display": null,
            "flex": null,
            "flex_flow": null,
            "grid_area": null,
            "grid_auto_columns": null,
            "grid_auto_flow": null,
            "grid_auto_rows": null,
            "grid_column": null,
            "grid_gap": null,
            "grid_row": null,
            "grid_template_areas": null,
            "grid_template_columns": null,
            "grid_template_rows": null,
            "height": null,
            "justify_content": null,
            "justify_items": null,
            "left": null,
            "margin": null,
            "max_height": null,
            "max_width": null,
            "min_height": null,
            "min_width": null,
            "object_fit": null,
            "object_position": null,
            "order": null,
            "overflow": null,
            "overflow_x": null,
            "overflow_y": null,
            "padding": null,
            "right": null,
            "top": null,
            "visibility": null,
            "width": null
          }
        },
        "519aaeed3a4b40b9895823714fd307e4": {
          "model_module": "jupyter-matplotlib",
          "model_name": "ToolbarModel",
          "model_module_version": "^0.11",
          "state": {
            "_current_action": "",
            "_dom_classes": [],
            "_model_module": "jupyter-matplotlib",
            "_model_module_version": "^0.11",
            "_model_name": "ToolbarModel",
            "_view_count": null,
            "_view_module": "jupyter-matplotlib",
            "_view_module_version": "^0.11",
            "_view_name": "ToolbarView",
            "button_style": "",
            "collapsed": true,
            "layout": "IPY_MODEL_b4335f5706eb45c3a3f868ff924edde7",
            "orientation": "vertical",
            "toolitems": [
              [
                "Home",
                "Reset original view",
                "home",
                "home"
              ],
              [
                "Back",
                "Back to previous view",
                "arrow-left",
                "back"
              ],
              [
                "Forward",
                "Forward to next view",
                "arrow-right",
                "forward"
              ],
              [
                "Pan",
                "Left button pans, Right button zooms\nx/y fixes axis, CTRL fixes aspect",
                "arrows",
                "pan"
              ],
              [
                "Zoom",
                "Zoom to rectangle\nx/y fixes axis",
                "square-o",
                "zoom"
              ],
              [
                "Download",
                "Download plot",
                "floppy-o",
                "save_figure"
              ]
            ]
          }
        },
        "b4335f5706eb45c3a3f868ff924edde7": {
          "model_module": "@jupyter-widgets/base",
          "model_name": "LayoutModel",
          "model_module_version": "1.2.0",
          "state": {
            "_model_module": "@jupyter-widgets/base",
            "_model_module_version": "1.2.0",
            "_model_name": "LayoutModel",
            "_view_count": null,
            "_view_module": "@jupyter-widgets/base",
            "_view_module_version": "1.2.0",
            "_view_name": "LayoutView",
            "align_content": null,
            "align_items": null,
            "align_self": null,
            "border": null,
            "bottom": null,
            "display": null,
            "flex": null,
            "flex_flow": null,
            "grid_area": null,
            "grid_auto_columns": null,
            "grid_auto_flow": null,
            "grid_auto_rows": null,
            "grid_column": null,
            "grid_gap": null,
            "grid_row": null,
            "grid_template_areas": null,
            "grid_template_columns": null,
            "grid_template_rows": null,
            "height": null,
            "justify_content": null,
            "justify_items": null,
            "left": null,
            "margin": null,
            "max_height": null,
            "max_width": null,
            "min_height": null,
            "min_width": null,
            "object_fit": null,
            "object_position": null,
            "order": null,
            "overflow": null,
            "overflow_x": null,
            "overflow_y": null,
            "padding": null,
            "right": null,
            "top": null,
            "visibility": null,
            "width": null
          }
        }
      }
    }
  },
  "cells": [
    {
      "cell_type": "markdown",
      "metadata": {
        "id": "view-in-github",
        "colab_type": "text"
      },
      "source": [
        "<a href=\"https://colab.research.google.com/github/MarthValk/Colab/blob/main/%D0%9C%D0%B0%D1%82%D0%B5%D0%BC%D0%B0%D1%82%D0%B8%D0%BA%D0%B0%D0%A2%D0%B5%D0%BE%D1%80%D0%B8%D1%8F1.ipynb\" target=\"_parent\"><img src=\"https://colab.research.google.com/assets/colab-badge.svg\" alt=\"Open In Colab\"/></a>"
      ]
    },
    {
      "cell_type": "code",
      "execution_count": null,
      "metadata": {
        "id": "rzSAvVyQZp6m"
      },
      "outputs": [],
      "source": [
        "# @title $\\large Download~ Libraries$\n",
        "try:\n",
        "    import sympy\n",
        "\n",
        "except ImportError:\n",
        "    !pip install sympy\n",
        "\n",
        "try:\n",
        "    import spb\n",
        "\n",
        "except ImportError:\n",
        "    !pip install sympy_plot_backends\n",
        "\n",
        "try:\n",
        "    import scipy\n",
        "\n",
        "except ImportError:\n",
        "    !pip install scipy\n",
        "\n",
        "try:\n",
        "    import matplotlib\n",
        "\n",
        "except ImportError:\n",
        "    !pip install matplotlib\n",
        "\n",
        "try:\n",
        "    import numpy\n",
        "\n",
        "except ImportError:\n",
        "    !pip install numpy\n",
        "\n",
        "try:\n",
        "    import ipympl\n",
        "\n",
        "except ImportError:\n",
        "    !pip install ipympl\n",
        "from google.colab import output\n",
        "output.enable_custom_widget_manager()"
      ]
    },
    {
      "cell_type": "markdown",
      "source": [
        "# $\\large \\text{Derivative}$"
      ],
      "metadata": {
        "id": "kpjPUer1DrLN"
      }
    },
    {
      "cell_type": "markdown",
      "source": [
        "$\\Large \\text{The derivative quantifies the sensitivity of change of a function's output with respect to its input.}$\n",
        "$\\Large \\text{Derivatives are a fundamental tool of calculus.} \\\\ \\Large \\text{The derivative of a function of a single variable at a chosen input value, when it exists,} \\\\ \\Large \\text{is the slope of the tangent line to the graph of the function at that point.} \\\\ \\Large \\text{The tangent line is the best linear approximation of the function near that input value.}$"
      ],
      "metadata": {
        "id": "U1GXIaOvD85E"
      }
    },
    {
      "cell_type": "markdown",
      "source": [
        "## $\\large \\text{Definition}$"
      ],
      "metadata": {
        "id": "2oVSIdfiE3go"
      }
    },
    {
      "cell_type": "markdown",
      "source": [
        "### $\\large \\text{As a limit}$\n",
        "$\\Large f'(x_0) = \\lim\\limits_{h → 0} { \\frac {f(x_0 + h) - f(x_0)} {h} }$\n",
        "$$"
      ],
      "metadata": {
        "id": "Su71hYVwFG54"
      }
    },
    {
      "cell_type": "markdown",
      "source": [
        "### $\\large \\text{Using infinitesimals}$\n",
        "$\\large \\text{I'm too lazy}$"
      ],
      "metadata": {
        "id": "JxK-nXhlF_kc"
      }
    },
    {
      "cell_type": "markdown",
      "source": [
        "## $\\large \\text{Notation}$"
      ],
      "metadata": {
        "id": "B1qYKFvSGfhV"
      }
    },
    {
      "cell_type": "markdown",
      "source": [
        "### $\\large \\text{Joseph-Louis Lagrange}$\n",
        "$\\Large \\text{Another common notation for differentiation is by using the prime mark in the symbol of a function } f(x) \\\\ \\Large \\text{This is known as prime notation, due to the Joseph-Louis Lagrange.}$\n",
        "$\\Large \\text{The first ferivative is written as } f^{\\prime} (x) \\text{, read as \"f prime of x\", or } y^{\\prime} \\text{ as \"y prime\".}$\n",
        "$\\Large \\text{Similarly, the second and the third derivatives can be written as } f'' \\text{ and } f''' \\text{, respectively.}$\n",
        "$\\Large \\text{The latter notation generalizes to yield the notation } f^{(n)} \\text{ for the } n \\text{-th derivative of } f \\text{.}$"
      ],
      "metadata": {
        "id": "1NClxG78H-M9"
      }
    },
    {
      "cell_type": "markdown",
      "source": [
        "### $\\large \\text{Leibniz notation}$\n",
        "$\\Large \\text{One common symbol for the derivative of a function is Leibniz notation.} \\\\ \\Large \\text{They are written as the quotient of two differentials } dy \\text{ and } dx \\text{, which were introduced by Gottfried Wilhelm Leibniz in 1675.}$\n",
        "$\\large f'(x) = \\frac{df}{dx} = \\frac{df}{dx}(x) \\text{ or } y' = \\frac{dy}{dx}$\n",
        "$\\large \\frac{d^2 y}{d x^2}=\\frac{d}{dx}* \\left( \\frac{dy}{dx} \\right) \\\\ \\large f^{(n)} = \\frac{d^n y}{d x^n}$"
      ],
      "metadata": {
        "id": "3OZEyng0H34b"
      }
    },
    {
      "cell_type": "markdown",
      "source": [
        "### $\\large \\text{Partial derivatives}$\n",
        "$\\Large \\text{Functions can depend upon more than one variable. A partial derivative of a function of several variables} \\\\ \\Large \\text{is its derivative with respect to one of those variables, with the others held constant. Partial derivatives} \\\\ \\Large \\text{are used in vector calculus and differential geometry. As with ordinary derivatives, multiple notations exist:} \\\\ \\Large \\text{the partial derivative of a function } f(x,y,\\dots ) \\text{ with respect to the variable } x \\text{ is variously denoted by}$\n",
        "$\\Large f_{x},~ f_{x}',~ δ_x f,~ \\frac{δ}{δx}f,~ \\frac{δf}{δx}$\\\n",
        "$\\Large ⋆ \\text{Here } δ \\text{ is a rounded } d \\text{ called the } \\textit{partial derivative symbol} \\text{.} \\\\ \\Large \\text{To distinguish it from the letter d, ∂ is sometimes pronounced \"der\", \"del\", or \"partial\" instead of \"dee\".}$"
      ],
      "metadata": {
        "id": "GEi0ehUBNgTx"
      }
    },
    {
      "cell_type": "markdown",
      "source": [
        "### $\\large \\text{Newton's notation (or dot notation)}$\n",
        "$\\Large \\text{A dot is placed over a symbol to represent a time derivative.} \\\\ \\Large \\text{If } y \\text{ is a function of } t \\text{, then the first and second derivatives can be written as } \\dot{y} \\text{ and } \\ddot{y} \\text{, respectively.}$"
      ],
      "metadata": {
        "id": "bBKhDBYVJLWM"
      }
    },
    {
      "cell_type": "markdown",
      "source": [
        "### $\\large \\text{Euler notation (} D \\text{-notation)}$\n",
        "$\\Large D \\text{-notation utilizes } D \\text{ as the differential operator.}$\n",
        "$\\large f^{(n)}(x) = D^{n}_{x}f(x)$"
      ],
      "metadata": {
        "id": "16yfOdOLJ-E7"
      }
    },
    {
      "cell_type": "markdown",
      "source": [
        "## $\\large \\text{Rules}$"
      ],
      "metadata": {
        "id": "3ETZii6qHwOz"
      }
    },
    {
      "cell_type": "markdown",
      "source": [
        "### $\\large \\text{Constant rule}$\n",
        "$\\large f(x)' = (C)' = 0$"
      ],
      "metadata": {
        "id": "tH-b8m69L5fy"
      }
    },
    {
      "cell_type": "markdown",
      "source": [],
      "metadata": {
        "id": "P0zQ2EK8Mj9b"
      }
    },
    {
      "cell_type": "markdown",
      "source": [
        "### $\\large \\text{Sum rule}$\n",
        "$\\large (nf + kg)' = nf' + kf'$"
      ],
      "metadata": {
        "id": "xOdvPQoVMIYr"
      }
    },
    {
      "cell_type": "markdown",
      "source": [],
      "metadata": {
        "id": "XUDkYeJiMk6i"
      }
    },
    {
      "cell_type": "markdown",
      "source": [
        "### $\\large \\text{Product rule}$\n",
        "$\\large (fg)' = f'g + fg'$\\\n",
        "$\\large (Cf)' = Cf'$"
      ],
      "metadata": {
        "id": "c1VgWOerMV3K"
      }
    },
    {
      "cell_type": "markdown",
      "source": [],
      "metadata": {
        "id": "ipr2urkYMlTy"
      }
    },
    {
      "cell_type": "markdown",
      "source": [
        "### $\\large \\text{Quotient rule}$\n",
        "$\\Large \\left( { \\frac{f}{g} } \\right)' = \\frac{gf' - fg'}{g^2}$"
      ],
      "metadata": {
        "id": "c6ZIsLuiMnWs"
      }
    },
    {
      "cell_type": "markdown",
      "source": [],
      "metadata": {
        "id": "b2nTMH25M5jD"
      }
    },
    {
      "cell_type": "markdown",
      "source": [
        "### $\\large \\text{Chain rule (composite functions)}$\n",
        "$\\large h'(x) = \\left( { f(g(x)) } \\right)' = f'(g(x)) ⋅ g'(x)$"
      ],
      "metadata": {
        "id": "zdEhF8oMM51q"
      }
    },
    {
      "cell_type": "markdown",
      "source": [],
      "metadata": {
        "id": "EpYscHN2Q45w"
      }
    },
    {
      "cell_type": "markdown",
      "source": [
        "## $\\large \\text{Examples}$"
      ],
      "metadata": {
        "id": "BgI8PVgeRFZA"
      }
    },
    {
      "cell_type": "code",
      "source": [],
      "metadata": {
        "id": "3XMszXQcE0S9"
      },
      "execution_count": null,
      "outputs": []
    },
    {
      "cell_type": "markdown",
      "source": [
        "# $\\large \\text{Integral}$"
      ],
      "metadata": {
        "id": "TDQCgLOFD1gd"
      }
    },
    {
      "cell_type": "markdown",
      "source": [
        "$\\Large \\text{In mathematics, an integral is the continuous analog of a sum, which is used to calculate areas,} \\\\ \\Large \\text{volumes, and their generalizations. Integration, the process of computing an integral, is one} \\\\ \\Large \\text{of the two fundamental operations of calculus, the other being differentiation. Integration started} \\\\ \\Large \\text{as a method to solve problems in mathematics and physics, such as finding the area under a curve,} \\\\ \\Large \\text{or determining displacement from velocity. Today integration is used in a wide variety of scientific fields.}$\\\n",
        "\\\n",
        "$\\Large \\text{The integrals depicted here are called definite integrals, which can be interpreted as the signed area of the region} \\\\ \\Large \\text{in the plane that is bounded by the graph of a given function between two points in the real line.} \\\\ \\Large \\text{Conventionally, areas above the horizontal axis of the plane are positive while areas below are negative.} \\\\ \\Large \\text{Integrals also refer to the concept of an antiderivative, a function whose derivative is the given function;} \\\\ \\Large \\text{in this case, they are also called indefinite integrals. The fundamental theorem of calculus relates} \\\\ \\Large \\text{definite integration to differentiation and provides a method to compute the definite integral of a function} \\\\ \\Large \\text{when its antiderivative is known; differentiation and integration are inverse operations.}$"
      ],
      "metadata": {
        "id": "kiGc9K67D8ac"
      }
    },
    {
      "cell_type": "markdown",
      "source": [
        "## $\\large \\text{Formal Definition}$"
      ],
      "metadata": {
        "id": "xdpA8dclSV4w"
      }
    },
    {
      "cell_type": "markdown",
      "source": [
        "### $\\large \\text{Riemann integral}$\n",
        "$\\Large \\text{The Riemann integral is defined in terms of Riemann sums of functions with respect to tagged partitions of an interval.} \\\\ \\Large \\text{A tagged partition of a closed interval } [a, b] \\text{ on the real line is a finite sequence}$\n",
        "$\\Large a = x_{0} \\leq t_{1} \\leq x_{1} \\leq t_{2} \\leq x_{2} \\leq \\cdots \\leq x_{n-1} \\leq t_{n} \\leq x_{n} = b.$\\\n",
        "$\\Large \\text{This partitions the interval } { \\left[ {a,~ b} \\right] } \\text{ into } {n} \\text{ sub-intervals } { \\left[ { x_{i−1},~ x_{i} } \\right] } \\text{ indexed by } {i} \\text{,} \\\\ \\Large \\text{each of which is \"tagged\" with a specific point } { t_{i} ∈ \\left[ { x_{i−1},~ x_{i} } \\right] } \\text{.} \\\\ \\Large \\text{A Riemann sum of a function f with respect to such a tagged partition is defined as}$\n",
        "$\\Large ∑\\limits^{n}_{i=1} {f(t_{i}) Δ_{i}}$\n",
        "$\\Large \\text{thus each term of the sum is the area of a rectangle with height equal to the function value} \\\\ \\Large \\text{at the chosen point of the given sub-interval, and width the same as the width of sub-interval,} \\\\ \\Large { Δ_{i} = x_{i} − x_{i−1} } \\text{. The mesh of such a tagged partition is the width of the largest sub-interval formed} \\\\ \\Large \\text{by the partition, } { \\max\\limits_{i=1⋯n}{ Δ_{i} } → 0 } \\text{. The Riemann integral of a function } {f} \\text{ over the interval } { \\left[ {a,~ b} \\right] } \\text{ is equal to } {S} \\text{ if:}$\n",
        "$\\Large \\text{For all } {ɛ \\gt 0} \\text{ there exists } {δ \\gt 0} \\text{ such that, for any tagged partition } { \\left[ {a,~ b} \\right] } \\text{ with mesh les than } δ \\text{,} \\\\ \\Large \\left| {S - ∑\\limits_{i=1}^{n} {f(t_{i}) Δ_{i}}} \\right| \\lt ɛ$\n",
        "$\\Large \\lim\\limits_{n → ∞} {∑\\limits_{i=1}^{n} {f(t_{i}) Δ_{i}}} = S$"
      ],
      "metadata": {
        "id": "hdBMR1F1SlKg"
      }
    },
    {
      "cell_type": "markdown",
      "source": [
        "## $\\large \\text{Fundamental theorem of calculus}$"
      ],
      "metadata": {
        "id": "pCrlN9OrJiJt"
      }
    },
    {
      "cell_type": "markdown",
      "source": [
        "### $\\large \\text{First theorem}$\n",
        "$\\Large \\text{Let } {f} \\text{ be a continuous real-valued function defined on a closed interval } { \\left[ {a,~ b} \\right] } \\text{. Let } {F} \\text{ be the function defined, for all } {x} \\text{ in } { \\left[ {a,~ b} \\right] } \\text{, by} \\\\ \\Large F(x) = ∫\\limits_{a}^{x} {f(t) dt} \\\\ \\Large \\text{Then, } {F} \\text{ is continuous on } { \\left[ {a,~ b} \\right] } \\text{, differentiable on the open interval } { \\left( {a,~ b} \\right) } \\text{, and} \\\\ \\Large F'(x) = f(x) \\\\ \\Large \\text{for all } {x} \\text{ in } { \\left( {a, ~ b} \\right) }$"
      ],
      "metadata": {
        "id": "ERHm48S4JsRO"
      }
    },
    {
      "cell_type": "markdown",
      "source": [
        "### $\\large \\text{Proof}$\n",
        "$\\Large a = x_{0} \\leq t_{1} \\leq x_{1} \\leq t_{2} \\leq x_{2} \\leq \\cdots \\leq x_{n-1} \\leq t_{n} \\leq x_{n} = b \\leq t_{n+1} \\leq \\lim\\limits_{ɛ → 0} {b + ɛ} = x_{n+1} \\\\ \\Large Δ_{i} = x_{i} - x_{i-1} \\\\ \\Large S(b) = \\lim\\limits_{n → ∞} { ∑\\limits_{i=1}^{n} {f(t_{i}) Δ_{i}} } \\text{, where } \\max Δ_{i} → 0 \\\\ \\Large S'(b) = \\lim\\limits_{n → ∞} { ∑\\limits_{i=1}^{n+1} { \\frac { f(t_{i}) Δ_{i} } { Δ_{i} } } - ∑\\limits_{i=1}^{n} { \\frac { f(t_{i}) Δ_{i} } { Δ_{i} } } }  = \\lim\\limits_{n → ∞} { \\frac { f(t_{n+1}) Δ_{n+1} } { Δ_{n+1} } ∑\\limits_{i=1}^{n} { \\frac { f(t_{i}) Δ_{i} - f(t_{i}) Δ_{i} } { Δ_{i} } } } = \\lim\\limits_{n → ∞} { f(t_{n+1}) } = \\lim\\limits_{ɛ → 0} { f(b + ɛ) } = f(b)$\n",
        "$\\Large S'(b) = f(b) ⇒ { \\left( { \\huge ∫ \\Large {f(x) dx} } \\right)' = f(x) } $"
      ],
      "metadata": {
        "id": "W9FPJHW1Mtmj"
      }
    },
    {
      "cell_type": "markdown",
      "source": [
        "### $\\large \\text{Second theorem}$\n",
        "$\\Large \\text{Let } {f} \\text{ be a real-valued function defined on a closed interval } { \\left[ {a,~ b} \\right] } \\text{ that admits an antiderivative } {F} \\text{ on } { \\left[ {a,~ b} \\right] } \\text{.} \\\\ \\Large \\text{That is,} {f} \\text{ and } {F} \\text{ are functions such that for all } {x} \\text{ in } { \\left[ {a,~ b} \\right] } \\text{, } \\\\ \\Large {f(x) = F'(x)} \\text{.} \\\\ \\Large \\text{if } {f} \\text{ is integrable on } { \\left[ {a,~ b} \\right] } \\text{ then } \\\\ \\Large ∫\\limits_{a}^{b} {f(x) dx} = \\Bigl[ { F(x) } \\Bigr]_{a}^{b} = \\Bigl. { F(x) } \\Bigr|_{a}^{b} = F(b) - F(a)$"
      ],
      "metadata": {
        "id": "BefxTUv4JsGd"
      }
    },
    {
      "cell_type": "markdown",
      "source": [
        "## $\\large \\text{Rules and Properties}$"
      ],
      "metadata": {
        "id": "dLhAsD5gft_k"
      }
    },
    {
      "cell_type": "markdown",
      "source": [
        "### $\\large \\text{Rules}$\n",
        "$\\huge ∫ \\! \\Large {f(x) dx} = F(x) + C$\\\n",
        "$\\Large d \\left( { \\huge ∫ \\Large {f(x) dx}} \\right) = f(x) dx$\\\n",
        "$\\huge ∫ \\Large { \\frac {dF} {dx}(x) } = F(x) + C$\\\n",
        "$\\huge ∫ \\Large {a ⋅ f(x) dx} = a \\huge ∫ \\Large {f(x) dx},~ a \\ne 0$\\\n",
        "$\\huge ∫ \\Large {(f(x) ± g(x)) dx} = \\huge ∫ \\Large { f(x) dx} ± \\huge ∫ \\Large { g(x) dx}$\\\n",
        "$\\huge ∫ \\Large {f(x)g'(x) dx} = f(x)g(x) - \\huge ∫ \\Large {f'(x)g(x) dx}$\\\n",
        "$\\Large ∫{f g} = f ∫{g} - ∫{f' (∫{g})} = f ∫{g} - f' \\iint{g} + ∫{f'' (\\iint{g})} = f ∫{g} - f' \\iint{g} + f'' \\iiint{g} - ∫{f''' (\\iiint{g})} = ... \\\\ \\Large ∫{f g} = ∑\\limits_{i=0}^{∞} { (-1)^{i} f^{(i)} (∫^{(i+1)}{g}) } \\text{ - интегрирование по частям}$\\\n",
        "$\\Large \\text{If } \\huge ∫ \\Large { f(x) dx } = F(x) + C \\text{, then } \\huge ∫ \\Large {f(u) du} = F(u) + C \\text{, where } { u = φ(x) }$\\\n",
        "$\\Large du = d(u + C)$\\\n",
        "$\\Large du = \\frac{1}{a} d(au)$\\\n",
        "$\\Large f'(x) ⋅ dx = d(f(x)) = df(x) = df$"
      ],
      "metadata": {
        "id": "rnlQVb4UUicQ"
      }
    },
    {
      "cell_type": "markdown",
      "source": [
        "### $\\large \\text{Conventions}$\n",
        "$\\Large ∫\\limits_{a}^{b} {f(x) dx} = ∫\\limits_{a}^{c} {f(x) dx} + ∫\\limits_{c}^{b} {f(x) dx} \\text{, where } c ∈ [a,~ b]$\n",
        "$\\Large ∫\\limits_{a}^{b} {f(x) dx} = - ∫\\limits_{b}^{a} {f(x) dx}$\n",
        "$\\Large ∫\\limits_{a}^{a} {f(x) dx} = 0$"
      ],
      "metadata": {
        "id": "7bKbllK4Ifq2"
      }
    },
    {
      "cell_type": "markdown",
      "source": [
        "### $\\large \\text{Improper integrals}$\n",
        "* $\\Large \\text{If the interval is unbounded, for instance at its upper end, then the improper integral} \\\\ \\Large \\text{is the limit as that endpoint goes to infinity:} \\\\ \\Large { ∫\\limits_{a}^{∞} {f(x) dx} = \\lim\\limits_{b → ∞} ∫\\limits_{a}^{b} {f(x) dx} }$\n",
        "* $\\Large \\text{If the integrand is only defined or finite on a half-open interval, for instance } { \\left( {a,~ b} \\right] } \\text{,} \\\\ \\Large \\text{then again a limit may provide a finite result:} \\\\ \\Large { ∫\\limits_{a}^{b} {f(x) dx} = \\lim\\limits_{ɛ → 0} ∫\\limits_{a+ɛ}^{b} {f(x) dx} }$\\\n",
        "$\\Large \\text{That is, the improper integral is the limit of proper integrals as one endpoint of the interval of integration} \\\\ \\Large \\text{approaches either a specified real number, or ∞, or −∞. In more complicated cases, limits are required} \\\\ \\Large \\text{at both endpoints, or at interior points.}$"
      ],
      "metadata": {
        "id": "vi964mnWM45k"
      }
    },
    {
      "cell_type": "markdown",
      "source": [
        "### $\\large \\text{Multiple integration}$\n",
        "$\\Large \\text{A function in two dimensions depends on two real variables, } {x} \\text{ and } {y} \\text{, and the integral of a function } {f} \\text{ over} \\\\ \\Large \\text{the rectangle } {R} \\text{ given as the Cartesian product of two intervals } {R = \\left[ {a,~ b} \\right] \\times \\left[ {c,~ d} \\right] } \\text{ can be written} \\\\ \\Large \\huge ∫_{\\Large R} \\Large {f(x,y) dA} \\\\ \\Large \\text{where the differential } {dA} \\text{ indicates that integration is taken with respect to area. This double integral} \\\\ \\Large \\text{can be defined using Riemann sums, and represents the (signed) volume under the graph of } {z = f(x,y)} \\\\ \\Large \\text{over the domain } {R} \\text{. Under suitable conditions (e.g., if f is continuous), Fubini's theorem states that this} \\\\ \\Large \\text{integral can be expressed as an equivalent iterated integral} \\\\ \\huge ∫\\limits_{a}^{b} { \\left[ { ∫\\limits_{c}^{d} \\Large {f(x, y) dy} } \\right] \\Large dx }. \\\\ \\Large \\text{This reduces the problem of computing a double integral to computing one-dimensional integrals.} \\\\ \\Large \\text{Because of this, another notation for the integral over R uses a double integral sign:} \\\\ \\Large \\huge \\iint_{\\Large R} \\Large {f(x, y) dA}$\n",
        "$\\Large \\huge{∫_{\\Large R}} \\Large {f(x,y) dA} = \\huge \\iint_{\\Large R} \\Large {f(x, y) dA} = \\huge ∫\\limits_{a}^{b} { \\left[ { ∫\\limits_{c}^{d} \\Large {f(x, y) dy} } \\right] \\Large dx }$"
      ],
      "metadata": {
        "id": "XMzJ82AIPnhU"
      }
    },
    {
      "cell_type": "markdown",
      "source": [
        "### $\\large \\text{Linearity}$\n",
        "$\\Large f ↦ ∫\\limits_{a}^{b} {f(x) dx}$\\\n",
        "$\\Large ∫\\limits_{a}^{b} {(af + bg)(x) dx} = a ∫\\limits_{a}^{b} {f(x) dx} + b ∫\\limits_{a}^{b} {g(x) dx}$"
      ],
      "metadata": {
        "id": "TwJZSe1UgCaJ"
      }
    },
    {
      "cell_type": "markdown",
      "source": [
        "### $\\large \\text{Inequalities}$\n",
        "* $\\Large \\textit{Upper and lower bounds.} \\text{ An integrable function } {f} \\text{ on } { \\left[ {a,~ b} \\right] } \\text{, is necessarily bounded on that interval.} \\\\ \\Large \\text{Thus there are real numbers } {m} \\text{ and } {M} \\text{ so that } {m ≤ f (x) ≤ M} \\text{ for all } {x} \\text{ in } { \\left[ {a,~ b} \\right] } \\text{. Since the lower and} \\\\ \\Large \\text{upper sums of } {f} \\text{ over } { \\left[ {a,~ b} \\right] } \\text{ are therefore bounded by, respectively, } { m(b − a) } \\text{ and } { M(b − a) } \\text{, it follows that} \\\\ \\large { m(b-a) ≤ ∫\\limits_{a}^{b} {f(x) dx} ≤ M(b-a) }$\n",
        "* $\\Large \\textit{Inequalities between functions.} \\text{ If } {f(x) ≤ g(x)} \\text{ for each } {x} \\text{ in } { \\left[ {a,~ b} \\right] } \\text{ then each of the upper and lower sums of } {f} \\\\ \\Large \\text{is bounded above by the upper and lower sums, respectively, of } {g} \\text{. Thus} \\\\ \\large ∫\\limits_{a}^{b} {f(x) dx} ≤ ∫\\limits_{a}^{b} {g(x) dx} \\\\ \\large ∫\\limits_{a}^{b} {f(x) dx} \\lt ∫\\limits_{a}^{b} {g(x) dx} \\text{, if } {f(x) \\lt g(x)} \\text{ for each } {x} \\text{ in } { \\left[ {a,~ b} \\right] }$\n",
        "* $\\Large \\textit{Subintervals.} \\text{ If } { \\left[ {c,~ d} \\right] } \\text{ is a subinterval of } { \\left[ {a,~ b} \\right] } \\text{ and } {f (x)} \\text{ is non-negative for all } {x} \\text{, then} \\\\ \\large ∫\\limits_{c}^{d} {g(x) dx} ≤ ∫\\limits_{a}^{b} {g(x) dx}$\n",
        "* $\\Large \\textit{Products and absolute values of functions.} \\text{If } {f} \\text{ and } {g} \\text{ are two functions,} \\\\ \\Large \\text{then we may consider their pointwise products and powers, and absolute values:} \\\\ \\large (fg)(x)=f(x)g(x),~ f^2(x)=(f(x))^2,~ \\left| {f} \\right|(x) = \\left| {f(x)} \\right| \\\\ \\Large \\text{If } {f} \\text{ is Riemann-integrable on } { \\left[ {a,~ b} \\right] } \\text{ then the same is true for } { \\left| {f} \\right| } \\text{, and} \\\\ \\large { \\left| { ∫\\limits_{a}^{b} {f(x) dx} } \\right| ≤ ∫\\limits_{a}^{b}} { \\left| {f(x)} \\right| dx } \\\\ \\Large \\text{Moreover, if } {f} \\text{ and } {g} \\text{ are both Riemann-integrable then } {fg} \\text{ is also Riemann-integrable, and} \\\\ \\large { \\left( {∫\\limits_{a}^{b} {(fg)(x) dx}} \\right)^2 ≤ \\left( {∫\\limits_{a}^{b} {f(x)^2 dx}} \\right) \\left( {∫\\limits_{a}^{b} {g(x)^2 dx}} \\right) }$\n",
        "* $\\Large \\textit{Hölder's inequality.} \\text{ Suppose that } {p} \\text{ and } {q} \\text{ are two real numbers, } {1 ≤ p,~ q ≤ ∞} \\text{ with } {\\frac{1}{p} + \\frac{1}{q} = 1} \\text{,} \\\\ \\Large \\text{and } {f} \\text{ and } {g} \\text{ are two Riemann-integrable functions. Then the functions } { \\left| {f} \\right|^p } \\text{ and } { \\left| {g} \\right|^q } \\text{ are also integrable} \\\\ \\Large \\text{and the following Hölder's inequality holds:} \\\\ \\Large { \\left| { ∫ {f(x)g(x) dx} } \\right| ≤ \\left( { ∫ { \\left| {f(x)} \\right|^p dx} } \\right)^{1/p} \\left( { ∫ { \\left| {g(x)} \\right|^q dx} } \\right)^{1/q} }$\n",
        "\n",
        "* $\\Large \\textit{Minkowski inequality.} \\text{ Suppose that } {p ≥ 1} \\text{ is a real number and } {f} \\text{ and } {g} \\text{ are Riemann-integrable functions.} \\\\ \\Large \\text{Then } { \\left| {f} \\right|^{p} } \\text{, } { \\left| {g} \\right|^{p} } \\text{ and } { \\left| {f + g} \\right|^p } \\text{ are also Riemann-integrable and the following Minkowski inequality holds:} \\\\ \\Large { \\left( ∫ { \\left| { f(x) + g(x) } \\right|^p dx} \\right)^{1/p} ≤ \\left( ∫ { \\left| {f(x)} \\right|^p dx} \\right)^{1/p} + \\left( ∫ { \\left| {g(x)} \\right|^p dx} \\right)^{1/p}}$"
      ],
      "metadata": {
        "id": "7JjDluYZhg8F"
      }
    },
    {
      "cell_type": "markdown",
      "source": [
        "# $\\large \\text{Cool formulas}$"
      ],
      "metadata": {
        "id": "0rdRmqjLLBla"
      }
    },
    {
      "cell_type": "markdown",
      "source": [
        "## $\\large \\text{Plot a parabola by three points in the plane}$"
      ],
      "metadata": {
        "id": "m73C0w6zXr-M"
      }
    },
    {
      "cell_type": "code",
      "source": [
        "from sympy import symbols, Eq, solve, substitution, Lambda\n",
        "from spb import plot, plot_list, prange\n",
        "a, b, c = symbols('a, b, c', real=True)\n",
        "x, y = symbols('x, y', real=True)\n",
        "x1, x2, x3 = symbols('x1:4', real=True)\n",
        "y1, y2, y3 = symbols('y1:4', real=True)\n",
        "a*b*c*x1*x2*x3*y1*y2*y3"
      ],
      "metadata": {
        "colab": {
          "base_uri": "https://localhost:8080/",
          "height": 38
        },
        "id": "vGpvj5KYLJXL",
        "outputId": "efc8dcf6-635b-4091-ee55-9f553c120586"
      },
      "execution_count": null,
      "outputs": [
        {
          "output_type": "execute_result",
          "data": {
            "text/plain": [
              "a*b*c*x1*x2*x3*y1*y2*y3"
            ],
            "text/latex": "$\\displaystyle a b c x_{1} x_{2} x_{3} y_{1} y_{2} y_{3}$"
          },
          "metadata": {},
          "execution_count": 3
        }
      ]
    },
    {
      "cell_type": "code",
      "source": [
        "f_eq = Lambda((x, y), Eq(a*x**2 + b*x + c, y))\n",
        "eq1 = f_eq(x1, y1)\n",
        "eq2 = f_eq(x2, y2)\n",
        "eq3 = f_eq(x3, y3)\n",
        "eq1, eq2, eq3"
      ],
      "metadata": {
        "colab": {
          "base_uri": "https://localhost:8080/"
        },
        "id": "gQbksYXlLxRx",
        "outputId": "1436d649-ee07-46b8-e604-814161c4dee0"
      },
      "execution_count": null,
      "outputs": [
        {
          "output_type": "execute_result",
          "data": {
            "text/plain": [
              "(Eq(a*x1**2 + b*x1 + c, y1),\n",
              " Eq(a*x2**2 + b*x2 + c, y2),\n",
              " Eq(a*x3**2 + b*x3 + c, y3))"
            ]
          },
          "metadata": {},
          "execution_count": 4
        }
      ]
    },
    {
      "cell_type": "code",
      "source": [
        "sol = solve([eq1, eq2, eq3], (a, b, c))\n",
        "sol"
      ],
      "metadata": {
        "colab": {
          "base_uri": "https://localhost:8080/"
        },
        "id": "AfOUo0QXL7EN",
        "outputId": "2b224295-dbe3-4ca1-88ac-9faf41d748be"
      },
      "execution_count": null,
      "outputs": [
        {
          "output_type": "execute_result",
          "data": {
            "text/plain": [
              "{a: (-x1*y2 + x1*y3 + x2*y1 - x2*y3 - x3*y1 + x3*y2)/(x1**2*x2 - x1**2*x3 - x1*x2**2 + x1*x3**2 + x2**2*x3 - x2*x3**2),\n",
              " b: (x1**2*y2 - x1**2*y3 - x2**2*y1 + x2**2*y3 + x3**2*y1 - x3**2*y2)/(x1**2*x2 - x1**2*x3 - x1*x2**2 + x1*x3**2 + x2**2*x3 - x2*x3**2),\n",
              " c: (x1**2*x2*y3 - x1**2*x3*y2 - x1*x2**2*y3 + x1*x3**2*y2 + x2**2*x3*y1 - x2*x3**2*y1)/(x1**2*x2 - x1**2*x3 - x1*x2**2 + x1*x3**2 + x2**2*x3 - x2*x3**2)}"
            ]
          },
          "metadata": {},
          "execution_count": 5
        }
      ]
    },
    {
      "cell_type": "markdown",
      "source": [
        "### $\\large \\text{Simplify the coefficients}$"
      ],
      "metadata": {
        "id": "TMdr5EU0RqE0"
      }
    },
    {
      "cell_type": "code",
      "source": [
        "A_ = sol[a].simplify()\n",
        "A_"
      ],
      "metadata": {
        "id": "4U5c7hH2X6qK",
        "colab": {
          "base_uri": "https://localhost:8080/",
          "height": 54
        },
        "outputId": "71da3ca5-12bf-4d4e-ad7f-ad608dddfa53"
      },
      "execution_count": null,
      "outputs": [
        {
          "output_type": "execute_result",
          "data": {
            "text/plain": [
              "(-x1*y2 + x1*y3 + x2*y1 - x2*y3 - x3*y1 + x3*y2)/(x1**2*x2 - x1**2*x3 - x1*x2**2 + x1*x3**2 + x2**2*x3 - x2*x3**2)"
            ],
            "text/latex": "$\\displaystyle \\frac{- x_{1} y_{2} + x_{1} y_{3} + x_{2} y_{1} - x_{2} y_{3} - x_{3} y_{1} + x_{3} y_{2}}{x_{1}^{2} x_{2} - x_{1}^{2} x_{3} - x_{1} x_{2}^{2} + x_{1} x_{3}^{2} + x_{2}^{2} x_{3} - x_{2} x_{3}^{2}}$"
          },
          "metadata": {},
          "execution_count": 6
        }
      ]
    },
    {
      "cell_type": "code",
      "source": [
        "A = (y1 - y2) / ( (x1 - x2)*(x2 - x3) ) - (y1 - y3) / ( (x1 - x3)*(x2 - x3) )\n",
        "A"
      ],
      "metadata": {
        "colab": {
          "base_uri": "https://localhost:8080/",
          "height": 54
        },
        "id": "rJaPPBXvMf_W",
        "outputId": "dbd8cf26-137b-4912-d30e-e350fca2fc02"
      },
      "execution_count": null,
      "outputs": [
        {
          "output_type": "execute_result",
          "data": {
            "text/plain": [
              "-(y1 - y3)/((x1 - x3)*(x2 - x3)) + (y1 - y2)/((x1 - x2)*(x2 - x3))"
            ],
            "text/latex": "$\\displaystyle - \\frac{y_{1} - y_{3}}{\\left(x_{1} - x_{3}\\right) \\left(x_{2} - x_{3}\\right)} + \\frac{y_{1} - y_{2}}{\\left(x_{1} - x_{2}\\right) \\left(x_{2} - x_{3}\\right)}$"
          },
          "metadata": {},
          "execution_count": 7
        }
      ]
    },
    {
      "cell_type": "code",
      "source": [
        "(A - A_).expand().simplify()"
      ],
      "metadata": {
        "colab": {
          "base_uri": "https://localhost:8080/",
          "height": 37
        },
        "id": "2lYHJ1edMv4V",
        "outputId": "b1dbceae-32eb-470d-c69d-9e1e18fe9974"
      },
      "execution_count": null,
      "outputs": [
        {
          "output_type": "execute_result",
          "data": {
            "text/plain": [
              "0"
            ],
            "text/latex": "$\\displaystyle 0$"
          },
          "metadata": {},
          "execution_count": 8
        }
      ]
    },
    {
      "cell_type": "code",
      "source": [
        "B_ = sol[b].simplify()\n",
        "B_"
      ],
      "metadata": {
        "colab": {
          "base_uri": "https://localhost:8080/",
          "height": 58
        },
        "id": "4V2CgP0PMIai",
        "outputId": "e198b53d-4aba-48c4-91c7-7253bac02e75"
      },
      "execution_count": null,
      "outputs": [
        {
          "output_type": "execute_result",
          "data": {
            "text/plain": [
              "(x1**2*y2 - x1**2*y3 - x2**2*y1 + x2**2*y3 + x3**2*y1 - x3**2*y2)/(x1**2*x2 - x1**2*x3 - x1*x2**2 + x1*x3**2 + x2**2*x3 - x2*x3**2)"
            ],
            "text/latex": "$\\displaystyle \\frac{x_{1}^{2} y_{2} - x_{1}^{2} y_{3} - x_{2}^{2} y_{1} + x_{2}^{2} y_{3} + x_{3}^{2} y_{1} - x_{3}^{2} y_{2}}{x_{1}^{2} x_{2} - x_{1}^{2} x_{3} - x_{1} x_{2}^{2} + x_{1} x_{3}^{2} + x_{2}^{2} x_{3} - x_{2} x_{3}^{2}}$"
          },
          "metadata": {},
          "execution_count": 9
        }
      ]
    },
    {
      "cell_type": "code",
      "source": [
        "B = ( (y1 - y3)*(x1 + x2) ) / ( (x1 - x3)*(x2 - x3) ) - ( (y1 - y2)*(x1 + x3) ) / ( (x1 - x2)*(x2 - x3) )\n",
        "B"
      ],
      "metadata": {
        "colab": {
          "base_uri": "https://localhost:8080/",
          "height": 57
        },
        "id": "qwMdLa2sM_bb",
        "outputId": "46b496fc-cf90-44fc-c952-411c2c3fa097"
      },
      "execution_count": null,
      "outputs": [
        {
          "output_type": "execute_result",
          "data": {
            "text/plain": [
              "(x1 + x2)*(y1 - y3)/((x1 - x3)*(x2 - x3)) - (x1 + x3)*(y1 - y2)/((x1 - x2)*(x2 - x3))"
            ],
            "text/latex": "$\\displaystyle \\frac{\\left(x_{1} + x_{2}\\right) \\left(y_{1} - y_{3}\\right)}{\\left(x_{1} - x_{3}\\right) \\left(x_{2} - x_{3}\\right)} - \\frac{\\left(x_{1} + x_{3}\\right) \\left(y_{1} - y_{2}\\right)}{\\left(x_{1} - x_{2}\\right) \\left(x_{2} - x_{3}\\right)}$"
          },
          "metadata": {},
          "execution_count": 10
        }
      ]
    },
    {
      "cell_type": "code",
      "source": [
        "(B - B_).expand().simplify()"
      ],
      "metadata": {
        "colab": {
          "base_uri": "https://localhost:8080/",
          "height": 37
        },
        "id": "wFDT4eKBNiu7",
        "outputId": "e618f7de-94aa-45ab-f85b-cb02190525e2"
      },
      "execution_count": null,
      "outputs": [
        {
          "output_type": "execute_result",
          "data": {
            "text/plain": [
              "0"
            ],
            "text/latex": "$\\displaystyle 0$"
          },
          "metadata": {},
          "execution_count": 11
        }
      ]
    },
    {
      "cell_type": "code",
      "source": [
        "C_ = sol[c].simplify()\n",
        "C_"
      ],
      "metadata": {
        "colab": {
          "base_uri": "https://localhost:8080/",
          "height": 58
        },
        "id": "06dRAi0nMI_s",
        "outputId": "933ec2dd-24ae-4e2e-d587-1a8bbfe2724d"
      },
      "execution_count": null,
      "outputs": [
        {
          "output_type": "execute_result",
          "data": {
            "text/plain": [
              "(x1**2*x2*y3 - x1**2*x3*y2 - x1*x2**2*y3 + x1*x3**2*y2 + x2**2*x3*y1 - x2*x3**2*y1)/(x1**2*x2 - x1**2*x3 - x1*x2**2 + x1*x3**2 + x2**2*x3 - x2*x3**2)"
            ],
            "text/latex": "$\\displaystyle \\frac{x_{1}^{2} x_{2} y_{3} - x_{1}^{2} x_{3} y_{2} - x_{1} x_{2}^{2} y_{3} + x_{1} x_{3}^{2} y_{2} + x_{2}^{2} x_{3} y_{1} - x_{2} x_{3}^{2} y_{1}}{x_{1}^{2} x_{2} - x_{1}^{2} x_{3} - x_{1} x_{2}^{2} + x_{1} x_{3}^{2} + x_{2}^{2} x_{3} - x_{2} x_{3}^{2}}$"
          },
          "metadata": {},
          "execution_count": 12
        }
      ]
    },
    {
      "cell_type": "code",
      "source": [
        "C = y1 - A*x**2 - B*x\n",
        "C"
      ],
      "metadata": {
        "colab": {
          "base_uri": "https://localhost:8080/",
          "height": 58
        },
        "id": "HvUYxmdvNmzd",
        "outputId": "63136f0e-696d-44f9-c07e-7aae805bdfb4"
      },
      "execution_count": null,
      "outputs": [
        {
          "output_type": "execute_result",
          "data": {
            "text/plain": [
              "-x**2*(-(y1 - y3)/((x1 - x3)*(x2 - x3)) + (y1 - y2)/((x1 - x2)*(x2 - x3))) - x*((x1 + x2)*(y1 - y3)/((x1 - x3)*(x2 - x3)) - (x1 + x3)*(y1 - y2)/((x1 - x2)*(x2 - x3))) + y1"
            ],
            "text/latex": "$\\displaystyle - x^{2} \\left(- \\frac{y_{1} - y_{3}}{\\left(x_{1} - x_{3}\\right) \\left(x_{2} - x_{3}\\right)} + \\frac{y_{1} - y_{2}}{\\left(x_{1} - x_{2}\\right) \\left(x_{2} - x_{3}\\right)}\\right) - x \\left(\\frac{\\left(x_{1} + x_{2}\\right) \\left(y_{1} - y_{3}\\right)}{\\left(x_{1} - x_{3}\\right) \\left(x_{2} - x_{3}\\right)} - \\frac{\\left(x_{1} + x_{3}\\right) \\left(y_{1} - y_{2}\\right)}{\\left(x_{1} - x_{2}\\right) \\left(x_{2} - x_{3}\\right)}\\right) + y_{1}$"
          },
          "metadata": {},
          "execution_count": 13
        }
      ]
    },
    {
      "cell_type": "code",
      "source": [
        "str(C)"
      ],
      "metadata": {
        "colab": {
          "base_uri": "https://localhost:8080/",
          "height": 35
        },
        "id": "1-3ajjhlPu1b",
        "outputId": "e4584aaa-868e-4d2f-88ee-b5821c6f327f"
      },
      "execution_count": null,
      "outputs": [
        {
          "output_type": "execute_result",
          "data": {
            "text/plain": [
              "'-x**2*(-(y1 - y3)/((x1 - x3)*(x2 - x3)) + (y1 - y2)/((x1 - x2)*(x2 - x3))) - x*((x1 + x2)*(y1 - y3)/((x1 - x3)*(x2 - x3)) - (x1 + x3)*(y1 - y2)/((x1 - x2)*(x2 - x3))) + y1'"
            ],
            "application/vnd.google.colaboratory.intrinsic+json": {
              "type": "string"
            }
          },
          "metadata": {},
          "execution_count": 14
        }
      ]
    },
    {
      "cell_type": "code",
      "source": [
        "-x/(x2 - x3)*(x*(-(y1 - y3)/(x1 - x3) + (y1 - y2)/(x1 - x2)) + ((x1 + x2)*(y1 - y3)/(x1 - x3) - (x1 + x3)*(y1 - y2)/(x1 - x2))) + y1"
      ],
      "metadata": {
        "colab": {
          "base_uri": "https://localhost:8080/",
          "height": 68
        },
        "id": "3eh6genFP6t5",
        "outputId": "14bdce08-bb9d-413b-b662-3a33ba7155fe"
      },
      "execution_count": null,
      "outputs": [
        {
          "output_type": "execute_result",
          "data": {
            "text/plain": [
              "-x*(x*((-y1 + y3)/(x1 - x3) + (y1 - y2)/(x1 - x2)) + (x1 + x2)*(y1 - y3)/(x1 - x3) - (x1 + x3)*(y1 - y2)/(x1 - x2))/(x2 - x3) + y1"
            ],
            "text/latex": "$\\displaystyle - \\frac{x \\left(x \\left(\\frac{- y_{1} + y_{3}}{x_{1} - x_{3}} + \\frac{y_{1} - y_{2}}{x_{1} - x_{2}}\\right) + \\frac{\\left(x_{1} + x_{2}\\right) \\left(y_{1} - y_{3}\\right)}{x_{1} - x_{3}} - \\frac{\\left(x_{1} + x_{3}\\right) \\left(y_{1} - y_{2}\\right)}{x_{1} - x_{2}}\\right)}{x_{2} - x_{3}} + y_{1}$"
          },
          "metadata": {},
          "execution_count": 15
        }
      ]
    },
    {
      "cell_type": "code",
      "source": [
        "expr1 = -(y1 - y3)/(x1 - x3) + (y1 - y2)/(x1 - x2)\n",
        "expr1"
      ],
      "metadata": {
        "colab": {
          "base_uri": "https://localhost:8080/",
          "height": 53
        },
        "id": "gxP_FAKIQjiZ",
        "outputId": "f1599116-0e4e-4415-9808-5c94447583da"
      },
      "execution_count": null,
      "outputs": [
        {
          "output_type": "execute_result",
          "data": {
            "text/plain": [
              "(-y1 + y3)/(x1 - x3) + (y1 - y2)/(x1 - x2)"
            ],
            "text/latex": "$\\displaystyle \\frac{- y_{1} + y_{3}}{x_{1} - x_{3}} + \\frac{y_{1} - y_{2}}{x_{1} - x_{2}}$"
          },
          "metadata": {},
          "execution_count": 16
        }
      ]
    },
    {
      "cell_type": "code",
      "source": [
        "expr1 = expr1.simplify()\n",
        "expr1"
      ],
      "metadata": {
        "colab": {
          "base_uri": "https://localhost:8080/",
          "height": 57
        },
        "id": "--jOue6RQpRh",
        "outputId": "9eb14c4b-e752-4775-fb3c-9d2b6fcdeb72"
      },
      "execution_count": null,
      "outputs": [
        {
          "output_type": "execute_result",
          "data": {
            "text/plain": [
              "((x1 - x2)*(-y1 + y3) + (x1 - x3)*(y1 - y2))/((x1 - x2)*(x1 - x3))"
            ],
            "text/latex": "$\\displaystyle \\frac{\\left(x_{1} - x_{2}\\right) \\left(- y_{1} + y_{3}\\right) + \\left(x_{1} - x_{3}\\right) \\left(y_{1} - y_{2}\\right)}{\\left(x_{1} - x_{2}\\right) \\left(x_{1} - x_{3}\\right)}$"
          },
          "metadata": {},
          "execution_count": 17
        }
      ]
    },
    {
      "cell_type": "code",
      "source": [
        "expr2 = ((x1 + x2)*(y1 - y3)/(x1 - x3) - (x1 + x3)*(y1 - y2)/(x1 - x2))\n",
        "expr2"
      ],
      "metadata": {
        "colab": {
          "base_uri": "https://localhost:8080/",
          "height": 55
        },
        "id": "yBQEEuH2Qup0",
        "outputId": "f738b28d-0ccd-45b7-fee7-09e66658b496"
      },
      "execution_count": null,
      "outputs": [
        {
          "output_type": "execute_result",
          "data": {
            "text/plain": [
              "(x1 + x2)*(y1 - y3)/(x1 - x3) - (x1 + x3)*(y1 - y2)/(x1 - x2)"
            ],
            "text/latex": "$\\displaystyle \\frac{\\left(x_{1} + x_{2}\\right) \\left(y_{1} - y_{3}\\right)}{x_{1} - x_{3}} - \\frac{\\left(x_{1} + x_{3}\\right) \\left(y_{1} - y_{2}\\right)}{x_{1} - x_{2}}$"
          },
          "metadata": {},
          "execution_count": 18
        }
      ]
    },
    {
      "cell_type": "code",
      "source": [
        "expr2 = expr2.simplify()\n",
        "expr2"
      ],
      "metadata": {
        "colab": {
          "base_uri": "https://localhost:8080/",
          "height": 57
        },
        "id": "y4ds6pe-Q1Im",
        "outputId": "4ac6ce81-6121-438f-dc78-509c6f1decbd"
      },
      "execution_count": null,
      "outputs": [
        {
          "output_type": "execute_result",
          "data": {
            "text/plain": [
              "((x1 - x2)*(x1 + x2)*(y1 - y3) - (x1 - x3)*(x1 + x3)*(y1 - y2))/((x1 - x2)*(x1 - x3))"
            ],
            "text/latex": "$\\displaystyle \\frac{\\left(x_{1} - x_{2}\\right) \\left(x_{1} + x_{2}\\right) \\left(y_{1} - y_{3}\\right) - \\left(x_{1} - x_{3}\\right) \\left(x_{1} + x_{3}\\right) \\left(y_{1} - y_{2}\\right)}{\\left(x_{1} - x_{2}\\right) \\left(x_{1} - x_{3}\\right)}$"
          },
          "metadata": {},
          "execution_count": 19
        }
      ]
    },
    {
      "cell_type": "code",
      "source": [
        "C = -x/(x2 - x3)*( x*expr1 + expr2 ) + y1\n",
        "C"
      ],
      "metadata": {
        "colab": {
          "base_uri": "https://localhost:8080/",
          "height": 68
        },
        "id": "mcP7kry1Q-Kx",
        "outputId": "4da9e647-1d1d-4b10-e779-6d2257559188"
      },
      "execution_count": null,
      "outputs": [
        {
          "output_type": "execute_result",
          "data": {
            "text/plain": [
              "-x*(x*((x1 - x2)*(-y1 + y3) + (x1 - x3)*(y1 - y2))/((x1 - x2)*(x1 - x3)) + ((x1 - x2)*(x1 + x2)*(y1 - y3) - (x1 - x3)*(x1 + x3)*(y1 - y2))/((x1 - x2)*(x1 - x3)))/(x2 - x3) + y1"
            ],
            "text/latex": "$\\displaystyle - \\frac{x \\left(\\frac{x \\left(\\left(x_{1} - x_{2}\\right) \\left(- y_{1} + y_{3}\\right) + \\left(x_{1} - x_{3}\\right) \\left(y_{1} - y_{2}\\right)\\right)}{\\left(x_{1} - x_{2}\\right) \\left(x_{1} - x_{3}\\right)} + \\frac{\\left(x_{1} - x_{2}\\right) \\left(x_{1} + x_{2}\\right) \\left(y_{1} - y_{3}\\right) - \\left(x_{1} - x_{3}\\right) \\left(x_{1} + x_{3}\\right) \\left(y_{1} - y_{2}\\right)}{\\left(x_{1} - x_{2}\\right) \\left(x_{1} - x_{3}\\right)}\\right)}{x_{2} - x_{3}} + y_{1}$"
          },
          "metadata": {},
          "execution_count": 20
        }
      ]
    },
    {
      "cell_type": "code",
      "source": [
        "str(C)"
      ],
      "metadata": {
        "colab": {
          "base_uri": "https://localhost:8080/",
          "height": 35
        },
        "id": "MY9qM-14RMDA",
        "outputId": "ebdde80c-c568-40ae-bc4f-eaf00f9362ee"
      },
      "execution_count": null,
      "outputs": [
        {
          "output_type": "execute_result",
          "data": {
            "text/plain": [
              "'-x*(x*((x1 - x2)*(-y1 + y3) + (x1 - x3)*(y1 - y2))/((x1 - x2)*(x1 - x3)) + ((x1 - x2)*(x1 + x2)*(y1 - y3) - (x1 - x3)*(x1 + x3)*(y1 - y2))/((x1 - x2)*(x1 - x3)))/(x2 - x3) + y1'"
            ],
            "application/vnd.google.colaboratory.intrinsic+json": {
              "type": "string"
            }
          },
          "metadata": {},
          "execution_count": 21
        }
      ]
    },
    {
      "cell_type": "code",
      "source": [
        "-x*(x*((x1 - x2)*(-y1 + y3) + (x1 - x3)*(y1 - y2))/((x1 - x2)*(x1 - x3)) + ((x1 - x2)*(x1 + x2)*(y1 - y3) - (x1 - x3)*(x1 + x3)*(y1 - y2))/((x1 - x2)*(x1 - x3)))/(x2 - x3) + y1"
      ],
      "metadata": {
        "colab": {
          "base_uri": "https://localhost:8080/",
          "height": 68
        },
        "id": "DhO7K3ytRHDQ",
        "outputId": "5774a9a4-48a6-4f6b-d3bc-e26ac1ac07f1"
      },
      "execution_count": null,
      "outputs": [
        {
          "output_type": "execute_result",
          "data": {
            "text/plain": [
              "-x*(x*((x1 - x2)*(-y1 + y3) + (x1 - x3)*(y1 - y2))/((x1 - x2)*(x1 - x3)) + ((x1 - x2)*(x1 + x2)*(y1 - y3) - (x1 - x3)*(x1 + x3)*(y1 - y2))/((x1 - x2)*(x1 - x3)))/(x2 - x3) + y1"
            ],
            "text/latex": "$\\displaystyle - \\frac{x \\left(\\frac{x \\left(\\left(x_{1} - x_{2}\\right) \\left(- y_{1} + y_{3}\\right) + \\left(x_{1} - x_{3}\\right) \\left(y_{1} - y_{2}\\right)\\right)}{\\left(x_{1} - x_{2}\\right) \\left(x_{1} - x_{3}\\right)} + \\frac{\\left(x_{1} - x_{2}\\right) \\left(x_{1} + x_{2}\\right) \\left(y_{1} - y_{3}\\right) - \\left(x_{1} - x_{3}\\right) \\left(x_{1} + x_{3}\\right) \\left(y_{1} - y_{2}\\right)}{\\left(x_{1} - x_{2}\\right) \\left(x_{1} - x_{3}\\right)}\\right)}{x_{2} - x_{3}} + y_{1}$"
          },
          "metadata": {},
          "execution_count": 22
        }
      ]
    },
    {
      "cell_type": "code",
      "source": [
        "C = -x/( (x1 - x2)*(x1 - x3)*(x2 - x3) )*( x*((x1 - x2)*(-y1 + y3) + (x1 - x3)*(y1 - y2)) +  (x1 - x2)*(x1 + x2)*(y1 - y3) - (x1 - x3)*(x1 + x3)*(y1 - y2) ) + y1\n",
        "C"
      ],
      "metadata": {
        "colab": {
          "base_uri": "https://localhost:8080/",
          "height": 57
        },
        "id": "jvMRl0CtROu7",
        "outputId": "69b0b53f-e124-496d-c53e-44b9d010f852"
      },
      "execution_count": null,
      "outputs": [
        {
          "output_type": "execute_result",
          "data": {
            "text/plain": [
              "-x*(x*((x1 - x2)*(-y1 + y3) + (x1 - x3)*(y1 - y2)) + (x1 - x2)*(x1 + x2)*(y1 - y3) - (x1 - x3)*(x1 + x3)*(y1 - y2))/((x1 - x2)*(x1 - x3)*(x2 - x3)) + y1"
            ],
            "text/latex": "$\\displaystyle - \\frac{x \\left(x \\left(\\left(x_{1} - x_{2}\\right) \\left(- y_{1} + y_{3}\\right) + \\left(x_{1} - x_{3}\\right) \\left(y_{1} - y_{2}\\right)\\right) + \\left(x_{1} - x_{2}\\right) \\left(x_{1} + x_{2}\\right) \\left(y_{1} - y_{3}\\right) - \\left(x_{1} - x_{3}\\right) \\left(x_{1} + x_{3}\\right) \\left(y_{1} - y_{2}\\right)\\right)}{\\left(x_{1} - x_{2}\\right) \\left(x_{1} - x_{3}\\right) \\left(x_{2} - x_{3}\\right)} + y_{1}$"
          },
          "metadata": {},
          "execution_count": 23
        }
      ]
    },
    {
      "cell_type": "code",
      "source": [
        "expr1 = -x**2*((x1 - x2)*(-y1 + y3))/( (x1 - x2)*(x1 - x3)*(x2 - x3) ) - x**2*((x1 - x3)*(y1 - y2))/( (x1 - x2)*(x1 - x3)*(x2 - x3) )\n",
        "expr1"
      ],
      "metadata": {
        "colab": {
          "base_uri": "https://localhost:8080/",
          "height": 58
        },
        "id": "MSl2VOgWTnkF",
        "outputId": "4554e416-8d9a-4958-ab18-812a0e0616f5"
      },
      "execution_count": null,
      "outputs": [
        {
          "output_type": "execute_result",
          "data": {
            "text/plain": [
              "-x**2*(-y1 + y3)/((x1 - x3)*(x2 - x3)) - x**2*(y1 - y2)/((x1 - x2)*(x2 - x3))"
            ],
            "text/latex": "$\\displaystyle - \\frac{x^{2} \\left(- y_{1} + y_{3}\\right)}{\\left(x_{1} - x_{3}\\right) \\left(x_{2} - x_{3}\\right)} - \\frac{x^{2} \\left(y_{1} - y_{2}\\right)}{\\left(x_{1} - x_{2}\\right) \\left(x_{2} - x_{3}\\right)}$"
          },
          "metadata": {},
          "execution_count": 24
        }
      ]
    },
    {
      "cell_type": "code",
      "source": [
        "str(expr1)"
      ],
      "metadata": {
        "colab": {
          "base_uri": "https://localhost:8080/",
          "height": 35
        },
        "id": "bqQo79VlU2_Z",
        "outputId": "27938d81-2b8c-437f-8f1d-1188293f1ebf"
      },
      "execution_count": null,
      "outputs": [
        {
          "output_type": "execute_result",
          "data": {
            "text/plain": [
              "'-x**2*(-y1 + y3)/((x1 - x3)*(x2 - x3)) - x**2*(y1 - y2)/((x1 - x2)*(x2 - x3))'"
            ],
            "application/vnd.google.colaboratory.intrinsic+json": {
              "type": "string"
            }
          },
          "metadata": {},
          "execution_count": 25
        }
      ]
    },
    {
      "cell_type": "code",
      "source": [
        "expr2 = -x*( (x1 - x2)*(x1 + x2)*(y1 - y3) )/( (x1 - x2)*(x1 - x3)*(x2 - x3) ) + x*( (x1 - x3)*(x1 + x3)*(y1 - y2) )/( (x1 - x2)*(x1 - x3)*(x2 - x3) )\n",
        "expr2"
      ],
      "metadata": {
        "colab": {
          "base_uri": "https://localhost:8080/",
          "height": 57
        },
        "id": "OvwHGL4jUACg",
        "outputId": "38911f8e-2c2a-4807-e1ff-86abace076d0"
      },
      "execution_count": null,
      "outputs": [
        {
          "output_type": "execute_result",
          "data": {
            "text/plain": [
              "-x*(x1 + x2)*(y1 - y3)/((x1 - x3)*(x2 - x3)) + x*(x1 + x3)*(y1 - y2)/((x1 - x2)*(x2 - x3))"
            ],
            "text/latex": "$\\displaystyle - \\frac{x \\left(x_{1} + x_{2}\\right) \\left(y_{1} - y_{3}\\right)}{\\left(x_{1} - x_{3}\\right) \\left(x_{2} - x_{3}\\right)} + \\frac{x \\left(x_{1} + x_{3}\\right) \\left(y_{1} - y_{2}\\right)}{\\left(x_{1} - x_{2}\\right) \\left(x_{2} - x_{3}\\right)}$"
          },
          "metadata": {},
          "execution_count": 26
        }
      ]
    },
    {
      "cell_type": "code",
      "source": [
        "str(expr2)"
      ],
      "metadata": {
        "colab": {
          "base_uri": "https://localhost:8080/",
          "height": 35
        },
        "id": "bPAGM3sqU4OI",
        "outputId": "233aafb0-3b5b-4695-9a2a-42e77336f3d8"
      },
      "execution_count": null,
      "outputs": [
        {
          "output_type": "execute_result",
          "data": {
            "text/plain": [
              "'-x*(x1 + x2)*(y1 - y3)/((x1 - x3)*(x2 - x3)) + x*(x1 + x3)*(y1 - y2)/((x1 - x2)*(x2 - x3))'"
            ],
            "application/vnd.google.colaboratory.intrinsic+json": {
              "type": "string"
            }
          },
          "metadata": {},
          "execution_count": 27
        }
      ]
    },
    {
      "cell_type": "code",
      "source": [
        "C = y + expr1 + expr2\n",
        "C"
      ],
      "metadata": {
        "colab": {
          "base_uri": "https://localhost:8080/",
          "height": 58
        },
        "id": "62F1MVnsUiG_",
        "outputId": "54fce3e6-4f69-41f6-d257-d18e8ccafd72"
      },
      "execution_count": null,
      "outputs": [
        {
          "output_type": "execute_result",
          "data": {
            "text/plain": [
              "-x**2*(-y1 + y3)/((x1 - x3)*(x2 - x3)) - x**2*(y1 - y2)/((x1 - x2)*(x2 - x3)) - x*(x1 + x2)*(y1 - y3)/((x1 - x3)*(x2 - x3)) + x*(x1 + x3)*(y1 - y2)/((x1 - x2)*(x2 - x3)) + y"
            ],
            "text/latex": "$\\displaystyle - \\frac{x^{2} \\left(- y_{1} + y_{3}\\right)}{\\left(x_{1} - x_{3}\\right) \\left(x_{2} - x_{3}\\right)} - \\frac{x^{2} \\left(y_{1} - y_{2}\\right)}{\\left(x_{1} - x_{2}\\right) \\left(x_{2} - x_{3}\\right)} - \\frac{x \\left(x_{1} + x_{2}\\right) \\left(y_{1} - y_{3}\\right)}{\\left(x_{1} - x_{3}\\right) \\left(x_{2} - x_{3}\\right)} + \\frac{x \\left(x_{1} + x_{3}\\right) \\left(y_{1} - y_{2}\\right)}{\\left(x_{1} - x_{2}\\right) \\left(x_{2} - x_{3}\\right)} + y$"
          },
          "metadata": {},
          "execution_count": 28
        }
      ]
    },
    {
      "cell_type": "code",
      "source": [
        "expr1 = -x**2*(-y1 + y3)/((x1 - x3)*(x2 - x3)) -x*(x1 + x2)*(y1 - y3)/((x1 - x3)*(x2 - x3))\n",
        "expr1"
      ],
      "metadata": {
        "colab": {
          "base_uri": "https://localhost:8080/",
          "height": 58
        },
        "id": "qfu5-YZzUojR",
        "outputId": "02ca283f-7b61-4c24-ce00-d1f767217c3b"
      },
      "execution_count": null,
      "outputs": [
        {
          "output_type": "execute_result",
          "data": {
            "text/plain": [
              "-x**2*(-y1 + y3)/((x1 - x3)*(x2 - x3)) - x*(x1 + x2)*(y1 - y3)/((x1 - x3)*(x2 - x3))"
            ],
            "text/latex": "$\\displaystyle - \\frac{x^{2} \\left(- y_{1} + y_{3}\\right)}{\\left(x_{1} - x_{3}\\right) \\left(x_{2} - x_{3}\\right)} - \\frac{x \\left(x_{1} + x_{2}\\right) \\left(y_{1} - y_{3}\\right)}{\\left(x_{1} - x_{3}\\right) \\left(x_{2} - x_{3}\\right)}$"
          },
          "metadata": {},
          "execution_count": 29
        }
      ]
    },
    {
      "cell_type": "code",
      "source": [
        "expr1 = -x*(y1 - y3)/( (x1 - x3)*(x2 - x3) )*( -x + (x1 + x2) )\n",
        "expr1"
      ],
      "metadata": {
        "colab": {
          "base_uri": "https://localhost:8080/",
          "height": 57
        },
        "id": "8vtbFvYBVFga",
        "outputId": "cedc8d75-d791-4866-d648-13003f1f7e8c"
      },
      "execution_count": null,
      "outputs": [
        {
          "output_type": "execute_result",
          "data": {
            "text/plain": [
              "-x*(y1 - y3)*(-x + x1 + x2)/((x1 - x3)*(x2 - x3))"
            ],
            "text/latex": "$\\displaystyle - \\frac{x \\left(y_{1} - y_{3}\\right) \\left(- x + x_{1} + x_{2}\\right)}{\\left(x_{1} - x_{3}\\right) \\left(x_{2} - x_{3}\\right)}$"
          },
          "metadata": {},
          "execution_count": 30
        }
      ]
    },
    {
      "cell_type": "code",
      "source": [
        "expr2 = - x**2*(y1 - y2)/((x1 - x2)*(x2 - x3)) + x*(x1 + x3)*(y1 - y2)/((x1 - x2)*(x2 - x3))\n",
        "expr2"
      ],
      "metadata": {
        "colab": {
          "base_uri": "https://localhost:8080/",
          "height": 58
        },
        "id": "cBWrNGwWVohC",
        "outputId": "0a25a9af-e945-44a5-bba4-61b8b1eeaf02"
      },
      "execution_count": null,
      "outputs": [
        {
          "output_type": "execute_result",
          "data": {
            "text/plain": [
              "-x**2*(y1 - y2)/((x1 - x2)*(x2 - x3)) + x*(x1 + x3)*(y1 - y2)/((x1 - x2)*(x2 - x3))"
            ],
            "text/latex": "$\\displaystyle - \\frac{x^{2} \\left(y_{1} - y_{2}\\right)}{\\left(x_{1} - x_{2}\\right) \\left(x_{2} - x_{3}\\right)} + \\frac{x \\left(x_{1} + x_{3}\\right) \\left(y_{1} - y_{2}\\right)}{\\left(x_{1} - x_{2}\\right) \\left(x_{2} - x_{3}\\right)}$"
          },
          "metadata": {},
          "execution_count": 31
        }
      ]
    },
    {
      "cell_type": "code",
      "source": [
        "expr2 = -x*(y1 - y2)/( (x1 - x2)*(x2 - x3) )*( x - x1 - x3 )\n",
        "expr2"
      ],
      "metadata": {
        "colab": {
          "base_uri": "https://localhost:8080/",
          "height": 57
        },
        "id": "iB1iD46TV3K5",
        "outputId": "c759ed07-bf12-4f37-82bf-ea89361e83cf"
      },
      "execution_count": null,
      "outputs": [
        {
          "output_type": "execute_result",
          "data": {
            "text/plain": [
              "-x*(y1 - y2)*(x - x1 - x3)/((x1 - x2)*(x2 - x3))"
            ],
            "text/latex": "$\\displaystyle - \\frac{x \\left(y_{1} - y_{2}\\right) \\left(x - x_{1} - x_{3}\\right)}{\\left(x_{1} - x_{2}\\right) \\left(x_{2} - x_{3}\\right)}$"
          },
          "metadata": {},
          "execution_count": 32
        }
      ]
    },
    {
      "cell_type": "code",
      "source": [
        "C = y + expr1 + expr2\n",
        "C"
      ],
      "metadata": {
        "colab": {
          "base_uri": "https://localhost:8080/",
          "height": 57
        },
        "id": "r08x2rSYWF5q",
        "outputId": "ba17b036-54cf-49e8-c7cb-d9f4a8f6ac5c"
      },
      "execution_count": null,
      "outputs": [
        {
          "output_type": "execute_result",
          "data": {
            "text/plain": [
              "-x*(y1 - y3)*(-x + x1 + x2)/((x1 - x3)*(x2 - x3)) - x*(y1 - y2)*(x - x1 - x3)/((x1 - x2)*(x2 - x3)) + y"
            ],
            "text/latex": "$\\displaystyle - \\frac{x \\left(y_{1} - y_{3}\\right) \\left(- x + x_{1} + x_{2}\\right)}{\\left(x_{1} - x_{3}\\right) \\left(x_{2} - x_{3}\\right)} - \\frac{x \\left(y_{1} - y_{2}\\right) \\left(x - x_{1} - x_{3}\\right)}{\\left(x_{1} - x_{2}\\right) \\left(x_{2} - x_{3}\\right)} + y$"
          },
          "metadata": {},
          "execution_count": 33
        }
      ]
    },
    {
      "cell_type": "code",
      "source": [
        "C = C.subs({x: x1, y: y1})\n",
        "C"
      ],
      "metadata": {
        "colab": {
          "base_uri": "https://localhost:8080/",
          "height": 57
        },
        "id": "8u-kH0lWWNLM",
        "outputId": "5b193978-1aec-4613-bff1-40c4ba24c193"
      },
      "execution_count": null,
      "outputs": [
        {
          "output_type": "execute_result",
          "data": {
            "text/plain": [
              "-x1*x2*(y1 - y3)/((x1 - x3)*(x2 - x3)) + x1*x3*(y1 - y2)/((x1 - x2)*(x2 - x3)) + y1"
            ],
            "text/latex": "$\\displaystyle - \\frac{x_{1} x_{2} \\left(y_{1} - y_{3}\\right)}{\\left(x_{1} - x_{3}\\right) \\left(x_{2} - x_{3}\\right)} + \\frac{x_{1} x_{3} \\left(y_{1} - y_{2}\\right)}{\\left(x_{1} - x_{2}\\right) \\left(x_{2} - x_{3}\\right)} + y_{1}$"
          },
          "metadata": {},
          "execution_count": 34
        }
      ]
    },
    {
      "cell_type": "code",
      "source": [
        "y1 - x1/(x2 - x3)*( x2*(y1 - y3)/(x1 - x3) - x3*(y1 - y2)/(x1 - x2) )"
      ],
      "metadata": {
        "colab": {
          "base_uri": "https://localhost:8080/",
          "height": 68
        },
        "id": "T34E8j0vWQqG",
        "outputId": "a7629823-1607-46fa-9ddb-448c147c719d"
      },
      "execution_count": null,
      "outputs": [
        {
          "output_type": "execute_result",
          "data": {
            "text/plain": [
              "-x1*(x2*(y1 - y3)/(x1 - x3) - x3*(y1 - y2)/(x1 - x2))/(x2 - x3) + y1"
            ],
            "text/latex": "$\\displaystyle - \\frac{x_{1} \\left(\\frac{x_{2} \\left(y_{1} - y_{3}\\right)}{x_{1} - x_{3}} - \\frac{x_{3} \\left(y_{1} - y_{2}\\right)}{x_{1} - x_{2}}\\right)}{x_{2} - x_{3}} + y_{1}$"
          },
          "metadata": {},
          "execution_count": 35
        }
      ]
    },
    {
      "cell_type": "code",
      "source": [
        "expr = ( x2*(y1 - y3)/(x1 - x3) - x3*(y1 - y2)/(x1 - x2) ).simplify()\n",
        "expr"
      ],
      "metadata": {
        "colab": {
          "base_uri": "https://localhost:8080/",
          "height": 57
        },
        "id": "j19GzxrkWpo4",
        "outputId": "7feb3d54-2497-4631-9eed-e90d902d6250"
      },
      "execution_count": null,
      "outputs": [
        {
          "output_type": "execute_result",
          "data": {
            "text/plain": [
              "(x2*(x1 - x2)*(y1 - y3) - x3*(x1 - x3)*(y1 - y2))/((x1 - x2)*(x1 - x3))"
            ],
            "text/latex": "$\\displaystyle \\frac{x_{2} \\left(x_{1} - x_{2}\\right) \\left(y_{1} - y_{3}\\right) - x_{3} \\left(x_{1} - x_{3}\\right) \\left(y_{1} - y_{2}\\right)}{\\left(x_{1} - x_{2}\\right) \\left(x_{1} - x_{3}\\right)}$"
          },
          "metadata": {},
          "execution_count": 36
        }
      ]
    },
    {
      "cell_type": "code",
      "source": [
        "C = ( -x1*expr/(x2 - x3) + y1 )\n",
        "C"
      ],
      "metadata": {
        "colab": {
          "base_uri": "https://localhost:8080/",
          "height": 57
        },
        "id": "QUC6HLeWW_RG",
        "outputId": "d2f2ab68-62f6-4eff-97d7-71b3a8f9c0a8"
      },
      "execution_count": null,
      "outputs": [
        {
          "output_type": "execute_result",
          "data": {
            "text/plain": [
              "-x1*(x2*(x1 - x2)*(y1 - y3) - x3*(x1 - x3)*(y1 - y2))/((x1 - x2)*(x1 - x3)*(x2 - x3)) + y1"
            ],
            "text/latex": "$\\displaystyle - \\frac{x_{1} \\left(x_{2} \\left(x_{1} - x_{2}\\right) \\left(y_{1} - y_{3}\\right) - x_{3} \\left(x_{1} - x_{3}\\right) \\left(y_{1} - y_{2}\\right)\\right)}{\\left(x_{1} - x_{2}\\right) \\left(x_{1} - x_{3}\\right) \\left(x_{2} - x_{3}\\right)} + y_{1}$"
          },
          "metadata": {},
          "execution_count": 37
        }
      ]
    },
    {
      "cell_type": "markdown",
      "source": [
        "### $\\large \\text{Finally, we get}$"
      ],
      "metadata": {
        "id": "vaEymcnNXaie"
      }
    },
    {
      "cell_type": "code",
      "source": [
        "A"
      ],
      "metadata": {
        "colab": {
          "base_uri": "https://localhost:8080/",
          "height": 54
        },
        "id": "Ymy4x5ZOXZal",
        "outputId": "160c3351-6472-4f41-ada9-9dfe2f201ab2"
      },
      "execution_count": null,
      "outputs": [
        {
          "output_type": "execute_result",
          "data": {
            "text/plain": [
              "-(y1 - y3)/((x1 - x3)*(x2 - x3)) + (y1 - y2)/((x1 - x2)*(x2 - x3))"
            ],
            "text/latex": "$\\displaystyle - \\frac{y_{1} - y_{3}}{\\left(x_{1} - x_{3}\\right) \\left(x_{2} - x_{3}\\right)} + \\frac{y_{1} - y_{2}}{\\left(x_{1} - x_{2}\\right) \\left(x_{2} - x_{3}\\right)}$"
          },
          "metadata": {},
          "execution_count": 38
        }
      ]
    },
    {
      "cell_type": "code",
      "source": [
        "B"
      ],
      "metadata": {
        "colab": {
          "base_uri": "https://localhost:8080/",
          "height": 57
        },
        "id": "WkUX3JXJXfm-",
        "outputId": "a18df555-ce85-415a-b0a3-d22a0e437afa"
      },
      "execution_count": null,
      "outputs": [
        {
          "output_type": "execute_result",
          "data": {
            "text/plain": [
              "(x1 + x2)*(y1 - y3)/((x1 - x3)*(x2 - x3)) - (x1 + x3)*(y1 - y2)/((x1 - x2)*(x2 - x3))"
            ],
            "text/latex": "$\\displaystyle \\frac{\\left(x_{1} + x_{2}\\right) \\left(y_{1} - y_{3}\\right)}{\\left(x_{1} - x_{3}\\right) \\left(x_{2} - x_{3}\\right)} - \\frac{\\left(x_{1} + x_{3}\\right) \\left(y_{1} - y_{2}\\right)}{\\left(x_{1} - x_{2}\\right) \\left(x_{2} - x_{3}\\right)}$"
          },
          "metadata": {},
          "execution_count": 39
        }
      ]
    },
    {
      "cell_type": "code",
      "source": [
        "C"
      ],
      "metadata": {
        "colab": {
          "base_uri": "https://localhost:8080/",
          "height": 57
        },
        "id": "u9QEUIdEXf1O",
        "outputId": "47742b73-dde9-473e-d89f-d59dfb24dfc8"
      },
      "execution_count": null,
      "outputs": [
        {
          "output_type": "execute_result",
          "data": {
            "text/plain": [
              "-x1*(x2*(x1 - x2)*(y1 - y3) - x3*(x1 - x3)*(y1 - y2))/((x1 - x2)*(x1 - x3)*(x2 - x3)) + y1"
            ],
            "text/latex": "$\\displaystyle - \\frac{x_{1} \\left(x_{2} \\left(x_{1} - x_{2}\\right) \\left(y_{1} - y_{3}\\right) - x_{3} \\left(x_{1} - x_{3}\\right) \\left(y_{1} - y_{2}\\right)\\right)}{\\left(x_{1} - x_{2}\\right) \\left(x_{1} - x_{3}\\right) \\left(x_{2} - x_{3}\\right)} + y_{1}$"
          },
          "metadata": {},
          "execution_count": 40
        }
      ]
    },
    {
      "cell_type": "code",
      "source": [
        "f = Lambda((x1, y1, x2, y2, x3, y3), (A*x**2 + B*x + C).simplify())\n",
        "f"
      ],
      "metadata": {
        "colab": {
          "base_uri": "https://localhost:8080/",
          "height": 78
        },
        "id": "MI4PZkE9Yk_y",
        "outputId": "292f6f1a-7a9d-403c-e787-b38a68db889b"
      },
      "execution_count": null,
      "outputs": [
        {
          "output_type": "execute_result",
          "data": {
            "text/plain": [
              "Lambda((x1, y1, x2, y2, x3, y3), (x*(-x*((x1 - x2)*(y1 - y3) + (x1 - x3)*(-y1 + y2)) + (x1 - x2)*(x1 + x2)*(y1 - y3) - (x1 - x3)*(x1 + x3)*(y1 - y2)) - x1*(x2*(x1 - x2)*(y1 - y3) - x3*(x1 - x3)*(y1 - y2)) + y1*(x1 - x2)*(x1 - x3)*(x2 - x3))/((x1 - x2)*(x1 - x3)*(x2 - x3)))"
            ],
            "text/latex": "$\\displaystyle \\left( \\left( x_{1}, \\  y_{1}, \\  x_{2}, \\  y_{2}, \\  x_{3}, \\  y_{3}\\right) \\mapsto \\frac{x \\left(- x \\left(\\left(x_{1} - x_{2}\\right) \\left(y_{1} - y_{3}\\right) + \\left(x_{1} - x_{3}\\right) \\left(- y_{1} + y_{2}\\right)\\right) + \\left(x_{1} - x_{2}\\right) \\left(x_{1} + x_{2}\\right) \\left(y_{1} - y_{3}\\right) - \\left(x_{1} - x_{3}\\right) \\left(x_{1} + x_{3}\\right) \\left(y_{1} - y_{2}\\right)\\right) - x_{1} \\left(x_{2} \\left(x_{1} - x_{2}\\right) \\left(y_{1} - y_{3}\\right) - x_{3} \\left(x_{1} - x_{3}\\right) \\left(y_{1} - y_{2}\\right)\\right) + y_{1} \\left(x_{1} - x_{2}\\right) \\left(x_{1} - x_{3}\\right) \\left(x_{2} - x_{3}\\right)}{\\left(x_{1} - x_{2}\\right) \\left(x_{1} - x_{3}\\right) \\left(x_{2} - x_{3}\\right)} \\right)$"
          },
          "metadata": {},
          "execution_count": 41
        }
      ]
    },
    {
      "cell_type": "code",
      "source": [
        "f(1, 1, 2, 3, 10, 5)"
      ],
      "metadata": {
        "colab": {
          "base_uri": "https://localhost:8080/",
          "height": 53
        },
        "id": "v7wnif6qYu_I",
        "outputId": "d7da7e67-f3fb-4064-97d8-793f590a7cb6"
      },
      "execution_count": null,
      "outputs": [
        {
          "output_type": "execute_result",
          "data": {
            "text/plain": [
              "-x*(14*x - 186)/72 - 25/18"
            ],
            "text/latex": "$\\displaystyle - \\frac{x \\left(14 x - 186\\right)}{72} - \\frac{25}{18}$"
          },
          "metadata": {},
          "execution_count": 42
        }
      ]
    },
    {
      "cell_type": "code",
      "source": [
        "%matplotlib ipympl\n",
        "params={\n",
        "        x1: (1, -10, 10),\n",
        "        y1: (1, -10, 10),\n",
        "        x2: (2, -10, 10),\n",
        "        y2: (3, -10, 10),\n",
        "        x3: (10, -10, 10),\n",
        "        y3: (5, -10, 10),\n",
        "    }\n",
        "\n",
        "p1 = plot(\n",
        "    (f(x1, y1, x2, y2, x3, y3), 'y=ax^2+bx+c', {'color': 'orange'}),\n",
        "    params=params,\n",
        "    show=False\n",
        ")\n",
        "\n",
        "p2 = plot_list(\n",
        "    ([x1], [y1], 'A', {'color': 'blue'}),\n",
        "    ([x2], [y2], 'B', {'color': 'blue'}),\n",
        "    ([x3], [y3], 'C', {'color': 'blue'}),\n",
        "    params=params,\n",
        "    scatter=True, filled=True, show=False\n",
        ")\n",
        "\n",
        "p = p1 + p2\n",
        "p.show()"
      ],
      "metadata": {
        "colab": {
          "base_uri": "https://localhost:8080/",
          "height": 665,
          "referenced_widgets": [
            "9b64e5e3ce754d7497acaa863f61a862",
            "0112d7219cdf4780a95e6fc87e085d60",
            "0e41a887328a478285c3c0febd9c0bd2",
            "23ca7c5b93cf4d76b4b27c451ae413cf",
            "73a83f2ce5f94787b2ecffdb73c60f5c",
            "31637b32bb6248028c8261ffcb626638",
            "9fb7099c1c41494285ab4b1e3d8826dc",
            "d116febc0d454775ae5e86ea1baf0610",
            "69daa4fd9ddd42fbac356dec8ae3c912",
            "dc62f31fdd2c4ce2a18542a261f16f7a",
            "991b0f2889934a8c8ff5fb7722f2dbac",
            "de5ad90503ce4aa78f84d60b0f89c3bd",
            "58b9a32e47994303bfea8fbfc2cab5fb",
            "523f054e942444dc8ac083386abbe331",
            "f17f558c473340eb8c5e0c519cd94875",
            "405047ab2fba41779c9dedd6db7e88c9",
            "e5d2d91e299f46929ba6b54b9a617a5b",
            "3a216302fd43414da8a2eb483e251f2f",
            "f270d046e9154bcaab9795c9377a71bb",
            "7aea4cfb15904916927101d6ee515020",
            "a5d2b5c180e3458d86111f901e68efd3",
            "48ac08dc522d4d07ab93fc1f196a139a",
            "b9b0a7b33efa4679b1cdbdeb875ace21",
            "4962d256208f4d14a765e3984b5b3226",
            "9a2847310a56487ca5c60e25f7967eb2",
            "a5e9405d6de14e30953cab182a38ffc0",
            "519aaeed3a4b40b9895823714fd307e4",
            "b4335f5706eb45c3a3f868ff924edde7"
          ]
        },
        "id": "FswpjylfMSfT",
        "outputId": "2c9b9920-198d-499b-aef7-81776f8e98fa"
      },
      "execution_count": null,
      "outputs": [
        {
          "output_type": "display_data",
          "data": {
            "text/plain": [
              "VBox(children=(GridspecLayout(children=(FloatSlider(value=1.0, description='$x_{1}$', layout=Layout(grid_area=…"
            ],
            "application/vnd.jupyter.widget-view+json": {
              "version_major": 2,
              "version_minor": 0,
              "model_id": "9b64e5e3ce754d7497acaa863f61a862"
            }
          },
          "metadata": {
            "application/vnd.jupyter.widget-view+json": {
              "colab": {
                "custom_widget_manager": {
                  "url": "https://ssl.gstatic.com/colaboratory-static/widgets/colab-cdn-widget-manager/b3e629b1971e1542/manager.min.js"
                }
              }
            }
          }
        }
      ]
    },
    {
      "cell_type": "markdown",
      "source": [
        "### $\\large \\text{Proof of Simpson's 1/3 rule using the expressed coefficients of a parabola}$"
      ],
      "metadata": {
        "id": "dm284Nv8d3K7"
      }
    },
    {
      "cell_type": "code",
      "source": [
        "from sympy import symbols, Function, integrate\n",
        "a, b = symbols('a, b', real=True)\n",
        "n = symbols('n', integers=True, positive=True)\n",
        "func = Function('f')\n",
        "func(x)*a*b*n"
      ],
      "metadata": {
        "colab": {
          "base_uri": "https://localhost:8080/",
          "height": 38
        },
        "id": "gMoIUGeOLYgx",
        "outputId": "d55bd7f2-3cf4-46b0-fc19-a17c84c230da"
      },
      "execution_count": null,
      "outputs": [
        {
          "output_type": "execute_result",
          "data": {
            "text/plain": [
              "a*b*n*f(x)"
            ],
            "text/latex": "$\\displaystyle a b n f{\\left(x \\right)}$"
          },
          "metadata": {},
          "execution_count": 44
        }
      ]
    },
    {
      "cell_type": "code",
      "source": [
        "h = (b-a)/n\n",
        "h"
      ],
      "metadata": {
        "colab": {
          "base_uri": "https://localhost:8080/",
          "height": 52
        },
        "id": "ppybP1FvLB2K",
        "outputId": "d9ca8e22-9a1d-488e-d80a-3fe8ee06a94b"
      },
      "execution_count": null,
      "outputs": [
        {
          "output_type": "execute_result",
          "data": {
            "text/plain": [
              "(-a + b)/n"
            ],
            "text/latex": "$\\displaystyle \\frac{- a + b}{n}$"
          },
          "metadata": {},
          "execution_count": 45
        }
      ]
    },
    {
      "cell_type": "code",
      "source": [
        "f"
      ],
      "metadata": {
        "colab": {
          "base_uri": "https://localhost:8080/",
          "height": 78
        },
        "id": "KbGQ1H9Jb3ot",
        "outputId": "83ebfc98-b4c1-4855-d922-6b754557e71c"
      },
      "execution_count": null,
      "outputs": [
        {
          "output_type": "execute_result",
          "data": {
            "text/plain": [
              "Lambda((x1, y1, x2, y2, x3, y3), (x*(-x*((x1 - x2)*(y1 - y3) + (x1 - x3)*(-y1 + y2)) + (x1 - x2)*(x1 + x2)*(y1 - y3) - (x1 - x3)*(x1 + x3)*(y1 - y2)) - x1*(x2*(x1 - x2)*(y1 - y3) - x3*(x1 - x3)*(y1 - y2)) + y1*(x1 - x2)*(x1 - x3)*(x2 - x3))/((x1 - x2)*(x1 - x3)*(x2 - x3)))"
            ],
            "text/latex": "$\\displaystyle \\left( \\left( x_{1}, \\  y_{1}, \\  x_{2}, \\  y_{2}, \\  x_{3}, \\  y_{3}\\right) \\mapsto \\frac{x \\left(- x \\left(\\left(x_{1} - x_{2}\\right) \\left(y_{1} - y_{3}\\right) + \\left(x_{1} - x_{3}\\right) \\left(- y_{1} + y_{2}\\right)\\right) + \\left(x_{1} - x_{2}\\right) \\left(x_{1} + x_{2}\\right) \\left(y_{1} - y_{3}\\right) - \\left(x_{1} - x_{3}\\right) \\left(x_{1} + x_{3}\\right) \\left(y_{1} - y_{2}\\right)\\right) - x_{1} \\left(x_{2} \\left(x_{1} - x_{2}\\right) \\left(y_{1} - y_{3}\\right) - x_{3} \\left(x_{1} - x_{3}\\right) \\left(y_{1} - y_{2}\\right)\\right) + y_{1} \\left(x_{1} - x_{2}\\right) \\left(x_{1} - x_{3}\\right) \\left(x_{2} - x_{3}\\right)}{\\left(x_{1} - x_{2}\\right) \\left(x_{1} - x_{3}\\right) \\left(x_{2} - x_{3}\\right)} \\right)$"
          },
          "metadata": {},
          "execution_count": 46
        }
      ]
    },
    {
      "cell_type": "code",
      "source": [
        "F = integrate(f(a, func(a), (a+b)/2, func( (a+b)/2 ), b, func(b)), (x, a, b)).simplify()\n",
        "F"
      ],
      "metadata": {
        "colab": {
          "base_uri": "https://localhost:8080/",
          "height": 56
        },
        "id": "zaBUJWAbhOo0",
        "outputId": "2c8b06b5-29d6-4c8b-b425-79e36d4173c0"
      },
      "execution_count": null,
      "outputs": [
        {
          "output_type": "execute_result",
          "data": {
            "text/plain": [
              "-a*f(a)/6 - a*f(b)/6 - 2*a*f(a/2 + b/2)/3 + b*f(a)/6 + b*f(b)/6 + 2*b*f(a/2 + b/2)/3"
            ],
            "text/latex": "$\\displaystyle - \\frac{a f{\\left(a \\right)}}{6} - \\frac{a f{\\left(b \\right)}}{6} - \\frac{2 a f{\\left(\\frac{a}{2} + \\frac{b}{2} \\right)}}{3} + \\frac{b f{\\left(a \\right)}}{6} + \\frac{b f{\\left(b \\right)}}{6} + \\frac{2 b f{\\left(\\frac{a}{2} + \\frac{b}{2} \\right)}}{3}$"
          },
          "metadata": {},
          "execution_count": 47
        }
      ]
    },
    {
      "cell_type": "code",
      "source": [
        "h1 = h.subs({b: x3, a: x1, n: 2})\n",
        "h1"
      ],
      "metadata": {
        "colab": {
          "base_uri": "https://localhost:8080/",
          "height": 47
        },
        "id": "uIfpDYmodRKS",
        "outputId": "b261ca0b-eeca-4f7c-da94-8d20a41837db"
      },
      "execution_count": null,
      "outputs": [
        {
          "output_type": "execute_result",
          "data": {
            "text/plain": [
              "-x1/2 + x3/2"
            ],
            "text/latex": "$\\displaystyle - \\frac{x_{1}}{2} + \\frac{x_{3}}{2}$"
          },
          "metadata": {},
          "execution_count": 48
        }
      ]
    },
    {
      "cell_type": "code",
      "source": [
        "S1 = integrate(f(x1, func(x1), x1+h1, func(x1+h1), x3, func(x3)), (x, x1, x3)).doit().simplify()\n",
        "S1"
      ],
      "metadata": {
        "colab": {
          "base_uri": "https://localhost:8080/",
          "height": 56
        },
        "id": "kbIHRdIxbvz3",
        "outputId": "45e5b9e9-b395-44c1-e177-de10c5917d82"
      },
      "execution_count": null,
      "outputs": [
        {
          "output_type": "execute_result",
          "data": {
            "text/plain": [
              "-x1*f(x1)/6 - x1*f(x3)/6 - 2*x1*f(x1/2 + x3/2)/3 + x3*f(x1)/6 + x3*f(x3)/6 + 2*x3*f(x1/2 + x3/2)/3"
            ],
            "text/latex": "$\\displaystyle - \\frac{x_{1} f{\\left(x_{1} \\right)}}{6} - \\frac{x_{1} f{\\left(x_{3} \\right)}}{6} - \\frac{2 x_{1} f{\\left(\\frac{x_{1}}{2} + \\frac{x_{3}}{2} \\right)}}{3} + \\frac{x_{3} f{\\left(x_{1} \\right)}}{6} + \\frac{x_{3} f{\\left(x_{3} \\right)}}{6} + \\frac{2 x_{3} f{\\left(\\frac{x_{1}}{2} + \\frac{x_{3}}{2} \\right)}}{3}$"
          },
          "metadata": {},
          "execution_count": 49
        }
      ]
    },
    {
      "cell_type": "code",
      "source": [
        "S2 = (S1/( h1/3 )).simplify()\n",
        "S2"
      ],
      "metadata": {
        "colab": {
          "base_uri": "https://localhost:8080/",
          "height": 48
        },
        "id": "V_Pvi-BdcoKi",
        "outputId": "4508ed14-0f7c-452a-a7f7-1262d5c990a8"
      },
      "execution_count": null,
      "outputs": [
        {
          "output_type": "execute_result",
          "data": {
            "text/plain": [
              "f(x1) + f(x3) + 4*f(x1/2 + x3/2)"
            ],
            "text/latex": "$\\displaystyle f{\\left(x_{1} \\right)} + f{\\left(x_{3} \\right)} + 4 f{\\left(\\frac{x_{1}}{2} + \\frac{x_{3}}{2} \\right)}$"
          },
          "metadata": {},
          "execution_count": 50
        }
      ]
    },
    {
      "cell_type": "code",
      "source": [
        "S = Lambda((x1, x3), h1/3*(func(x1) + 4*func((x1+x3)/2) + func(x3)))\n",
        "S"
      ],
      "metadata": {
        "colab": {
          "base_uri": "https://localhost:8080/",
          "height": 48
        },
        "id": "FoJ7AhtgdBGo",
        "outputId": "7445aebd-627f-482d-f841-bf60bdd0407a"
      },
      "execution_count": null,
      "outputs": [
        {
          "output_type": "execute_result",
          "data": {
            "text/plain": [
              "Lambda((x1, x3), (-x1/6 + x3/6)*(f(x1) + f(x3) + 4*f(x1/2 + x3/2)))"
            ],
            "text/latex": "$\\displaystyle \\left( \\left( x_{1}, \\  x_{3}\\right) \\mapsto \\left(- \\frac{x_{1}}{6} + \\frac{x_{3}}{6}\\right) \\left(f{\\left(x_{1} \\right)} + f{\\left(x_{3} \\right)} + 4 f{\\left(\\frac{x_{1}}{2} + \\frac{x_{3}}{2} \\right)}\\right) \\right)$"
          },
          "metadata": {},
          "execution_count": 51
        }
      ]
    },
    {
      "cell_type": "markdown",
      "source": [
        "### $\\large \\text{Proof of Simpson's 1/3 rule}$"
      ],
      "metadata": {
        "id": "xw0BX4X390y6"
      }
    },
    {
      "cell_type": "code",
      "source": [
        "from sympy import symbols, integrate, Function, WildFunction, Eq, solve, Lambda\n",
        "a, b, c = symbols('a, b, c', real=True)\n",
        "x0, x2 = symbols('x0, x2', real=True)\n",
        "x = symbols('x', real=True)\n",
        "f = symbols('f', cls=Function)\n",
        "x1 = (x2 + x0)/2\n",
        "a*b*c*x0*x1*x2*f(x)"
      ],
      "metadata": {
        "colab": {
          "base_uri": "https://localhost:8080/",
          "height": 48
        },
        "id": "V1t0ULT099Ee",
        "outputId": "5ee5af14-0472-4676-cab6-bfa455b56b8d"
      },
      "execution_count": null,
      "outputs": [
        {
          "output_type": "execute_result",
          "data": {
            "text/plain": [
              "a*b*c*x0*x2*(x0/2 + x2/2)*f(x)"
            ],
            "text/latex": "$\\displaystyle a b c x_{0} x_{2} \\left(\\frac{x_{0}}{2} + \\frac{x_{2}}{2}\\right) f{\\left(x \\right)}$"
          },
          "metadata": {},
          "execution_count": 104
        }
      ]
    },
    {
      "cell_type": "code",
      "source": [
        "func = Lambda(x, a*x**2 + b*x + c)\n",
        "func"
      ],
      "metadata": {
        "colab": {
          "base_uri": "https://localhost:8080/",
          "height": 38
        },
        "id": "siTT2c4F_rZ-",
        "outputId": "581e07b3-fea5-423f-8c0c-05f2c9c3db70"
      },
      "execution_count": null,
      "outputs": [
        {
          "output_type": "execute_result",
          "data": {
            "text/plain": [
              "Lambda(x, a*x**2 + b*x + c)"
            ],
            "text/latex": "$\\displaystyle \\left( x \\mapsto a x^{2} + b x + c \\right)$"
          },
          "metadata": {},
          "execution_count": 174
        }
      ]
    },
    {
      "cell_type": "code",
      "source": [
        "expr1 = ( func(x0) ).expand()\n",
        "expr1"
      ],
      "metadata": {
        "colab": {
          "base_uri": "https://localhost:8080/",
          "height": 38
        },
        "id": "ehEitJwFF6aP",
        "outputId": "1408acb9-e901-4455-a6b1-57b045549f7e"
      },
      "execution_count": null,
      "outputs": [
        {
          "output_type": "execute_result",
          "data": {
            "text/plain": [
              "a*x0**2 + b*x0 + c"
            ],
            "text/latex": "$\\displaystyle a x_{0}^{2} + b x_{0} + c$"
          },
          "metadata": {},
          "execution_count": 208
        }
      ]
    },
    {
      "cell_type": "code",
      "source": [
        "expr2 = ( func(x1) ).expand().simplify()\n",
        "expr2"
      ],
      "metadata": {
        "colab": {
          "base_uri": "https://localhost:8080/",
          "height": 54
        },
        "id": "9w9EhTtcF9qk",
        "outputId": "5d296d6a-7f1b-41f2-91c6-b2c554b0e60c"
      },
      "execution_count": null,
      "outputs": [
        {
          "output_type": "execute_result",
          "data": {
            "text/plain": [
              "a*x0**2/4 + a*x0*x2/2 + a*x2**2/4 + b*x0/2 + b*x2/2 + c"
            ],
            "text/latex": "$\\displaystyle \\frac{a x_{0}^{2}}{4} + \\frac{a x_{0} x_{2}}{2} + \\frac{a x_{2}^{2}}{4} + \\frac{b x_{0}}{2} + \\frac{b x_{2}}{2} + c$"
          },
          "metadata": {},
          "execution_count": 209
        }
      ]
    },
    {
      "cell_type": "code",
      "source": [
        "expr3 = ( func(x2) ).expand()\n",
        "expr3"
      ],
      "metadata": {
        "colab": {
          "base_uri": "https://localhost:8080/",
          "height": 38
        },
        "id": "XM8voyI-GAfL",
        "outputId": "2de594ab-15bd-4132-88b4-643d1fe9fb53"
      },
      "execution_count": null,
      "outputs": [
        {
          "output_type": "execute_result",
          "data": {
            "text/plain": [
              "a*x2**2 + b*x2 + c"
            ],
            "text/latex": "$\\displaystyle a x_{2}^{2} + b x_{2} + c$"
          },
          "metadata": {},
          "execution_count": 210
        }
      ]
    },
    {
      "cell_type": "code",
      "source": [
        "F = integrate(func(x), (x, x0, x2))\n",
        "F"
      ],
      "metadata": {
        "colab": {
          "base_uri": "https://localhost:8080/",
          "height": 54
        },
        "id": "3yKEPK5VC4E1",
        "outputId": "474f8331-4f35-46e4-8e68-4da3e0042a46"
      },
      "execution_count": null,
      "outputs": [
        {
          "output_type": "execute_result",
          "data": {
            "text/plain": [
              "-a*x0**3/3 + a*x2**3/3 - b*x0**2/2 + b*x2**2/2 - c*x0 + c*x2"
            ],
            "text/latex": "$\\displaystyle - \\frac{a x_{0}^{3}}{3} + \\frac{a x_{2}^{3}}{3} - \\frac{b x_{0}^{2}}{2} + \\frac{b x_{2}^{2}}{2} - c x_{0} + c x_{2}$"
          },
          "metadata": {},
          "execution_count": 211
        }
      ]
    },
    {
      "cell_type": "code",
      "source": [
        "F1 = F*3*2\n",
        "F1"
      ],
      "metadata": {
        "colab": {
          "base_uri": "https://localhost:8080/",
          "height": 38
        },
        "id": "RGo7gsjQERXf",
        "outputId": "b384c6a7-37e3-4e78-dcce-5608b212abd0"
      },
      "execution_count": null,
      "outputs": [
        {
          "output_type": "execute_result",
          "data": {
            "text/plain": [
              "-2*a*x0**3 + 2*a*x2**3 - 3*b*x0**2 + 3*b*x2**2 - 6*c*x0 + 6*c*x2"
            ],
            "text/latex": "$\\displaystyle - 2 a x_{0}^{3} + 2 a x_{2}^{3} - 3 b x_{0}^{2} + 3 b x_{2}^{2} - 6 c x_{0} + 6 c x_{2}$"
          },
          "metadata": {},
          "execution_count": 212
        }
      ]
    },
    {
      "cell_type": "code",
      "source": [
        "F2 = ( F1/(x2-x0) ).simplify()\n",
        "F2"
      ],
      "metadata": {
        "colab": {
          "base_uri": "https://localhost:8080/",
          "height": 38
        },
        "id": "uWGDGjnJHTEK",
        "outputId": "350a9434-da6f-462f-fa48-6b7d9b112ab5"
      },
      "execution_count": null,
      "outputs": [
        {
          "output_type": "execute_result",
          "data": {
            "text/plain": [
              "2*a*x0**2 + 2*a*x0*x2 + 2*a*x2**2 + 3*b*x0 + 3*b*x2 + 6*c"
            ],
            "text/latex": "$\\displaystyle 2 a x_{0}^{2} + 2 a x_{0} x_{2} + 2 a x_{2}^{2} + 3 b x_{0} + 3 b x_{2} + 6 c$"
          },
          "metadata": {},
          "execution_count": 213
        }
      ]
    },
    {
      "cell_type": "code",
      "source": [
        "F3 = F2 - expr1 - expr3\n",
        "F3"
      ],
      "metadata": {
        "colab": {
          "base_uri": "https://localhost:8080/",
          "height": 38
        },
        "id": "7xhGDWVOHWeb",
        "outputId": "410ad267-c379-4788-8412-0abb2cbf2259"
      },
      "execution_count": null,
      "outputs": [
        {
          "output_type": "execute_result",
          "data": {
            "text/plain": [
              "a*x0**2 + 2*a*x0*x2 + a*x2**2 + 2*b*x0 + 2*b*x2 + 4*c"
            ],
            "text/latex": "$\\displaystyle a x_{0}^{2} + 2 a x_{0} x_{2} + a x_{2}^{2} + 2 b x_{0} + 2 b x_{2} + 4 c$"
          },
          "metadata": {},
          "execution_count": 217
        }
      ]
    },
    {
      "cell_type": "code",
      "source": [
        "F4 = F3 - 4*expr2"
      ],
      "metadata": {
        "colab": {
          "base_uri": "https://localhost:8080/",
          "height": 37
        },
        "id": "qCyE8bLbH-pU",
        "outputId": "db079573-d81b-4c0b-eb0b-099f1b820b22"
      },
      "execution_count": null,
      "outputs": [
        {
          "output_type": "execute_result",
          "data": {
            "text/plain": [
              "0"
            ],
            "text/latex": "$\\displaystyle 0$"
          },
          "metadata": {},
          "execution_count": 219
        }
      ]
    },
    {
      "cell_type": "code",
      "source": [
        "eq = Eq(F*6/(x2-x0), expr1 + 4*expr2 + expr3)\n",
        "eq"
      ],
      "metadata": {
        "colab": {
          "base_uri": "https://localhost:8080/",
          "height": 56
        },
        "id": "xaeWUDvOIBzk",
        "outputId": "0b7807a1-2aca-4f1b-e42b-189f77c70089"
      },
      "execution_count": null,
      "outputs": [
        {
          "output_type": "execute_result",
          "data": {
            "text/plain": [
              "Eq((-2*a*x0**3 + 2*a*x2**3 - 3*b*x0**2 + 3*b*x2**2 - 6*c*x0 + 6*c*x2)/(-x0 + x2), 2*a*x0**2 + 2*a*x0*x2 + 2*a*x2**2 + 3*b*x0 + 3*b*x2 + 6*c)"
            ],
            "text/latex": "$\\displaystyle \\frac{- 2 a x_{0}^{3} + 2 a x_{2}^{3} - 3 b x_{0}^{2} + 3 b x_{2}^{2} - 6 c x_{0} + 6 c x_{2}}{- x_{0} + x_{2}} = 2 a x_{0}^{2} + 2 a x_{0} x_{2} + 2 a x_{2}^{2} + 3 b x_{0} + 3 b x_{2} + 6 c$"
          },
          "metadata": {},
          "execution_count": 221
        }
      ]
    },
    {
      "cell_type": "code",
      "source": [
        "eq.simplify()"
      ],
      "metadata": {
        "colab": {
          "base_uri": "https://localhost:8080/",
          "height": 37
        },
        "id": "V15xLQj4INYM",
        "outputId": "313a31df-eb1f-4fc7-cbec-6062d208457a"
      },
      "execution_count": null,
      "outputs": [
        {
          "output_type": "execute_result",
          "data": {
            "text/plain": [
              "True"
            ],
            "text/latex": "$\\displaystyle \\text{True}$"
          },
          "metadata": {},
          "execution_count": 222
        }
      ]
    },
    {
      "cell_type": "markdown",
      "source": [
        "# $\\large \\text{Fractals}$"
      ],
      "metadata": {
        "id": "FvaEVfZR6IoC"
      }
    },
    {
      "cell_type": "markdown",
      "source": [
        "## $\\large \\text{Mandelbrot Set}$"
      ],
      "metadata": {
        "id": "kwD8siFt6NTS"
      }
    },
    {
      "cell_type": "code",
      "source": [],
      "metadata": {
        "id": "4Ap_v8HC6WoM"
      },
      "execution_count": null,
      "outputs": []
    },
    {
      "cell_type": "markdown",
      "source": [
        "## $\\large \\text{idk}$"
      ],
      "metadata": {
        "id": "jiMv8t_z6RIg"
      }
    },
    {
      "cell_type": "code",
      "source": [
        "import k3d\n",
        "import numpy as np\n",
        "\n",
        "def iterate(length, x, y, z):\n",
        "    nl = length // 3\n",
        "\n",
        "    if nl < 1:\n",
        "        return\n",
        "\n",
        "    margin = (nl - 1) // 2\n",
        "\n",
        "    voxels[z - margin:z + margin + 1, y - margin:y + margin + 1, :] = 0\n",
        "    voxels[z - margin:z + margin + 1, :, x - margin:x + margin + 1] = 0\n",
        "    voxels[:, y - margin:y + margin + 1, x - margin:x + margin + 1] = 0\n",
        "\n",
        "    for ix, iy, iz in np.ndindex((3, 3, 3)):\n",
        "        if (1 if ix != 1 else 0) + (1 if iy != 1 else 0) + (1 if iz != 1 else 0) != 2:\n",
        "            iterate(nl, x + (ix - 1) * nl, y + (iy - 1) * nl, z + (iz - 1) * nl)\n",
        "\n",
        "iteration = 4\n",
        "size = 3 ** iteration\n",
        "\n",
        "voxels = np.ones((size, size, size))\n",
        "\n",
        "iterate(size, size // 2, size // 2, size // 2)\n",
        "\n",
        "plt_voxels = k3d.voxels(voxels.astype(np.uint8),\n",
        "                        color_map=(0xfdfe03), outlines=True)\n",
        "\n",
        "plot = k3d.plot(grid_visible=False,\n",
        "                camera_auto_fit=False)\n",
        "plot += plt_voxels\n",
        "plot.display()\n",
        "\n",
        "plot.camera = [98.5152, -60.0912, 88.9902,\n",
        "               43.4731, 37.6014, 31.5219,\n",
        "               -0.2226, 0.3405, 0.9135]\n",
        "\n",
        "plot.close()"
      ],
      "metadata": {
        "colab": {
          "base_uri": "https://localhost:8080/",
          "referenced_widgets": [
            "e62b11a324894197be4a813937e17b5e",
            "a552243b552b460eae2a66e9a3292974",
            "2033e7d3b9dc4e8abf112fb36ca5738b",
            "990c3ca889a64a4bbe9e45104becc22c"
          ]
        },
        "id": "VoTky5VI6XHb",
        "outputId": "225e458d-e6ec-4b0c-9187-b20475ba6abf"
      },
      "execution_count": null,
      "outputs": [
        {
          "output_type": "display_data",
          "data": {
            "text/plain": [
              "Output()"
            ],
            "application/vnd.jupyter.widget-view+json": {
              "version_major": 2,
              "version_minor": 0,
              "model_id": "e62b11a324894197be4a813937e17b5e"
            }
          },
          "metadata": {
            "application/vnd.jupyter.widget-view+json": {
              "colab": {
                "custom_widget_manager": {
                  "url": "https://ssl.gstatic.com/colaboratory-static/widgets/colab-cdn-widget-manager/b3e629b1971e1542/manager.min.js"
                }
              }
            }
          }
        }
      ]
    },
    {
      "cell_type": "markdown",
      "source": [
        "# $\\large \\text{Curves}$"
      ],
      "metadata": {
        "id": "II6n-bzZfBxX"
      }
    },
    {
      "cell_type": "markdown",
      "source": [
        "## $\\large \\text{Bezier Curve}$\n",
        "$\\Large \\boldsymbol{B} (t) = ∑\\limits_{i=0}^{n} { {n \\choose i} (1-t)^{n-i} t^{i} \\boldsymbol{P}_{i} }$"
      ],
      "metadata": {
        "id": "j08Ziei1fFnn"
      }
    },
    {
      "cell_type": "code",
      "source": [
        "from sympy import symbols, Symbol, Integer, Lambda,\\\n",
        "    Sum, binomial, Pow, Matrix,\\\n",
        "    Point\n",
        "\n",
        "from functools import reduce\n",
        "\n",
        "t = symbols('t', real=True)\n",
        "\n",
        "P = Matrix([Point(1, 1), Point(-4, -10), Point(-6, 5), Point(7, 8)])\n",
        "\n",
        "def BezCurve(P: Matrix|list, t: Symbol=None) -> Matrix:\n",
        "    '''\n",
        "    Create Bezier Curve base on Matrix|list of dots, P\n",
        "    '''\n",
        "    if t is None:\n",
        "        t = Symbol('t', real=True)\n",
        "\n",
        "    if isinstance(P, Matrix):\n",
        "        n = P.rows\n",
        "        Prow = lambda i: P.row(i)\n",
        "\n",
        "    elif isinstance(P, list):\n",
        "        n = len(P)\n",
        "        Prow = lambda i: P[i]\n",
        "\n",
        "    else:\n",
        "        raise TypeError(f'Rly? idk what is it -> {type(P)}:\\n{P}')\n",
        "\n",
        "    return tuple(reduce(lambda a, b: a+b, ([binomial(n-1, i) * (1-t)**(n-i-1) * t**i * Prow(i) for i in range(n)])))\n",
        "\n",
        "curve = BezCurve(P)\n",
        "\n",
        "curve"
      ],
      "metadata": {
        "colab": {
          "base_uri": "https://localhost:8080/",
          "height": 53
        },
        "id": "jpwZpUDKfJCg",
        "outputId": "056053e7-aef9-40d5-f140-64e6ffe35b57"
      },
      "execution_count": null,
      "outputs": [
        {
          "output_type": "execute_result",
          "data": {
            "text/plain": [
              "(7*t**3 - 6*t**2*(3 - 3*t) - 12*t*(1 - t)**2 + (1 - t)**3,\n",
              " 8*t**3 + 5*t**2*(3 - 3*t) - 30*t*(1 - t)**2 + (1 - t)**3)"
            ]
          },
          "metadata": {},
          "execution_count": 106
        }
      ]
    },
    {
      "cell_type": "code",
      "source": [
        "N = 10\n",
        "xs = symbols(f'x1:{N+1}')\n",
        "ys = symbols(f'y1:{N+1}')\n",
        "D = Matrix([[xs[i], ys[i]] for i in range(N)])\n",
        "curve = BezCurve(D)\n",
        "curve[0]"
      ],
      "metadata": {
        "colab": {
          "base_uri": "https://localhost:8080/",
          "height": 62
        },
        "id": "UKfJNxnZGRU7",
        "outputId": "529dd94e-39d3-4417-93d1-5ce1bbdd1f90"
      },
      "execution_count": null,
      "outputs": [
        {
          "output_type": "execute_result",
          "data": {
            "text/plain": [
              "t**9*x10 + t**8*x9*(9 - 9*t) + 36*t**7*x8*(1 - t)**2 + 84*t**6*x7*(1 - t)**3 + 126*t**5*x6*(1 - t)**4 + 126*t**4*x5*(1 - t)**5 + 84*t**3*x4*(1 - t)**6 + 36*t**2*x3*(1 - t)**7 + 9*t*x2*(1 - t)**8 + x1*(1 - t)**9"
            ],
            "text/latex": "$\\displaystyle t^{9} x_{10} + t^{8} x_{9} \\cdot \\left(9 - 9 t\\right) + 36 t^{7} x_{8} \\left(1 - t\\right)^{2} + 84 t^{6} x_{7} \\left(1 - t\\right)^{3} + 126 t^{5} x_{6} \\left(1 - t\\right)^{4} + 126 t^{4} x_{5} \\left(1 - t\\right)^{5} + 84 t^{3} x_{4} \\left(1 - t\\right)^{6} + 36 t^{2} x_{3} \\left(1 - t\\right)^{7} + 9 t x_{2} \\left(1 - t\\right)^{8} + x_{1} \\left(1 - t\\right)^{9}$"
          },
          "metadata": {},
          "execution_count": 142
        }
      ]
    },
    {
      "cell_type": "code",
      "source": [
        "curved1 = tuple(map(lambda expr: expr.diff(t), curve))\n",
        "curved1[0]"
      ],
      "metadata": {
        "colab": {
          "base_uri": "https://localhost:8080/",
          "height": 84
        },
        "id": "6bDHOTzSJAGW",
        "outputId": "4dde2737-6f86-4fd1-82bb-7201afc10b34"
      },
      "execution_count": null,
      "outputs": [
        {
          "output_type": "execute_result",
          "data": {
            "text/plain": [
              "9*t**8*x10 - 9*t**8*x9 + 36*t**7*x8*(2*t - 2) + 8*t**7*x9*(9 - 9*t) - 252*t**6*x7*(1 - t)**2 + 252*t**6*x8*(1 - t)**2 - 504*t**5*x6*(1 - t)**3 + 504*t**5*x7*(1 - t)**3 - 630*t**4*x5*(1 - t)**4 + 630*t**4*x6*(1 - t)**4 - 504*t**3*x4*(1 - t)**5 + 504*t**3*x5*(1 - t)**5 - 252*t**2*x3*(1 - t)**6 + 252*t**2*x4*(1 - t)**6 - 72*t*x2*(1 - t)**7 + 72*t*x3*(1 - t)**7 - 9*x1*(1 - t)**8 + 9*x2*(1 - t)**8"
            ],
            "text/latex": "$\\displaystyle 9 t^{8} x_{10} - 9 t^{8} x_{9} + 36 t^{7} x_{8} \\cdot \\left(2 t - 2\\right) + 8 t^{7} x_{9} \\cdot \\left(9 - 9 t\\right) - 252 t^{6} x_{7} \\left(1 - t\\right)^{2} + 252 t^{6} x_{8} \\left(1 - t\\right)^{2} - 504 t^{5} x_{6} \\left(1 - t\\right)^{3} + 504 t^{5} x_{7} \\left(1 - t\\right)^{3} - 630 t^{4} x_{5} \\left(1 - t\\right)^{4} + 630 t^{4} x_{6} \\left(1 - t\\right)^{4} - 504 t^{3} x_{4} \\left(1 - t\\right)^{5} + 504 t^{3} x_{5} \\left(1 - t\\right)^{5} - 252 t^{2} x_{3} \\left(1 - t\\right)^{6} + 252 t^{2} x_{4} \\left(1 - t\\right)^{6} - 72 t x_{2} \\left(1 - t\\right)^{7} + 72 t x_{3} \\left(1 - t\\right)^{7} - 9 x_{1} \\left(1 - t\\right)^{8} + 9 x_{2} \\left(1 - t\\right)^{8}$"
          },
          "metadata": {},
          "execution_count": 143
        }
      ]
    },
    {
      "cell_type": "code",
      "source": [
        "%matplotlib ipympl\n",
        "from spb import plot_parametric, plot_list\n",
        "\n",
        "P1 = Matrix([Point(1, 1), Point(-4, -10), Point(-6, 5)])\n",
        "P2 = Matrix([Point(-6, 5), Point(-4, 20), Point(1, 1)])\n",
        "\n",
        "curve1 = BezCurve(P1)\n",
        "curve1d = tuple(map(lambda expr: expr.diff(t), curve1))\n",
        "\n",
        "curve2 = BezCurve(P2)\n",
        "curve2d = tuple(map(lambda expr: expr.diff(t), curve1))\n",
        "\n",
        "p1 = plot_parametric(\n",
        "    (*curve1, \"$\\mathbb{B}_1$\", {'color': 'blue'}),\n",
        "    (*curve1d, \"$\\mathbb{B}_1'$\", {'color': 'orange'}),\n",
        "    (*curve2, \"$\\mathbb{B}_2$\", {'color': 'blue'}),\n",
        "    (*curve2d, \"$\\mathbb{B}_2'$\", {'color': 'orange'}),\n",
        "    (t, 0, 1),\n",
        "    use_cm=False, show=False\n",
        ")\n",
        "\n",
        "X1, Y1 = list(P1)[0::2], list(P1)[1::2]\n",
        "X2, Y2 = list(P2)[0::2], list(P2)[1::2]\n",
        "\n",
        "style = {\n",
        "    'color': 'grey',\n",
        "    'linestyle': '--',\n",
        "    'marker': 's',\n",
        "    'markerfacecolor': 'blue',\n",
        "    'markeredgecolor': 'black',\n",
        "    'markeredgewidth': 2,\n",
        "    'linewidth': 2,\n",
        "    'markersize': 9\n",
        "    }\n",
        "\n",
        "p2 = plot_list(\n",
        "    (X1, Y1, '', style),\n",
        "    (X2, Y2, '', style),\n",
        "    show=False\n",
        ")\n",
        "\n",
        "p = p1 + p2\n",
        "p.show()"
      ],
      "metadata": {
        "colab": {
          "base_uri": "https://localhost:8080/",
          "height": 569,
          "referenced_widgets": [
            "25109d2d092649a8a9200e4776e9e8e0",
            "4801ecfd96fd472aa06b7a5c231a7ad2",
            "e26e6bf7ca774aedb07c5147f8725ee8",
            "1bdf47bfe2c840cf81351223adc162b3"
          ]
        },
        "id": "aF34eLtwk1gG",
        "outputId": "c2a9b052-e0c2-4539-b22c-dfaa59112a26"
      },
      "execution_count": null,
      "outputs": [
        {
          "output_type": "display_data",
          "data": {
            "text/plain": [
              "Canvas(toolbar=Toolbar(toolitems=[('Home', 'Reset original view', 'home', 'home'), ('Back', 'Back to previous …"
            ],
            "image/png": "[encoded data removed]",
            "text/html": [
              "\n",
              "            <div style=\"display: inline-block;\">\n",
              "                <div class=\"jupyter-widgets widget-label\" style=\"text-align: center;\">\n",
              "                    Figure\n",
              "                </div>\n",
              "                <img src='data:image/png;base64,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' width=640.0/>\n",
              "            </div>\n",
              "        "
            ],
            "application/vnd.jupyter.widget-view+json": {
              "version_major": 2,
              "version_minor": 0,
              "model_id": "25109d2d092649a8a9200e4776e9e8e0"
            }
          },
          "metadata": {
            "application/vnd.jupyter.widget-view+json": {
              "colab": {
                "custom_widget_manager": {
                  "url": "https://ssl.gstatic.com/colaboratory-static/widgets/colab-cdn-widget-manager/b3e629b1971e1542/manager.min.js"
                }
              }
            }
          }
        }
      ]
    },
    {
      "cell_type": "markdown",
      "source": [
        "# $\\large \\text{Fourier Transform and Series}$"
      ],
      "metadata": {
        "id": "OUTjr4ilUb8O"
      }
    },
    {
      "cell_type": "markdown",
      "source": [
        "## $\\large \\text{Fourier Transfromation by definition}$\n",
        "$\\LARGE \\hat{f}( \\xi ) = ∫\\limits_{-∞}^{∞} f(t) e^{-i 2 π \\xi t} dt$\\\n",
        "$\\Large Where~ f(t)~ -~ processed~ signal,~ t~ -~ time,~ \\xi~ -~ frequency.$\\\n",
        "$\\Large We~ will~ know~ the~ frequency~ of~ the~ signal~ when~ at~ a~ certain~ \\xi~ our~ value~ of~ the~ function~ \\hat{f}( \\xi )~ is~ not~ equal~ to~ 0$"
      ],
      "metadata": {
        "id": "yhvOuhPrUjym"
      }
    },
    {
      "cell_type": "code",
      "source": [],
      "metadata": {
        "id": "yNj5wKr7Uak-"
      },
      "execution_count": null,
      "outputs": []
    },
    {
      "cell_type": "markdown",
      "source": [
        "## $\\large \\text{Fourier Series}$\n",
        "$\\Large s_{N}(x) = ∑\\limits_{n=-N}^{N} {C_{n} \\exp(i 2 π \\frac{n}{P} x)}$\\\n",
        "$\\Large s_{N}(x) = D_{0} + ∑\\limits_{n=1}^{N} {D_{n} \\cos(2 π \\frac{n}{P} x - ϕ_{n})} = $\\\n",
        "$\\Large A_{0} + ∑\\limits_{n=1}^{N} {A_{n} \\cos(2 π \\frac{n}{P} x) + B_{n} \\sin(2 π \\frac{n}{P} x)}$\n",
        "$\\Large x \\text{ - time}$\\\n",
        "$\\Large s_{N} \\text{ - signal}$\\\n",
        "$\\Large N \\text{ - number of points}$\\\n",
        "$\\Large P \\text{ - period}$\\\n",
        "$\\Large A_{n}, B_{n}, C_{n}, D_{n} \\text{ - coefficients}$\n"
      ],
      "metadata": {
        "id": "jT4VD0T0VY9h"
      }
    },
    {
      "cell_type": "markdown",
      "source": [
        "$\\Large A_{n} = D_{n} \\cos(ϕ_{n});~ B_{n} = D_{n} \\sin(ϕ_{n})$\\\n",
        "$\\Large D_{n} = \\sqrt{A_{n}^2 + B_{n}^2};~ ϕ_{n}=\\arctan(\\frac{B_{n}}{A_{n}})$\\\n",
        "\\\n",
        "$\\Large \\text{Fourier series analysis}$\\\n",
        "$\\Large A_{0} = \\frac{1}{P} ∫_{P} s(x) dx$\\\n",
        "$\\Large A_{n} = \\frac{2}{P} ∫_{P} s(x) \\cos(2 π \\frac{n}{P} x) dx, ~ for~ n ≥ 1$\\\n",
        "$\\Large B_{n} = \\frac{2}{P} ∫_{P} s(x) \\sin(2 π \\frac{n}{P} x) dx, ~ for~ n ≥ 1$\n",
        "$\\Large C_{n} = \\frac{1}{P} ∫_{P} s(x) \\exp(-i 2 π \\frac{n}{P} x) dx, ~ for~ n ≥ 1$"
      ],
      "metadata": {
        "id": "_AtPsBidba_f"
      }
    },
    {
      "cell_type": "code",
      "source": [],
      "metadata": {
        "id": "ab7vnxxYVZOY"
      },
      "execution_count": null,
      "outputs": []
    },
    {
      "cell_type": "markdown",
      "source": [
        "## $\\large \\text{Discrete Fourier transform}$\n",
        "$\\Large X_{k} = \\sum\\limits_{n=0}^{N-1} {x_n \\cdot \\exp(- \\frac{i 2 \\pi}{N} k n)}$\\\n",
        "\\\n",
        "$\\Large \\text{Inverse transform}$\\\n",
        "$\\Large x_{n} = \\frac{1}{N} ∑\\limits_{k=0}^{N-1} {X_{k} \\exp(2 π i \\frac{kn}{N})}$"
      ],
      "metadata": {
        "id": "u3dhgqUKbU4e"
      }
    },
    {
      "cell_type": "markdown",
      "source": [
        "$\\Large \\frac{1}{N}|X_{k}| = \\frac{1}{N} \\sqrt{  Re(X_{k})^2  + Im(X_{k})^2}; \\arg(X_{k}) = \\arctan(\\frac{X_{k}}{|X_{k}|}) = -i ⋅ \\ln(\\frac{X_k}{|X_{k}|})$"
      ],
      "metadata": {
        "id": "FDq0XCnjdJkv"
      }
    },
    {
      "cell_type": "code",
      "source": [],
      "metadata": {
        "id": "rR4AndhfbVff"
      },
      "execution_count": null,
      "outputs": []
    },
    {
      "cell_type": "markdown",
      "source": [
        "# $\\large \\text{Methods of Approximation}$"
      ],
      "metadata": {
        "id": "h35OXYYTIWr-"
      }
    },
    {
      "cell_type": "markdown",
      "source": [
        "## $\\large \\text{Simpson's rules}$"
      ],
      "metadata": {
        "id": "6gSziI9LIfEB"
      }
    },
    {
      "cell_type": "code",
      "source": [
        "# @title $\\large \\text{Import library}$\n",
        "from sympy import symbols, Lambda,\\\n",
        "    integrate, factorial, Sum,\\\n",
        "    Function, Rational,\\\n",
        "    oo\n",
        "\n",
        "from functools import partial\n",
        "\n",
        "func = Function('f')\n",
        "a, b, x = symbols('a, b, x', real=True)\n",
        "n, i = symbols('n, i', integer=True, negative=False)\n",
        "\n",
        "Func = integrate(func(x), (x, a, b))\n",
        "\n",
        "h = (b - a)/n\n",
        "x_i = Lambda(i, a + i*h)\n",
        "\n",
        "Func"
      ],
      "metadata": {
        "colab": {
          "base_uri": "https://localhost:8080/",
          "height": 80
        },
        "id": "HMdUmyXIIWH3",
        "outputId": "2ad9f23c-1229-4836-d873-86cf8e6fe71d"
      },
      "execution_count": null,
      "outputs": [
        {
          "output_type": "execute_result",
          "data": {
            "text/plain": [
              "Integral(f(x), (x, a, b))"
            ],
            "text/latex": "$\\displaystyle \\int\\limits_{a}^{b} f{\\left(x \\right)}\\, dx$"
          },
          "metadata": {},
          "execution_count": 1
        }
      ]
    },
    {
      "cell_type": "markdown",
      "source": [
        "### $\\large \\text{Simpson's 1/3 rule}$\n",
        "$\\Large ∫\\limits^{b}_{a} f(x) dx ≈ \\frac {1} {3} h ∑\\limits^{n/2}_{i=1} [f(x_{2i-2}) + 4f(x_{2i-1}) + f(x_{2i})] = \\frac {1} {3} h [f(x_0) + 4 ∑\\limits^{n/2}_{i=1} {f(x_{2i-1})} + 2 ∑\\limits^{n/2-1}_{i=1} {f(x_{2i})} + f(x_n)]$\\\n",
        "\\\n",
        "$\\large n=2$\\\n",
        "$\\Large ∫\\limits^{b}_{a} f(x) dx ≈ ∫ \\limits^{b}_{a} p_2(x) dx = \\frac {b - a} {6} \\cdot (f(a) + 4f(\\frac {a + b} {2}) + f(b))$\\\n",
        "\\\n",
        "$\\Large \\text{The Error in approximating an integral by Simpson's rule for n=2}$\\\n",
        "$\\large h = \\frac {b -a} {2}$\\\n",
        "$\\Large E(f) = - \\frac {1} {90} h^5  f^{(4)}(ζ)= - \\frac {(b-a)^5} {2880} f^{(4)}(ζ),~ ζ∈ [a, b]$\\\n",
        "$\\Large |E(f)| \\leqslant \\frac {(b-a)^5} {2880} \\max \\limits_{x∈[a, b]} |f^{(4)}(x)|$"
      ],
      "metadata": {
        "id": "c7ydVR4rIzvG"
      }
    },
    {
      "cell_type": "code",
      "source": [
        "# Simpson's rule 1/3\n",
        "approx1 = Rational(1, 3) * h * (func( x_i(0) )\\\n",
        "                                + 4*Sum( func( x_i(2*i-1) ), (i, 1, n//2))\\\n",
        "                                + 2*Sum( func( x_i(2*i) ), (i, 1, n//2-1))\\\n",
        "                                + func( x_i(n) )\n",
        "                                )\n",
        "\n",
        "approx1"
      ],
      "metadata": {
        "id": "PvP_ju-RIyWn"
      },
      "execution_count": null,
      "outputs": []
    },
    {
      "cell_type": "markdown",
      "source": [
        "### $\\large \\text{Simpson's 3/8 rule}$\n",
        "$\\Large ∫\\limits^{b}_{a} f(x) dx ≈ \\frac {3} {8} h ∑\\limits^{n/3}_{i=1} [f(x_{3i-3}) + 3 f(x_{3i-2}) + 3 f(x_{3i-1}) + f(x_{3i})] = \\frac {3} {8} h [f(x_0) + 3 ∑\\limits^{n-1}_{i=1,~ 3|i} {f(x_{i})} + 2 ∑\\limits^{n/3-1}_{i=1} {f(x_{3i})} + f(x_n)]$\\\n",
        "\\\n",
        "$\\Large n=3$\\\n",
        "$\\Large ∫\\limits^{b}_{a} f(x) dx ≈ \\frac {b - a} {8} [f(a) + 3 f( \\frac {2a + b} {3} ) + 3 f( \\frac {a+2b} {3} ) + f(b)]$\\\n",
        "\\\n",
        "$\\Large \\text{The Error in approximating an integral by Simpson's rule for n=2}$\\\n",
        "$\\large h = \\frac {b - a} {2}$\\\n",
        "$\\Large E(f) = - \\frac {3} {80} h^5  f^{(4)}(ζ)= - \\frac {(b-a)^5} {6480} f^{(4)}(ζ),~ ζ∈ [a, b]$\\\n",
        "$\\Large |E(f)| \\leqslant \\frac {(b-a)^5} {6480} \\max \\limits_{x∈[a, b]} |f^{(4)}(x)|$"
      ],
      "metadata": {
        "id": "kxm-l_DcI-i1"
      }
    },
    {
      "cell_type": "code",
      "source": [
        "# Simpson's rile 3/8\n",
        "approx2 = Rational(3, 8) * h * ( func( x_i(0) )\\\n",
        "                                + 3*Sum( func( x_i(i) ), (i, 1, n-1))\\\n",
        "                                - Sum( func( x_i(3*i) ), (i, 1, n//3-1))\\\n",
        "                                + func( x_i(n) )\n",
        "                                )\n",
        "\n",
        "approx2"
      ],
      "metadata": {
        "id": "mybn-a3EI9UF"
      },
      "execution_count": null,
      "outputs": []
    },
    {
      "cell_type": "markdown",
      "source": [
        "### $\\large \\text{Alternative extended Simpson's rule}$\n",
        "$\\Large ∫\\limits^{b}_{a} f(x) dx ≈ \\frac {1} {48} h [17 f(x_0) + 59 f(x_1) + 43 f(x_2) + 49 f(x_3) + 48 ∑\\limits^{n-4}_{i=4} {f(x_i)} + 49 f(x_{n-3}) + 43 f(x_{n-2}) 59 f(x_{n-1}) 17 f(x_n)]$"
      ],
      "metadata": {
        "id": "kNjfdr8NJH3N"
      }
    },
    {
      "cell_type": "code",
      "source": [
        "# Extended Simpson's rule\n",
        "approx3 = Rational(1, 48) * h * (17*(func( x_i(0) ) + func( x_i(n) ))\\\n",
        "                            + 59*( func( x_i(1) ) + func( x_i(n-1) ))\\\n",
        "                            + 43*( func( x_i(2) ) + func( x_i(n-2) ))\\\n",
        "                            + 49*( func( x_i(3) ) + func( x_i(n-3) ))\\\n",
        "                            + 48*Sum( func( x_i(i) ), (i, 4, n-4))\n",
        "                            )\n",
        "\n",
        "approx3"
      ],
      "metadata": {
        "id": "ksJ-xuxMJLkk"
      },
      "execution_count": null,
      "outputs": []
    },
    {
      "cell_type": "markdown",
      "source": [
        "## $\\large \\text{Taylor series}$"
      ],
      "metadata": {
        "id": "tjlozlIDJKDE"
      }
    },
    {
      "cell_type": "markdown",
      "source": [
        "$\\Large f(x) = ∑\\limits^{∞}_{n=0} {\\frac {f^{(n)} (a) } {n!} (x-a)^n}$\\\n",
        "$\\Large \\frac {f^{(n)}(a)} {n!} = a_n$\\\n",
        "$\\Large R = \\lim\\limits_{k → ∞} { \\left| \\frac {\\frac {f^{(k)}(a)} {k!}} {\\frac{f^{(k+1)}(a)}{(k+1)!}} \\right| } = \\lim\\limits_{k → ∞} { \\left| \\frac{f^{(k)}(a)}{f^{(k+1)}(a)}(k+1) \\right| }$"
      ],
      "metadata": {
        "id": "elbn59YYQOQJ"
      }
    },
    {
      "cell_type": "code",
      "source": [
        "# @title $\\large \\text{Taylor series of } f(x)$\n",
        "from sympy import Sum, factorial,\\\n",
        "    oo,\\\n",
        "    symbols, Symbol, Lambda, Function, Expr,\\\n",
        "    S, Union, FiniteSet\n",
        "\n",
        "from typing import Callable\n",
        "\n",
        "x, a, x0 = symbols('x, a, x0', real=True)\n",
        "f = symbols('f', cls=Function)\n",
        "N, n = symbols('N, n', integer=True, negative=False)\n",
        "\n",
        "def Tseries(f: Function|Lambda|Expr, N: Union(S.Integers, FiniteSet(oo)), x0: S.Reals=0, evaluate=True):\n",
        "    '''\n",
        "    Taylor series of a real or complex-values function f(x)\n",
        "    that is infinitely differentiable at a real or complex number x0\n",
        "    '''\n",
        "    mx = symbols('x')\n",
        "    all_symbols = list(filter(lambda ex: isinstance(ex, Symbol), f.atoms()))\n",
        "\n",
        "    if (N is oo) and evaluate:\n",
        "        evaluate = False\n",
        "\n",
        "    if isinstance(f, Callable):\n",
        "        f = f(x)\n",
        "\n",
        "    expr = Sum( ( f.diff((x, n)).subs(x, x0)/factorial(n) )*(x - x0)**n, (n, 0, N))\n",
        "\n",
        "    if evaluate:\n",
        "        return expr.doit().simplify()\n",
        "\n",
        "    else:\n",
        "        return expr\n",
        "\n",
        "\n",
        "Tseries(f(a, x), oo, 0)"
      ],
      "metadata": {
        "colab": {
          "base_uri": "https://localhost:8080/",
          "height": 69
        },
        "id": "uJj2mvlAJHr1",
        "outputId": "f65b84b7-c2a1-4388-a81b-227877b8d363"
      },
      "execution_count": null,
      "outputs": [
        {
          "output_type": "execute_result",
          "data": {
            "text/plain": [
              "Sum(x**n*Subs(Derivative(f(a, x), (x, n)), x, 0)/factorial(n), (n, 0, oo))"
            ],
            "text/latex": "$\\displaystyle \\sum_{n=0}^{\\infty} \\frac{x^{n} \\left. \\frac{\\partial^{n}}{\\partial x^{n}} f{\\left(a,x \\right)} \\right|_{\\substack{ x=0 }}}{n!}$"
          },
          "metadata": {},
          "execution_count": 164
        }
      ]
    },
    {
      "cell_type": "code",
      "source": [
        "isinstance(x, Symbol)"
      ],
      "metadata": {
        "colab": {
          "base_uri": "https://localhost:8080/"
        },
        "id": "Ai79X7HDc2dE",
        "outputId": "0e419062-e688-4e23-b911-3146d4d7a78b"
      },
      "execution_count": null,
      "outputs": [
        {
          "output_type": "execute_result",
          "data": {
            "text/plain": [
              "True"
            ]
          },
          "metadata": {},
          "execution_count": 180
        }
      ]
    },
    {
      "cell_type": "code",
      "source": [
        "for expr in [f(x, a).diff(x), a*x**2*f(x)*Lambda((x, a, n), a*x**(2*n)), Lambda((x, a, n), a*x**(2*n))]:\n",
        "    print( expr )\n",
        "    print( expr.args )\n",
        "    print( list(map(lambda ex: ex.args, expr.args)) )\n",
        "    print(  )"
      ],
      "metadata": {
        "colab": {
          "base_uri": "https://localhost:8080/"
        },
        "id": "6nLmbVJGbnpr",
        "outputId": "04fd0d9e-2bac-4ba5-a9f3-c4cb80ebd39b"
      },
      "execution_count": null,
      "outputs": [
        {
          "output_type": "stream",
          "name": "stdout",
          "text": [
            "Derivative(f(x, a), x)\n",
            "(f(x, a), (x, 1))\n",
            "[(x, a), (x, 1)]\n",
            "[a, x]\n",
            "a*x**2*f(x)*Lambda((x, a, n), a*x**(2*n))\n",
            "(a, x**2, f(x), Lambda((x, a, n), a*x**(2*n)))\n",
            "[(), (x, 2), (x,), ((x, a, n), a*x**(2*n))]\n",
            "[n, a, x]\n",
            "Lambda((x, a, n), a*x**(2*n))\n",
            "((x, a, n), a*x**(2*n))\n",
            "[(x, a, n), (a, x**(2*n))]\n",
            "[a, n, x]\n"
          ]
        }
      ]
    },
    {
      "cell_type": "code",
      "source": [
        "from sympy import symbols, Product, Sum, factorial, oo, root, Rational, gamma\n",
        "a, x = symbols('a, x', real=True)\n",
        "g = a*root(1+x, 3)\n",
        "gen = g.series(x, n=None)\n",
        "sum([next(gen) for i in range(10)])"
      ],
      "metadata": {
        "colab": {
          "base_uri": "https://localhost:8080/",
          "height": 54
        },
        "id": "9aIUF4qqVpK7",
        "outputId": "296ea46d-9bcf-42aa-8b19-98318c9c908d"
      },
      "execution_count": null,
      "outputs": [
        {
          "output_type": "execute_result",
          "data": {
            "text/plain": [
              "21505*a*x**9/1594323 - 935*a*x**8/59049 + 374*a*x**7/19683 - 154*a*x**6/6561 + 22*a*x**5/729 - 10*a*x**4/243 + 5*a*x**3/81 - a*x**2/9 + a*x/3 + a"
            ],
            "text/latex": "$\\displaystyle \\frac{21505 a x^{9}}{1594323} - \\frac{935 a x^{8}}{59049} + \\frac{374 a x^{7}}{19683} - \\frac{154 a x^{6}}{6561} + \\frac{22 a x^{5}}{729} - \\frac{10 a x^{4}}{243} + \\frac{5 a x^{3}}{81} - \\frac{a x^{2}}{9} + \\frac{a x}{3} + a$"
          },
          "metadata": {},
          "execution_count": 59
        }
      ]
    },
    {
      "cell_type": "code",
      "source": [
        "i, n = symbols('i, n', integer=True, nonnegative=True)\n",
        "f = Product( (Rational(1, 3) - i), (i, 0, n))/factorial(n+1)\n",
        "f"
      ],
      "metadata": {
        "colab": {
          "base_uri": "https://localhost:8080/",
          "height": 60
        },
        "id": "LyJMelzeYnKl",
        "outputId": "e3a3bc97-9de7-458d-9096-7d5191fb20e7"
      },
      "execution_count": null,
      "outputs": [
        {
          "output_type": "execute_result",
          "data": {
            "text/plain": [
              "Product(1/3 - i, (i, 0, n))/factorial(n + 1)"
            ],
            "text/latex": "$\\displaystyle \\frac{\\prod_{i=0}^{n} \\left(\\frac{1}{3} - i\\right)}{\\left(n + 1\\right)!}$"
          },
          "metadata": {},
          "execution_count": 60
        }
      ]
    },
    {
      "cell_type": "code",
      "source": [
        "f = gamma(Rational(1, 3))/(3*gamma(Rational(1, 3) - n)*gamma(n + 2))\n",
        "f"
      ],
      "metadata": {
        "colab": {
          "base_uri": "https://localhost:8080/",
          "height": 62
        },
        "id": "KCGBPzFwcRlm",
        "outputId": "bce11446-3fca-4623-f7fa-7a822203d6db"
      },
      "execution_count": null,
      "outputs": [
        {
          "output_type": "execute_result",
          "data": {
            "text/plain": [
              "gamma(1/3)/(3*gamma(1/3 - n)*gamma(n + 2))"
            ],
            "text/latex": "$\\displaystyle \\frac{\\Gamma\\left(\\frac{1}{3}\\right)}{3 \\Gamma\\left(\\frac{1}{3} - n\\right) \\Gamma\\left(n + 2\\right)}$"
          },
          "metadata": {},
          "execution_count": 61
        }
      ]
    },
    {
      "cell_type": "code",
      "source": [
        "Sum(f.subs(n, n)*a*x**n, (n, 0, oo))"
      ],
      "metadata": {
        "colab": {
          "base_uri": "https://localhost:8080/",
          "height": 66
        },
        "id": "_aZuI3WBae62",
        "outputId": "7567673e-17b0-44b4-f8b6-952392dcff89"
      },
      "execution_count": null,
      "outputs": [
        {
          "output_type": "execute_result",
          "data": {
            "text/plain": [
              "Sum(a*x**n*gamma(1/3)/(3*gamma(1/3 - n)*gamma(n + 2)), (n, 0, oo))"
            ],
            "text/latex": "$\\displaystyle \\sum_{n=0}^{\\infty} \\frac{a x^{n} \\Gamma\\left(\\frac{1}{3}\\right)}{3 \\Gamma\\left(\\frac{1}{3} - n\\right) \\Gamma\\left(n + 2\\right)}$"
          },
          "metadata": {},
          "execution_count": 78
        }
      ]
    },
    {
      "cell_type": "markdown",
      "source": [
        "### $\\large \\text{Taylor series in several variables}$\n",
        "$\\Large T(x_{1}, ⋯, x_{d}) = \\sum\\limits^{∞}_{n_{1}=0} { ⋯ ∑\\limits^{∞}_{n_{d}=0} {\\frac {(x_{1}-a_{1})^{n_{1}} ⋯ (x_{d} - a_{d})^{n_{d}}} {n_{1}! \\cdots n_{d}!} (\\frac {δ^{n_{1} + ⋯ + n_{d}} f} {δx_{1}^{n_1} ⋯ δx_{d}^{n_d}} ) (a_{1}, \\cdots, a_{d})} }$"
      ],
      "metadata": {
        "id": "2AfXWTXCJ_fG"
      }
    },
    {
      "cell_type": "code",
      "source": [
        "# @title $\\large \\text{Taylor series of } f(x_{1}, \\cdots, x_{d})$\n",
        "print(\"I'm too lazy\")"
      ],
      "metadata": {
        "colab": {
          "base_uri": "https://localhost:8080/"
        },
        "id": "k2V0AgmbKCR4",
        "outputId": "10b6987d-ba5c-47ca-943e-f60e37a49c7e"
      },
      "execution_count": null,
      "outputs": [
        {
          "output_type": "stream",
          "name": "stdout",
          "text": [
            "I'm too lazy\n"
          ]
        }
      ]
    },
    {
      "cell_type": "markdown",
      "source": [
        "### $\\large \\text{Newton's method}$\n",
        "$\\Large x_{n+1} = x_{n} - \\frac{f(x_{n})}{f'(x_{n})}$"
      ],
      "metadata": {
        "id": "W-KAeSOiMEYs"
      }
    },
    {
      "cell_type": "code",
      "source": [
        "from typing import Callable\n",
        "from sympy import symbols, Lambda, Function\n",
        "x = symbols('x')\n",
        "f = symbols('f', cls=Function)\n",
        "g = Lambda(x, x**2)\n",
        "h = x**2\n",
        "print(f'{isinstance(x, Callable) = }')\n",
        "print(f'{isinstance(f, Callable) = }')\n",
        "print(f'{isinstance(g, Callable) = }')\n",
        "print(f'{isinstance(h, Callable) = }')"
      ],
      "metadata": {
        "colab": {
          "base_uri": "https://localhost:8080/"
        },
        "id": "iRU-fDrEWRGJ",
        "outputId": "48a8b35f-822d-46ef-bf2c-70b029567b44"
      },
      "execution_count": null,
      "outputs": [
        {
          "output_type": "stream",
          "name": "stdout",
          "text": [
            "isinstance(x, Callable) = False\n",
            "isinstance(f, Callable) = True\n",
            "isinstance(g, Callable) = True\n",
            "isinstance(h, Callable) = False\n"
          ]
        }
      ]
    },
    {
      "cell_type": "code",
      "source": [
        "# @title $\\large \\text{Newton's method of } f(x)$\n",
        "from sympy import Function, Lambda, Expr,\\\n",
        "    S,\\\n",
        "    Abs, Pow, sqrt, Rational\n",
        "\n",
        "import sys\n",
        "sys.set_int_max_str_digits(10**5)\n",
        "\n",
        "def NewtonApprox(f: Lambda|Expr, x_0: S.Complexes, epsilon=1e-6):\n",
        "\n",
        "    if isinstance(f, Lambda): #Lambda or Function\n",
        "        f = f(x)\n",
        "\n",
        "    func = f/f.diff(x)\n",
        "    x_pred = S.Infinity\n",
        "    x_n = x_0 - func.subs(x, x_0)\n",
        "    while Abs(x_n - x_pred) > epsilon:\n",
        "        x_pred = x_n\n",
        "        x_n = x_n - func.subs(x, x_n)\n",
        "\n",
        "    return (x_n, Abs(x_n - x_pred))\n",
        "\n",
        "(NewtonApprox(x**3-2, 2, Pow(10, -10))[0]).evalf()"
      ],
      "metadata": {
        "colab": {
          "base_uri": "https://localhost:8080/",
          "height": 37
        },
        "id": "RzQvFxDaMLPv",
        "outputId": "5da74a62-3a02-4027-ffc8-d35872fcbfe4"
      },
      "execution_count": null,
      "outputs": [
        {
          "output_type": "execute_result",
          "data": {
            "text/plain": [
              "1.25992104989487"
            ],
            "text/latex": "$\\displaystyle 1.25992104989487$"
          },
          "metadata": {},
          "execution_count": 83
        }
      ]
    },
    {
      "cell_type": "markdown",
      "source": [
        "# $\\large \\text{The method of least squares}$"
      ],
      "metadata": {
        "id": "WTSYaG4Ne-hx"
      }
    },
    {
      "cell_type": "markdown",
      "source": [
        "$\\Large \\text{Problem statement}$\\\n",
        "$\\large \\text{The objective consists of adjusting the parameters of a model function to best fit a data set.}$\\\n",
        "$\\large \\text{A simple data set consists of } n \\text{ points (data pairs) } (x_{i}, y_{i}),~ i = 1, ⋯, n$\\\n",
        "$\\large \\text{where } x_{i} \\text{ is an independent variable and } y_{i} \\text{ is a dependent variable whose value is found by observation.}$\n",
        "$\\Large r_{i} = y_{i} - f(x_{i}, β)$\\\n",
        "$\\large \\text{The least-squares method finds the optimal parameter values by minimizing the sum of squared residuals } S$\\\n",
        "$\\Large S = ∑\\limits_{i=1}^{n} { r_{i}^2 }$"
      ],
      "metadata": {
        "id": "y3zN_nPCgsSi"
      }
    },
    {
      "cell_type": "markdown",
      "source": [
        "## $\\large \\text{Solving the least squares problem}$"
      ],
      "metadata": {
        "id": "woKDzssur9yP"
      }
    },
    {
      "cell_type": "markdown",
      "source": [
        "$\\large \\text{The minimum of the sum of squares is found by setting the gradient to zero.}$\\\n",
        "$\\large \\text{Since the model contains } m \\text{ parameters, there are } m \\text{ gradient equations}$\n",
        "$\\Large \\frac {∂ S} {∂ β_{j}} = 2 ∑\\limits_{i} { r_{i} \\frac {∂ r_{i}} {∂ β_{j}} },~ j=1,⋯,m$\\\n",
        "$\\large \\text{since } r_{i}=y_{i}-f(x_{i}, β) \\text{, the gradient equations become}$\\\n",
        "$\\Large -2 ∑\\limits_{i} { r_{i} \\frac {∂ f(x_{i}, β)} {∂ β_{i}} } = 0,~ j=1,⋯,m$\n"
      ],
      "metadata": {
        "id": "36AwYsODsSoT"
      }
    },
    {
      "cell_type": "markdown",
      "source": [
        "### $\\large \\text{Linear least squares}$"
      ],
      "metadata": {
        "id": "QQbJeX3xu08O"
      }
    },
    {
      "cell_type": "markdown",
      "source": [
        "$\\Large f(x, β) = ∑\\limits_{j=1}^{m} { β_{j} ϕ_{j}(x) }$\\\n",
        "$\\large \\text{where the function } ϕ_{j} \\text{ is a function of } x$\\\n",
        "$\\large \\text{Letting } X_{ij} = ϕ_{j}(x_{i}) \\text{ and putting the independent and dependent variables in matrices } X \\text{ and } Y,$\\\n",
        "$\\large \\text{respectively, we can compute the least squares in the following way. Note that } D \\text{ is the set of all data.}$\\\n",
        "$\\Large L(D,{\\boldsymbol{β}}) = \\lVert Y - X{\\boldsymbol{β}} \\rVert^{2} = (Y - X{\\boldsymbol{β}})^{\\mathsf{T}} (Y - X{\\boldsymbol{β}}) = Y^{\\mathsf{T}}Y - Y^{\\mathsf{T}}X{\\boldsymbol{β}} - {\\boldsymbol{β}}^{\\mathsf{T}}X^{\\mathsf{T}}Y + {\\boldsymbol{β}}^{\\mathsf{T}}X^{\\mathsf{T}}X{\\boldsymbol{β}}$\n",
        "$\\large \\text{The gradient of the loss is}$\\\n",
        "$\\Large {\\frac {∂ L(D,{\\boldsymbol {β}})}{∂ {\\boldsymbol{β}}}} = {\\frac {∂ \\left( Y^{\\mathsf{T}}Y - Y^{\\mathsf{T}}X{\\boldsymbol{β}} - {\\boldsymbol{β}}^{\\mathsf{T}}X^{\\mathsf{T}}Y + {\\boldsymbol{β}}^{\\mathsf{T}}X^{\\mathsf{T}}X{\\boldsymbol{β}} \\right)} {∂ {\\boldsymbol{β}}}} = -2X^{\\mathsf{T}}Y + 2X^{\\mathsf{T}}X{\\boldsymbol{β}}$\\\n",
        "$\\large \\text{Setting the gradient of the loss to zero and solving for } β, \\text{ we get}$\\\n",
        "$\\Large -2X^{\\mathsf{T}}Y + 2X^{\\mathsf{T}}X{\\boldsymbol{β}} = 0 ⇒ X^{\\mathsf{T}}Y = X^{\\mathsf{T}}X{\\boldsymbol{β}}$\\\n",
        "$\\Large {\\boldsymbol{\\hat{β}}} = \\left(X^{\\mathsf{T}}X \\right)^{-1}X^{\\mathsf{T}}Y$"
      ],
      "metadata": {
        "id": "O7J2DoUsvAN_"
      }
    },
    {
      "cell_type": "code",
      "source": [],
      "metadata": {
        "id": "LirHYfuY-MI3"
      },
      "execution_count": null,
      "outputs": []
    },
    {
      "cell_type": "markdown",
      "source": [
        "### $\\large \\text{Non-linear least squares}$"
      ],
      "metadata": {
        "id": "QEmlYJFj5zAn"
      }
    },
    {
      "cell_type": "markdown",
      "source": [],
      "metadata": {
        "id": "buoLgTV757KK"
      }
    },
    {
      "cell_type": "code",
      "source": [],
      "metadata": {
        "id": "QQwStoMpsNDs"
      },
      "execution_count": null,
      "outputs": []
    },
    {
      "cell_type": "code",
      "source": [],
      "metadata": {
        "id": "eBIleLMYr-Tn"
      },
      "execution_count": null,
      "outputs": []
    },
    {
      "cell_type": "markdown",
      "source": [
        "## $\\large \\text{Simple case}$\n",
        "$\\Large f(x_{i}, β) = β$\n",
        "$\\large \\text{The result of the least-squares method is the arithmetic mean of the input data}$\n"
      ],
      "metadata": {
        "id": "9TkLVtQkjCSR"
      }
    },
    {
      "cell_type": "code",
      "source": [],
      "metadata": {
        "id": "6JcEtmNTjB0n"
      },
      "execution_count": null,
      "outputs": []
    },
    {
      "cell_type": "code",
      "source": [],
      "metadata": {
        "id": "pkEf256Wgny6"
      },
      "execution_count": null,
      "outputs": []
    },
    {
      "cell_type": "code",
      "source": [],
      "metadata": {
        "id": "n5CHuupOgnZn"
      },
      "execution_count": null,
      "outputs": []
    },
    {
      "cell_type": "code",
      "source": [],
      "metadata": {
        "id": "l8OR3E_4e84O"
      },
      "execution_count": null,
      "outputs": []
    },
    {
      "cell_type": "markdown",
      "source": [
        "# $\\large \\text{Rotate graph}$"
      ],
      "metadata": {
        "id": "LVFv67ZUtRVx"
      }
    },
    {
      "cell_type": "code",
      "source": [
        "# @title $\\large Defining~ variables$\n",
        "from sympy import symbols, cos, sin, re, im, I\n",
        "x, y, x0, y0 = symbols('x y x0 y0', real=True)\n",
        "(r1, r2, r3) = symbols('r1:4', real=True)\n",
        "alpha, beta, theta = symbols('alpha, beta, theta', real=True)\n",
        "r1, r2, r3, alpha, beta, theta, x, y, x0, y0"
      ],
      "metadata": {
        "id": "EKXjmzJoaK7I",
        "colab": {
          "base_uri": "https://localhost:8080/"
        },
        "outputId": "6a2fdd16-c63a-4c0e-e38b-d746eb7d9c35"
      },
      "execution_count": null,
      "outputs": [
        {
          "output_type": "execute_result",
          "data": {
            "text/plain": [
              "(r1, r2, r3, alpha, beta, theta, x, y, x0, y0)"
            ]
          },
          "metadata": {},
          "execution_count": 2
        }
      ]
    },
    {
      "cell_type": "code",
      "source": [
        "# @title $\\large Graph~ rotation~ relative~ to~ the~ center$\n",
        "position, rotate = r1*(cos(alpha) + I*sin(alpha)), (cos(theta) + I*sin(theta))\n",
        "position"
      ],
      "metadata": {
        "id": "NfH7PN98aLTY",
        "colab": {
          "base_uri": "https://localhost:8080/",
          "height": 38
        },
        "outputId": "3dadcf0f-781c-4d4b-dc36-7a3264bb6575"
      },
      "execution_count": null,
      "outputs": [
        {
          "output_type": "execute_result",
          "data": {
            "text/plain": [
              "r1*(I*sin(alpha) + cos(alpha))"
            ],
            "text/latex": "$\\displaystyle r_{1} \\left(i \\sin{\\left(\\alpha \\right)} + \\cos{\\left(\\alpha \\right)}\\right)$"
          },
          "metadata": {},
          "execution_count": 3
        }
      ]
    },
    {
      "cell_type": "code",
      "source": [
        "rotate"
      ],
      "metadata": {
        "id": "FTA3O13naLV3",
        "colab": {
          "base_uri": "https://localhost:8080/",
          "height": 38
        },
        "outputId": "617b7b8b-cc13-4dba-bbbb-3b7899503ec9"
      },
      "execution_count": null,
      "outputs": [
        {
          "output_type": "execute_result",
          "data": {
            "text/plain": [
              "I*sin(theta) + cos(theta)"
            ],
            "text/latex": "$\\displaystyle i \\sin{\\left(\\theta \\right)} + \\cos{\\left(\\theta \\right)}$"
          },
          "metadata": {},
          "execution_count": 4
        }
      ]
    },
    {
      "cell_type": "code",
      "source": [
        "A1 = position*rotate\n",
        "A1"
      ],
      "metadata": {
        "id": "1svDsH78aLXP",
        "colab": {
          "base_uri": "https://localhost:8080/",
          "height": 38
        },
        "outputId": "78fb8b43-fec4-43d6-8f63-1a79af0e4d57"
      },
      "execution_count": null,
      "outputs": [
        {
          "output_type": "execute_result",
          "data": {
            "text/plain": [
              "r1*(I*sin(alpha) + cos(alpha))*(I*sin(theta) + cos(theta))"
            ],
            "text/latex": "$\\displaystyle r_{1} \\left(i \\sin{\\left(\\alpha \\right)} + \\cos{\\left(\\alpha \\right)}\\right) \\left(i \\sin{\\left(\\theta \\right)} + \\cos{\\left(\\theta \\right)}\\right)$"
          },
          "metadata": {},
          "execution_count": 5
        }
      ]
    },
    {
      "cell_type": "code",
      "source": [
        "A1 = A1.expand()\n",
        "A1"
      ],
      "metadata": {
        "id": "OD_EWOvbaLYv",
        "colab": {
          "base_uri": "https://localhost:8080/",
          "height": 38
        },
        "outputId": "171ff185-93c7-47ee-95f9-9937058e58ce"
      },
      "execution_count": null,
      "outputs": [
        {
          "output_type": "execute_result",
          "data": {
            "text/plain": [
              "-r1*sin(alpha)*sin(theta) + I*r1*sin(alpha)*cos(theta) + I*r1*sin(theta)*cos(alpha) + r1*cos(alpha)*cos(theta)"
            ],
            "text/latex": "$\\displaystyle - r_{1} \\sin{\\left(\\alpha \\right)} \\sin{\\left(\\theta \\right)} + i r_{1} \\sin{\\left(\\alpha \\right)} \\cos{\\left(\\theta \\right)} + i r_{1} \\sin{\\left(\\theta \\right)} \\cos{\\left(\\alpha \\right)} + r_{1} \\cos{\\left(\\alpha \\right)} \\cos{\\left(\\theta \\right)}$"
          },
          "metadata": {},
          "execution_count": 6
        }
      ]
    },
    {
      "cell_type": "code",
      "source": [
        "A1 = A1.subs({r1*cos(alpha): x,  r1*sin(alpha): y})\n",
        "A1"
      ],
      "metadata": {
        "id": "1roxxbZVaLbX",
        "colab": {
          "base_uri": "https://localhost:8080/",
          "height": 38
        },
        "outputId": "1b7ecc36-58d6-4db2-c31a-84757756033a"
      },
      "execution_count": null,
      "outputs": [
        {
          "output_type": "execute_result",
          "data": {
            "text/plain": [
              "I*x*sin(theta) + x*cos(theta) - y*sin(theta) + I*y*cos(theta)"
            ],
            "text/latex": "$\\displaystyle i x \\sin{\\left(\\theta \\right)} + x \\cos{\\left(\\theta \\right)} - y \\sin{\\left(\\theta \\right)} + i y \\cos{\\left(\\theta \\right)}$"
          },
          "metadata": {},
          "execution_count": 7
        }
      ]
    },
    {
      "cell_type": "code",
      "source": [
        "x1, y1 = re(A1).simplify(), im(A1)\n",
        "x1"
      ],
      "metadata": {
        "id": "4cfocPv6aLeH",
        "colab": {
          "base_uri": "https://localhost:8080/",
          "height": 38
        },
        "outputId": "5a393c70-360e-4101-c589-cad4e52fdd4c"
      },
      "execution_count": null,
      "outputs": [
        {
          "output_type": "execute_result",
          "data": {
            "text/plain": [
              "x*cos(theta) - y*sin(theta)"
            ],
            "text/latex": "$\\displaystyle x \\cos{\\left(\\theta \\right)} - y \\sin{\\left(\\theta \\right)}$"
          },
          "metadata": {},
          "execution_count": 8
        }
      ]
    },
    {
      "cell_type": "code",
      "source": [
        "y1"
      ],
      "metadata": {
        "id": "RE8GuItsaLhH",
        "colab": {
          "base_uri": "https://localhost:8080/",
          "height": 38
        },
        "outputId": "a1cc08c9-8409-4a5d-c719-a859fe02e196"
      },
      "execution_count": null,
      "outputs": [
        {
          "output_type": "execute_result",
          "data": {
            "text/plain": [
              "x*sin(theta) + y*cos(theta)"
            ],
            "text/latex": "$\\displaystyle x \\sin{\\left(\\theta \\right)} + y \\cos{\\left(\\theta \\right)}$"
          },
          "metadata": {},
          "execution_count": 9
        }
      ]
    },
    {
      "cell_type": "code",
      "source": [
        "# @title $\\large Rotation~ of~ the~ graph~ relative~ to~ any~ point~ on~ the~ plane$\n",
        "O = r3*(cos(beta) + I*sin(beta))\n",
        "O"
      ],
      "metadata": {
        "id": "UkxwGjpGaLkA",
        "colab": {
          "base_uri": "https://localhost:8080/",
          "height": 38
        },
        "outputId": "d360d664-6765-4788-c7c5-d7b90d642f84"
      },
      "execution_count": null,
      "outputs": [
        {
          "output_type": "execute_result",
          "data": {
            "text/plain": [
              "r3*(I*sin(beta) + cos(beta))"
            ],
            "text/latex": "$\\displaystyle r_{3} \\left(i \\sin{\\left(\\beta \\right)} + \\cos{\\left(\\beta \\right)}\\right)$"
          },
          "metadata": {},
          "execution_count": 10
        }
      ]
    },
    {
      "cell_type": "code",
      "source": [
        "A1 = (position-O)*rotate\n",
        "A1"
      ],
      "metadata": {
        "id": "JlGB5IKQaLm3",
        "colab": {
          "base_uri": "https://localhost:8080/",
          "height": 38
        },
        "outputId": "9877ac97-623f-4926-86dd-b9abfe4c1986"
      },
      "execution_count": null,
      "outputs": [
        {
          "output_type": "execute_result",
          "data": {
            "text/plain": [
              "(I*sin(theta) + cos(theta))*(r1*(I*sin(alpha) + cos(alpha)) - r3*(I*sin(beta) + cos(beta)))"
            ],
            "text/latex": "$\\displaystyle \\left(i \\sin{\\left(\\theta \\right)} + \\cos{\\left(\\theta \\right)}\\right) \\left(r_{1} \\left(i \\sin{\\left(\\alpha \\right)} + \\cos{\\left(\\alpha \\right)}\\right) - r_{3} \\left(i \\sin{\\left(\\beta \\right)} + \\cos{\\left(\\beta \\right)}\\right)\\right)$"
          },
          "metadata": {},
          "execution_count": 11
        }
      ]
    },
    {
      "cell_type": "code",
      "source": [
        "A1 = A1.expand()\n",
        "A1"
      ],
      "metadata": {
        "id": "ZGhG7qzYaLoH",
        "colab": {
          "base_uri": "https://localhost:8080/",
          "height": 60
        },
        "outputId": "b538b84b-e900-4c64-89d3-e5b9be926713"
      },
      "execution_count": null,
      "outputs": [
        {
          "output_type": "execute_result",
          "data": {
            "text/plain": [
              "-r1*sin(alpha)*sin(theta) + I*r1*sin(alpha)*cos(theta) + I*r1*sin(theta)*cos(alpha) + r1*cos(alpha)*cos(theta) + r3*sin(beta)*sin(theta) - I*r3*sin(beta)*cos(theta) - I*r3*sin(theta)*cos(beta) - r3*cos(beta)*cos(theta)"
            ],
            "text/latex": "$\\displaystyle - r_{1} \\sin{\\left(\\alpha \\right)} \\sin{\\left(\\theta \\right)} + i r_{1} \\sin{\\left(\\alpha \\right)} \\cos{\\left(\\theta \\right)} + i r_{1} \\sin{\\left(\\theta \\right)} \\cos{\\left(\\alpha \\right)} + r_{1} \\cos{\\left(\\alpha \\right)} \\cos{\\left(\\theta \\right)} + r_{3} \\sin{\\left(\\beta \\right)} \\sin{\\left(\\theta \\right)} - i r_{3} \\sin{\\left(\\beta \\right)} \\cos{\\left(\\theta \\right)} - i r_{3} \\sin{\\left(\\theta \\right)} \\cos{\\left(\\beta \\right)} - r_{3} \\cos{\\left(\\beta \\right)} \\cos{\\left(\\theta \\right)}$"
          },
          "metadata": {},
          "execution_count": 12
        }
      ]
    },
    {
      "cell_type": "code",
      "source": [
        "A1 = A1.subs({r1*cos(alpha): x,\n",
        "              r1*sin(alpha): y,\n",
        "              r3*cos(beta): x0,\n",
        "              r3*sin(beta): y0})\n",
        "A1.simplify()"
      ],
      "metadata": {
        "id": "uqM6r3jYaLpn",
        "colab": {
          "base_uri": "https://localhost:8080/",
          "height": 38
        },
        "outputId": "cdabac42-873b-4411-be8d-0c09a98f994b"
      },
      "execution_count": null,
      "outputs": [
        {
          "output_type": "execute_result",
          "data": {
            "text/plain": [
              "I*x*sin(theta) + x*cos(theta) - I*x0*sin(theta) - x0*cos(theta) - y*sin(theta) + I*y*cos(theta) + y0*sin(theta) - I*y0*cos(theta)"
            ],
            "text/latex": "$\\displaystyle i x \\sin{\\left(\\theta \\right)} + x \\cos{\\left(\\theta \\right)} - i x_{0} \\sin{\\left(\\theta \\right)} - x_{0} \\cos{\\left(\\theta \\right)} - y \\sin{\\left(\\theta \\right)} + i y \\cos{\\left(\\theta \\right)} + y_{0} \\sin{\\left(\\theta \\right)} - i y_{0} \\cos{\\left(\\theta \\right)}$"
          },
          "metadata": {},
          "execution_count": 13
        }
      ]
    },
    {
      "cell_type": "code",
      "source": [
        "x1, y1 = re(A1).simplify(), im(A1)"
      ],
      "metadata": {
        "id": "fHImDtTOaLsY"
      },
      "execution_count": null,
      "outputs": []
    },
    {
      "cell_type": "code",
      "source": [
        "x1 = (x-x0)*cos(theta) - (y-y0)*sin(theta)\n",
        "x1"
      ],
      "metadata": {
        "id": "w7iuEJWBaLvH",
        "colab": {
          "base_uri": "https://localhost:8080/",
          "height": 38
        },
        "outputId": "adb75a77-9a61-4601-f352-6649c88b1430"
      },
      "execution_count": null,
      "outputs": [
        {
          "output_type": "execute_result",
          "data": {
            "text/plain": [
              "(x - x0)*cos(theta) - (y - y0)*sin(theta)"
            ],
            "text/latex": "$\\displaystyle \\left(x - x_{0}\\right) \\cos{\\left(\\theta \\right)} - \\left(y - y_{0}\\right) \\sin{\\left(\\theta \\right)}$"
          },
          "metadata": {},
          "execution_count": 15
        }
      ]
    },
    {
      "cell_type": "code",
      "source": [
        "y1 = (x-x0)*sin(theta) + (y-y0)*cos(theta)\n",
        "y1"
      ],
      "metadata": {
        "colab": {
          "base_uri": "https://localhost:8080/",
          "height": 38
        },
        "id": "l612yzH8twi7",
        "outputId": "9868b516-5f39-4abb-eb3a-6541d2ef5c31"
      },
      "execution_count": null,
      "outputs": [
        {
          "output_type": "execute_result",
          "data": {
            "text/plain": [
              "(x - x0)*sin(theta) + (y - y0)*cos(theta)"
            ],
            "text/latex": "$\\displaystyle \\left(x - x_{0}\\right) \\sin{\\left(\\theta \\right)} + \\left(y - y_{0}\\right) \\cos{\\left(\\theta \\right)}$"
          },
          "metadata": {},
          "execution_count": 16
        }
      ]
    },
    {
      "cell_type": "markdown",
      "source": [
        "# $\\large \\text{Rules of the module}$"
      ],
      "metadata": {
        "id": "LhylKlPXuPbS"
      }
    },
    {
      "cell_type": "code",
      "source": [
        "# @title $\\large Defining~ variables$\n",
        "from sympy import symbols, Lambda, Eq, Abs, exp, sqrt\n",
        "r1, r2 = symbols('r1:3', real=True)\n",
        "theta1, theta2 = symbols('theta1:3', real=True)\n",
        "r1, theta1, r2, theta2"
      ],
      "metadata": {
        "colab": {
          "base_uri": "https://localhost:8080/"
        },
        "id": "GdkThsgAuQyB",
        "outputId": "b87b04f8-1e53-4ba7-b8e9-4504670552dd"
      },
      "execution_count": null,
      "outputs": [
        {
          "output_type": "execute_result",
          "data": {
            "text/plain": [
              "(r1, theta1, r2, theta2)"
            ]
          },
          "metadata": {},
          "execution_count": 31
        }
      ]
    },
    {
      "cell_type": "code",
      "source": [
        "Eq(Abs(r1*exp(I*theta1), evaluate=False), Abs(r1))"
      ],
      "metadata": {
        "colab": {
          "base_uri": "https://localhost:8080/",
          "height": 39
        },
        "id": "nXdaP--RuQ1D",
        "outputId": "97c2ecaf-e995-4757-866e-f9c0b34e1d13"
      },
      "execution_count": null,
      "outputs": [
        {
          "output_type": "execute_result",
          "data": {
            "text/plain": [
              "Eq(Abs(r1*exp(I*theta1)), Abs(r1))"
            ],
            "text/latex": "$\\displaystyle \\left|{r_{1} e^{i \\theta_{1}}}\\right| = \\left|{r_{1}}\\right|$"
          },
          "metadata": {},
          "execution_count": 32
        }
      ]
    },
    {
      "cell_type": "code",
      "source": [
        "# @title $\\large Multiplication$\n",
        "Abs(r1*exp(I*theta1) * r2*exp(I*theta2), evaluate=False)"
      ],
      "metadata": {
        "colab": {
          "base_uri": "https://localhost:8080/",
          "height": 39
        },
        "id": "RfBHyU9YuQ3b",
        "outputId": "51441b93-93a3-484d-8629-c72ed3366a3e"
      },
      "execution_count": null,
      "outputs": [
        {
          "output_type": "execute_result",
          "data": {
            "text/plain": [
              "Abs(r1*r2*exp(I*theta1)*exp(I*theta2))"
            ],
            "text/latex": "$\\displaystyle \\left|{r_{1} r_{2} e^{i \\theta_{1}} e^{i \\theta_{2}}}\\right|$"
          },
          "metadata": {},
          "execution_count": 33
        }
      ]
    },
    {
      "cell_type": "code",
      "source": [
        "u = Abs(r1*exp(I*theta1) * r2*exp(I*theta2)).simplify()\n",
        "u"
      ],
      "metadata": {
        "colab": {
          "base_uri": "https://localhost:8080/",
          "height": 38
        },
        "id": "GDgpsTk5uQ6J",
        "outputId": "5c27245d-599d-4608-98bb-af80d8f6621b"
      },
      "execution_count": null,
      "outputs": [
        {
          "output_type": "execute_result",
          "data": {
            "text/plain": [
              "Abs(r1*r2)"
            ],
            "text/latex": "$\\displaystyle \\left|{r_{1} r_{2}}\\right|$"
          },
          "metadata": {},
          "execution_count": 34
        }
      ]
    },
    {
      "cell_type": "code",
      "source": [
        "Mod_mul = Lambda((r1, theta1, r2, theta2), Abs(r1*r2))\n",
        "Mod_mul"
      ],
      "metadata": {
        "colab": {
          "base_uri": "https://localhost:8080/",
          "height": 38
        },
        "id": "wMhKY_qtuQ7Z",
        "outputId": "84e85146-bfa6-40e4-8699-cf473264c640"
      },
      "execution_count": null,
      "outputs": [
        {
          "output_type": "execute_result",
          "data": {
            "text/plain": [
              "Lambda((r1, theta1, r2, theta2), Abs(r1*r2))"
            ],
            "text/latex": "$\\displaystyle \\left( \\left( r_{1}, \\  \\theta_{1}, \\  r_{2}, \\  \\theta_{2}\\right) \\mapsto \\left|{r_{1} r_{2}}\\right| \\right)$"
          },
          "metadata": {},
          "execution_count": 35
        }
      ]
    },
    {
      "cell_type": "code",
      "source": [
        "# @title $\\large Division$\n",
        "Abs(r1*exp(I*theta1) / r2*exp(I*theta2), evaluate=False)"
      ],
      "metadata": {
        "colab": {
          "base_uri": "https://localhost:8080/",
          "height": 59
        },
        "id": "QyBXhmS0uQ9T",
        "outputId": "36ed88d1-7809-4bc6-c97a-d15fd0a0fdde"
      },
      "execution_count": null,
      "outputs": [
        {
          "output_type": "execute_result",
          "data": {
            "text/plain": [
              "Abs(r1*exp(I*theta1)*exp(I*theta2)/r2)"
            ],
            "text/latex": "$\\displaystyle \\left|{\\frac{r_{1} e^{i \\theta_{1}} e^{i \\theta_{2}}}{r_{2}}}\\right|$"
          },
          "metadata": {},
          "execution_count": 36
        }
      ]
    },
    {
      "cell_type": "code",
      "source": [
        "u = Abs(r1*exp(I*theta1) / r2*exp(I*theta2)).simplify()\n",
        "u"
      ],
      "metadata": {
        "colab": {
          "base_uri": "https://localhost:8080/",
          "height": 58
        },
        "id": "sLweNsn1uQ-h",
        "outputId": "13787be3-8a41-4f72-8f3c-e9a905720fd6"
      },
      "execution_count": null,
      "outputs": [
        {
          "output_type": "execute_result",
          "data": {
            "text/plain": [
              "Abs(r1/r2)"
            ],
            "text/latex": "$\\displaystyle \\left|{\\frac{r_{1}}{r_{2}}}\\right|$"
          },
          "metadata": {},
          "execution_count": 37
        }
      ]
    },
    {
      "cell_type": "code",
      "source": [
        "Mod_div = Lambda((r1, theta1, r2, theta2), Abs(r1/r2))\n",
        "Mod_div"
      ],
      "metadata": {
        "colab": {
          "base_uri": "https://localhost:8080/",
          "height": 58
        },
        "id": "FdcVUC2tuRBB",
        "outputId": "7cd9d160-fc69-4568-bcc8-fb37ae45ab64"
      },
      "execution_count": null,
      "outputs": [
        {
          "output_type": "execute_result",
          "data": {
            "text/plain": [
              "Lambda((r1, theta1, r2, theta2), Abs(r1/r2))"
            ],
            "text/latex": "$\\displaystyle \\left( \\left( r_{1}, \\  \\theta_{1}, \\  r_{2}, \\  \\theta_{2}\\right) \\mapsto \\left|{\\frac{r_{1}}{r_{2}}}\\right| \\right)$"
          },
          "metadata": {},
          "execution_count": 38
        }
      ]
    },
    {
      "cell_type": "code",
      "source": [
        "# @title $\\large Summation$\n",
        "Abs(r1*exp(I*theta1) + r2*exp(I*theta2), evaluate=False)"
      ],
      "metadata": {
        "colab": {
          "base_uri": "https://localhost:8080/",
          "height": 39
        },
        "id": "tjsktULBuRCJ",
        "outputId": "c2ec85ea-9dbb-4687-da6e-1e183ef95be5"
      },
      "execution_count": null,
      "outputs": [
        {
          "output_type": "execute_result",
          "data": {
            "text/plain": [
              "Abs(r1*exp(I*theta1) + r2*exp(I*theta2))"
            ],
            "text/latex": "$\\displaystyle \\left|{r_{1} e^{i \\theta_{1}} + r_{2} e^{i \\theta_{2}}}\\right|$"
          },
          "metadata": {},
          "execution_count": 39
        }
      ]
    },
    {
      "cell_type": "code",
      "source": [
        "u = Abs(r1*exp(I*theta1) + r2*exp(I*theta2)).simplify()\n",
        "u"
      ],
      "metadata": {
        "colab": {
          "base_uri": "https://localhost:8080/",
          "height": 48
        },
        "id": "Zp95YoiouRIh",
        "outputId": "0656ca9c-b421-421f-966f-fa0e7db26a4a"
      },
      "execution_count": null,
      "outputs": [
        {
          "output_type": "execute_result",
          "data": {
            "text/plain": [
              "sqrt(r1**2 + r1*r2*exp(I*(-theta1 + theta2)) + r1*r2*exp(I*(theta1 - theta2)) + r2**2)"
            ],
            "text/latex": "$\\displaystyle \\sqrt{r_{1}^{2} + r_{1} r_{2} e^{i \\left(- \\theta_{1} + \\theta_{2}\\right)} + r_{1} r_{2} e^{i \\left(\\theta_{1} - \\theta_{2}\\right)} + r_{2}^{2}}$"
          },
          "metadata": {},
          "execution_count": 40
        }
      ]
    },
    {
      "cell_type": "code",
      "source": [
        "u.subs(exp(I*(theta1-theta2)), cos(theta1-theta2) + I*sin(theta1-theta2)).subs(exp(I*(-theta1+theta2)), cos(-theta1+theta2) + I*sin(-theta1+theta2)).simplify()"
      ],
      "metadata": {
        "colab": {
          "base_uri": "https://localhost:8080/",
          "height": 48
        },
        "id": "Za2ga35SuROp",
        "outputId": "7d49e0d3-0fef-415e-e6e6-846e94220763"
      },
      "execution_count": null,
      "outputs": [
        {
          "output_type": "execute_result",
          "data": {
            "text/plain": [
              "sqrt(r1**2 + 2*r1*r2*cos(theta1 - theta2) + r2**2)"
            ],
            "text/latex": "$\\displaystyle \\sqrt{r_{1}^{2} + 2 r_{1} r_{2} \\cos{\\left(\\theta_{1} - \\theta_{2} \\right)} + r_{2}^{2}}$"
          },
          "metadata": {},
          "execution_count": 41
        }
      ]
    },
    {
      "cell_type": "code",
      "source": [
        "Mod_sum = Lambda((r1, theta1, r2, theta2), sqrt(r1**2 + r2**2 + 2*r1*r2*cos(theta2-theta1)))\n",
        "Mod_sum"
      ],
      "metadata": {
        "colab": {
          "base_uri": "https://localhost:8080/",
          "height": 58
        },
        "id": "qjNPSf8duRRZ",
        "outputId": "78982df3-aaeb-47aa-892c-eb1ce97c7186"
      },
      "execution_count": null,
      "outputs": [
        {
          "output_type": "execute_result",
          "data": {
            "text/plain": [
              "Lambda((r1, theta1, r2, theta2), sqrt(r1**2 + 2*r1*r2*cos(theta1 - theta2) + r2**2))"
            ],
            "text/latex": "$\\displaystyle \\left( \\left( r_{1}, \\  \\theta_{1}, \\  r_{2}, \\  \\theta_{2}\\right) \\mapsto \\sqrt{r_{1}^{2} + 2 r_{1} r_{2} \\cos{\\left(\\theta_{1} - \\theta_{2} \\right)} + r_{2}^{2}} \\right)$"
          },
          "metadata": {},
          "execution_count": 42
        }
      ]
    },
    {
      "cell_type": "code",
      "source": [
        "# @title $\\large Subtraction$\n",
        "Abs(r1*exp(I*theta1) - r2*exp(I*theta2), evaluate=False)"
      ],
      "metadata": {
        "colab": {
          "base_uri": "https://localhost:8080/",
          "height": 39
        },
        "id": "BpdhlS98uRS5",
        "outputId": "01740483-2774-4f53-e695-617ecaa26edb"
      },
      "execution_count": null,
      "outputs": [
        {
          "output_type": "execute_result",
          "data": {
            "text/plain": [
              "Abs(r1*exp(I*theta1) - r2*exp(I*theta2))"
            ],
            "text/latex": "$\\displaystyle \\left|{r_{1} e^{i \\theta_{1}} - r_{2} e^{i \\theta_{2}}}\\right|$"
          },
          "metadata": {},
          "execution_count": 43
        }
      ]
    },
    {
      "cell_type": "code",
      "source": [
        "u = Abs(r1*exp(I*theta1) - r2*exp(I*theta2)).simplify()\n",
        "u"
      ],
      "metadata": {
        "colab": {
          "base_uri": "https://localhost:8080/",
          "height": 48
        },
        "id": "vt4dqOS_uRVp",
        "outputId": "9cd37f69-9077-4bc1-b102-91768d7d66b5"
      },
      "execution_count": null,
      "outputs": [
        {
          "output_type": "execute_result",
          "data": {
            "text/plain": [
              "sqrt(r1**2 - r1*r2*exp(I*(-theta1 + theta2)) - r1*r2*exp(I*(theta1 - theta2)) + r2**2)"
            ],
            "text/latex": "$\\displaystyle \\sqrt{r_{1}^{2} - r_{1} r_{2} e^{i \\left(- \\theta_{1} + \\theta_{2}\\right)} - r_{1} r_{2} e^{i \\left(\\theta_{1} - \\theta_{2}\\right)} + r_{2}^{2}}$"
          },
          "metadata": {},
          "execution_count": 44
        }
      ]
    },
    {
      "cell_type": "code",
      "source": [
        "u.subs(exp(I*(theta1-theta2)), cos(theta1-theta2) + I*sin(theta1-theta2)).subs(exp(I*(-theta1+theta2)), cos(-theta1+theta2) + I*sin(-theta1+theta2)).simplify()"
      ],
      "metadata": {
        "colab": {
          "base_uri": "https://localhost:8080/",
          "height": 48
        },
        "id": "-ebzzC69uR4o",
        "outputId": "209a2328-21a4-4a1f-a838-bfb0044342ea"
      },
      "execution_count": null,
      "outputs": [
        {
          "output_type": "execute_result",
          "data": {
            "text/plain": [
              "sqrt(r1**2 - 2*r1*r2*cos(theta1 - theta2) + r2**2)"
            ],
            "text/latex": "$\\displaystyle \\sqrt{r_{1}^{2} - 2 r_{1} r_{2} \\cos{\\left(\\theta_{1} - \\theta_{2} \\right)} + r_{2}^{2}}$"
          },
          "metadata": {},
          "execution_count": 45
        }
      ]
    },
    {
      "cell_type": "code",
      "source": [
        "Mod_sub = Lambda((r1, theta1, r2, theta2), sqrt(r1**2 + r2**2 - 2*r1*r2*cos(theta1-theta2)))\n",
        "Mod_sub"
      ],
      "metadata": {
        "colab": {
          "base_uri": "https://localhost:8080/",
          "height": 58
        },
        "id": "bnHTjW2huR5s",
        "outputId": "0830c3a1-b5b3-429a-ba1e-04adcfc968eb"
      },
      "execution_count": null,
      "outputs": [
        {
          "output_type": "execute_result",
          "data": {
            "text/plain": [
              "Lambda((r1, theta1, r2, theta2), sqrt(r1**2 - 2*r1*r2*cos(theta1 - theta2) + r2**2))"
            ],
            "text/latex": "$\\displaystyle \\left( \\left( r_{1}, \\  \\theta_{1}, \\  r_{2}, \\  \\theta_{2}\\right) \\mapsto \\sqrt{r_{1}^{2} - 2 r_{1} r_{2} \\cos{\\left(\\theta_{1} - \\theta_{2} \\right)} + r_{2}^{2}} \\right)$"
          },
          "metadata": {},
          "execution_count": 46
        }
      ]
    }
  ]
}
